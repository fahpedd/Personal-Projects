{
 "cells": [
  {
   "cell_type": "code",
   "execution_count": 1,
   "metadata": {
    "collapsed": true
   },
   "outputs": [],
   "source": [
    "import numpy as np \n",
    "import pandas as pd \n",
    "import seaborn as sns\n",
    "import matplotlib.pyplot as plt\n",
    "%matplotlib inline\n",
    "\n",
    "import warnings\n",
    "%config InlineBackend.figure_format = 'png' #set 'png' here when working on notebook\n",
    "warnings.filterwarnings('ignore') \n",
    "\n",
    "# Set some parameters to get good visuals - style to ggplot and size to 15,10\n",
    "pd.set_option('display.precision',4)\n",
    "\n",
    "pd.set_option('display.width',170, 'display.max_rows',200, 'display.max_columns',900)"
   ]
  },
  {
   "cell_type": "code",
   "execution_count": 2,
   "metadata": {
    "collapsed": true
   },
   "outputs": [],
   "source": [
    "df = pd.read_csv(\"mortgage_arrears.csv\")"
   ]
  },
  {
   "cell_type": "markdown",
   "metadata": {},
   "source": [
    "##### 26 in the Republic of Ireland and 6 in Northern Ireland .\n",
    "This project is about Republic of Ireland\n",
    "##### State"
   ]
  },
  {
   "cell_type": "code",
   "execution_count": 3,
   "metadata": {
    "collapsed": true
   },
   "outputs": [],
   "source": [
    "#list(df.columns)"
   ]
  },
  {
   "cell_type": "code",
   "execution_count": 4,
   "metadata": {
    "collapsed": true
   },
   "outputs": [],
   "source": [
    "#https://www.ireland.com/en-us/about-ireland/discover-ireland/ireland-counties-and-provinces/\n",
    "df['Provinces'] = ['Leinster',\n",
    "'Ulster',\n",
    "'Munster',\n",
    "'Munster',\n",
    "'Ulster',\n",
    "'Leinster',\n",
    "'Connacht',\n",
    "'Munster',\n",
    "'Leinster',\n",
    "'Leinster',\n",
    "'Leinster',\n",
    "'Connacht',\n",
    "'Munster',\n",
    "'Leinster',\n",
    "'Leinster',\n",
    "'Connacht',\n",
    "'Leinster',\n",
    "'Ulster',\n",
    "'Leinster',\n",
    "'Connacht',\n",
    "'Connacht',\n",
    "'Munster',\n",
    "'Munster',\n",
    "'Leinster',\n",
    "'Leinster',\n",
    "'Leinster',\n",
    "'Ireland']\n"
   ]
  },
  {
   "cell_type": "markdown",
   "metadata": {},
   "source": [
    "### Remove the last row  that is the country"
   ]
  },
  {
   "cell_type": "code",
   "execution_count": 5,
   "metadata": {
    "collapsed": true
   },
   "outputs": [],
   "source": [
    "df = df.head(26)"
   ]
  },
  {
   "cell_type": "markdown",
   "metadata": {},
   "source": [
    "###### Create new features using the difference between yearly and 5 yearly data from census"
   ]
  },
  {
   "cell_type": "code",
   "execution_count": 6,
   "metadata": {
    "collapsed": true
   },
   "outputs": [],
   "source": [
    "#Mortgage Count\n",
    "df['diff_mortgage_count_1'] = df['2012_Mortgate_Count'] - df['2011_Mortgate_Count']\n",
    "df['diff_mortgage_count_2'] = df['2013_Mortgate_Count'] - df['2012_Mortgate_Count']\n",
    "df['diff_mortgage_count_3'] = df['2014_Mortgate_Count'] - df['2013_Mortgate_Count']\n",
    "df['diff_mortgage_count_4'] = df['2015_Mortgate_Count'] - df['2014_Mortgate_Count']\n",
    "df['diff_mortgage_count_5'] = df['2016_Countof_mortgages'] - df['2015_Mortgate_Count'] # Different column name\n",
    "df['diff_mortgage_count_6'] = df['2017_Mortgate_Count'] - df['2016_Countof_mortgages']\n"
   ]
  },
  {
   "cell_type": "code",
   "execution_count": 7,
   "metadata": {
    "collapsed": true
   },
   "outputs": [],
   "source": [
    "#New House Prices\n",
    "df['diff_new_house_price_1'] = df['2012_New_House_Price'] - df['2011_New_House_Price']\n",
    "df['diff_new_house_price_2'] = df['2013_New_House_Price'] - df['2012_New_House_Price']\n",
    "df['diff_new_house_price_3'] = df['2014_New_House_Price'] - df['2013_New_House_Price']\n",
    "df['diff_new_house_price_4'] = df['2015_New_House_Price'] - df['2014_New_House_Price']\n",
    "df['diff_new_house_price_5'] = df['2016_New_House_Price '] - df['2015_New_House_Price'] # Extra space in the column name\n",
    "df['diff_new_house_price_6'] = df['2017_New_House_Price'] - df['2016_New_House_Price ']\n",
    "\n"
   ]
  },
  {
   "cell_type": "code",
   "execution_count": 8,
   "metadata": {
    "collapsed": true
   },
   "outputs": [],
   "source": [
    "#Second House Prices\n",
    "df['diff_secondhand_house_price_1'] = df['2012_Second_Hand_Price'] - df['2011_Second_Hand_Price']\n",
    "df['diff_secondhand_house_price_2'] = df['2013_Second_Hand_Price'] - df['2012_Second_Hand_Price']\n",
    "df['diff_secondhand_house_price_3'] = df['2014_Second_Hand_Price'] - df['2013_Second_Hand_Price']\n",
    "df['diff_secondhand_house_price_4'] = df['2015_Second_Hand_Price'] - df['2014_Second_Hand_Price']\n",
    "df['diff_secondhand_house_price_5'] = df['2016_Second_Hand_Price'] - df['2015_Second_Hand_Price']\n",
    "df['diff_secondhand_house_price_6'] = df['2017_Second_Hand_Price'] - df['2016_Second_Hand_Price']"
   ]
  },
  {
   "cell_type": "code",
   "execution_count": 9,
   "metadata": {
    "collapsed": true
   },
   "outputs": [],
   "source": [
    "#Sum House Prices\n",
    "df['diff_sum_house_price_1'] = df['2012_Sum_of_Price'] - df['2011_Sum_of_Price']\n",
    "df['diff_sum_house_price_2'] = df['2013_Sum_of_Price'] - df['2012_Sum_of_Price']\n",
    "df['diff_sum_house_price_3'] = df['2014_Sum_of_Price'] - df['2013_Sum_of_Price']\n",
    "df['diff_sum_house_price_4'] = df['2015_Sum_of_Price'] - df['2014_Sum_of_Price']\n",
    "df['diff_sum_house_price_5'] = df['2016_Sum_of_Price'] - df['2015_Sum_of_Price']\n",
    "df['diff_sum_house_price_6'] = df['2017_Sum_of_Price'] - df['2016_Sum_of_Price']"
   ]
  },
  {
   "cell_type": "code",
   "execution_count": 10,
   "metadata": {
    "collapsed": true
   },
   "outputs": [],
   "source": [
    "#Average Interest Rate\n",
    "df['diff_interestrate_1'] = df['2012_AVG_Interest_Rate'] - df['2011_AVG_Interest_Rate']\n",
    "df['diff_interestrate_2'] = df['2013_AVG_Interest_Rate'] - df['2012_AVG_Interest_Rate']\n",
    "df['diff_interestrate_3'] = df['2014_AVG_Interest_Rate'] - df['2013_AVG_Interest_Rate']\n",
    "df['diff_interestrate_4'] = df['2015_AVG_Interest_Rate'] - df['2014_AVG_Interest_Rate']\n",
    "df['diff_interestrate_5'] = df['2016_AVG_Interest_Rate'] - df['2015_AVG_Interest_Rate']\n",
    "df['diff_interestrate_6'] = df['2017_AVG_Interest_Rate'] - df['2016_AVG_Interest_Rate']"
   ]
  },
  {
   "cell_type": "code",
   "execution_count": 11,
   "metadata": {
    "collapsed": true
   },
   "outputs": [],
   "source": [
    "#Loan Arrears\n",
    "df['diff_loanarrears_1'] = df['2012_LA_Arrears'] - df['2011_LA_Arrears']\n",
    "df['diff_loanarrears_2'] = df['2013_LA_Arrears'] - df['2012_LA_Arrears']\n",
    "df['diff_loanarrears_3'] = df['2014_LA_Arrears'] - df['2013_LA_Arrears']\n",
    "df['diff_loanarrears_4'] = df['2015_LA_Arrears'] - df['2014_LA_Arrears']\n",
    "df['diff_loanarrears_5'] = df['2016_LA_Arrears'] - df['2015_LA_Arrears']\n",
    "df['diff_loanarrears_6'] = df['2017_LA_Arrears'] - df['2016_LA_Arrears']"
   ]
  },
  {
   "cell_type": "code",
   "execution_count": 12,
   "metadata": {
    "collapsed": true
   },
   "outputs": [],
   "source": [
    "#Loans Approved\n",
    "df['diff_loanapproved_1'] = df['2012_Loans Approved'] - df['2011_Loans Approved']\n",
    "df['diff_loanapproved_2'] = df['2013_Loans Approved'] - df['2012_Loans Approved']\n",
    "df['diff_loanapproved_3'] = df['2014_Loans Approved'] - df['2013_Loans Approved']\n",
    "df['diff_loanapproved_4'] = df['2015_Loans Approved'] - df['2014_Loans Approved']\n",
    "df['diff_loanapproved_5'] = df['2016_Loans_Approved'] - df['2015_Loans Approved']\n",
    "df['diff_loanapproved_6'] = df['2017_Loans Approved'] - df['2016_Loans_Approved']"
   ]
  },
  {
   "cell_type": "code",
   "execution_count": 13,
   "metadata": {
    "collapsed": true
   },
   "outputs": [],
   "source": [
    "#Loans Paid\n",
    "df['diff_loanpaid_1'] = df['2012_Loans_Paid'] - df['2011_Loans_Paid']\n",
    "df['diff_loanpaid_2'] = df['2013_Loans_Paid'] - df['2012_Loans_Paid']\n",
    "df['diff_loanpaid_3'] = df['2014_Loans_Paid'] - df['2013_Loans_Paid']\n",
    "df['diff_loanpaid_4'] = df['2015_Loans_Paid'] - df['2014_Loans_Paid']\n",
    "df['diff_loanpaid_5'] = df['2016_Loans_Paid'] - df['2015_Loans_Paid']\n",
    "df['diff_loanpaid_6'] = df['2017_Loans_Paid'] - df['2016_Loans_Paid']\n"
   ]
  },
  {
   "cell_type": "markdown",
   "metadata": {},
   "source": [
    "###### Diversity in county according to Sex. Take a difference between the 5 years"
   ]
  },
  {
   "cell_type": "code",
   "execution_count": 14,
   "metadata": {
    "collapsed": true
   },
   "outputs": [],
   "source": [
    "\n",
    "df['2011_diversity_bothsexes'] = df[['2011_African-Both sexes',\n",
    "'2011_All nationalities-Both sexes',\n",
    "'2011_American (US)-Both sexes', \n",
    " '2011_Brazilian-Both sexes',\n",
    " '2011_French-Both sexes',\n",
    " '2011_German-Both sexes',\n",
    " '2011_Indian-Both sexes',\n",
    " '2011_Irish-Both sexes', \n",
    " '2011_Italian-Both sexes',\n",
    " '2011_Latvian-Both sexes',\n",
    " '2011_Lithuanian-Both sexes', \n",
    " '2011_Not stated, including no nationality-Both sexes', \n",
    " '2011_Other American-Both sexes', \n",
    " '2011_Other Asian-Both sexes', \n",
    " '2011_Other EU28-Both sexes', \n",
    " '2011_Other European-Both sexes',\n",
    " '2011_Other nationalities-Both sexes',\n",
    " '2011_Polish-Both sexes', \n",
    " '2011_Romanian-Both sexes', \n",
    " '2011_Spanish-Both sexes', \n",
    " '2011_UK-Both sexes']].sum(axis = 1)"
   ]
  },
  {
   "cell_type": "code",
   "execution_count": 15,
   "metadata": {
    "collapsed": true
   },
   "outputs": [],
   "source": [
    "\n",
    "df['2016_diversity_bothsexes'] = df[['2016_African-Both sexes',\n",
    "'2016_All nationalities-Both sexes',\n",
    "'2016_American (US)-Both sexes', \n",
    " '2016_Brazilian-Both sexes',\n",
    " '2016_French-Both sexes',\n",
    " '2016_German-Both sexes',\n",
    " '2016_Indian-Both sexes',\n",
    " '2016_Irish-Both sexes', \n",
    " '2016_Italian-Both sexes',\n",
    " '2016_Latvian-Both sexes',\n",
    " '2016_Lithuanian-Both sexes', \n",
    " '2016_Not stated, including no nationality-Both sexes', \n",
    " '2016_Other American-Both sexes', \n",
    " '2016_Other Asian-Both sexes', \n",
    " '2016_Other EU28-Both sexes', \n",
    " '2016_Other European-Both sexes',\n",
    " '2016_Other nationalities-Both sexes',\n",
    " '2016_Polish-Both sexes', \n",
    " '2016_Romanian-Both sexes', \n",
    " '2016_Spanish-Both sexes', \n",
    " '2016_UK-Both sexes']].sum(axis = 1)"
   ]
  },
  {
   "cell_type": "code",
   "execution_count": 16,
   "metadata": {
    "collapsed": true
   },
   "outputs": [],
   "source": [
    "df['diff_diversity_bothsexes'] = df['2016_diversity_bothsexes'] - df['2011_diversity_bothsexes']"
   ]
  },
  {
   "cell_type": "code",
   "execution_count": 17,
   "metadata": {
    "collapsed": true
   },
   "outputs": [],
   "source": [
    "#df['diff_diversity_bothsexes']"
   ]
  },
  {
   "cell_type": "code",
   "execution_count": 18,
   "metadata": {
    "collapsed": true
   },
   "outputs": [],
   "source": [
    "df['2011_diversity_female'] = df[['2011_African-Female',\n",
    "'2011_All nationalities-Female',\n",
    "'2011_American (US)-Female',\n",
    "'2011_Brazilian-Female',\n",
    "'2011_French-Female',\n",
    "'2011_German-Female',\n",
    " '2011_Indian-Female',\n",
    "'2011_Irish-Female',\n",
    " '2011_Italian-Female',\n",
    " '2011_Latvian-Female',\n",
    "'2011_Lithuanian-Female',\n",
    "'2011_Not stated, including no nationality-Female',\n",
    "'2011_Other American-Female',\n",
    " '2011_Other Asian-Female',\n",
    "'2011_Other EU28-Female',\n",
    " '2011_Other European-Female',\n",
    "'2011_Other nationalities-Female',\n",
    "'2011_Polish-Female',\n",
    "'2011_Romanian-Female',\n",
    "'2011_Spanish-Female',\n",
    " '2011_UK-Female']].sum(axis = 1)"
   ]
  },
  {
   "cell_type": "code",
   "execution_count": 19,
   "metadata": {
    "collapsed": true
   },
   "outputs": [],
   "source": [
    "df['2016_diversity_female'] = df[['2016_African-Female',\n",
    "'2016_All nationalities-Female',\n",
    "'2016_American (US)-Female',\n",
    "'2016_Brazilian-Female',\n",
    "'2016_French-Female',\n",
    "'2016_German-Female',\n",
    " '2016_Indian-Female',\n",
    "'2016_Irish-Female',\n",
    " '2016_Italian-Female',\n",
    " '2016_Latvian-Female',\n",
    "'2016_Lithuanian-Female',\n",
    "'2016_Not stated, including no nationality-Female',\n",
    "'2016_Other American-Female',\n",
    " '2016_Other Asian-Female',\n",
    "'2016_Other EU28-Female',\n",
    " '2016_Other European-Female',\n",
    "'2016_Other nationalities-Female',\n",
    "'2016_Polish-Female',\n",
    "'2016_Romanian-Female',\n",
    "'2016_Spanish-Female',\n",
    " '2016_UK-Female']].sum(axis = 1)"
   ]
  },
  {
   "cell_type": "code",
   "execution_count": 20,
   "metadata": {
    "collapsed": true
   },
   "outputs": [],
   "source": [
    "df['diff_diversity_female'] = df['2016_diversity_female'] - df['2011_diversity_female']"
   ]
  },
  {
   "cell_type": "code",
   "execution_count": 21,
   "metadata": {
    "collapsed": true
   },
   "outputs": [],
   "source": [
    "df['2011_diversity_male'] = df[[ '2011_African-Male',\n",
    "'2011_All nationalities-Male',\n",
    " '2011_American (US)-Male',\n",
    " '2011_Brazilian-Male',\n",
    "  '2011_French-Male',\n",
    " '2011_German-Male',\n",
    " '2011_Indian-Male',\n",
    "'2011_Irish-Male',\n",
    " '2011_Italian-Male',\n",
    " '2011_Latvian-Male',\n",
    " '2011_Lithuanian-Male',\n",
    " '2011_Not stated, including no nationality-Male',\n",
    "'2011_Other American-Male',\n",
    "'2011_Other Asian-Male',\n",
    "'2011_Other EU28-Male',\n",
    " '2011_Other European-Male',\n",
    " '2011_Other nationalities-Male',\n",
    "'2011_Polish-Male',\n",
    "'2011_Romanian-Male',\n",
    "'2011_Spanish-Male',\n",
    " '2011_UK-Male']].sum(axis = 1)"
   ]
  },
  {
   "cell_type": "code",
   "execution_count": 22,
   "metadata": {
    "collapsed": true
   },
   "outputs": [],
   "source": [
    "df['2016_diversity_male'] = df[[ '2016_African-Male',\n",
    "'2016_All nationalities-Male',\n",
    " '2016_American (US)-Male',\n",
    " '2016_Brazilian-Male',\n",
    "  '2016_French-Male',\n",
    " '2016_German-Male',\n",
    " '2016_Indian-Male',\n",
    "'2016_Irish-Male',\n",
    " '2016_Italian-Male',\n",
    " '2016_Latvian-Male',\n",
    " '2016_Lithuanian-Male',\n",
    " '2016_Not stated, including no nationality-Male',\n",
    "'2016_Other American-Male',\n",
    "'2016_Other Asian-Male',\n",
    "'2016_Other EU28-Male',\n",
    " '2016_Other European-Male',\n",
    " '2016_Other nationalities-Male',\n",
    "'2016_Polish-Male',\n",
    "'2016_Romanian-Male',\n",
    "'2016_Spanish-Male',\n",
    " '2016_UK-Male']].sum(axis = 1)"
   ]
  },
  {
   "cell_type": "code",
   "execution_count": 23,
   "metadata": {
    "collapsed": true
   },
   "outputs": [],
   "source": [
    "df['diff_diversity_male'] = df['2016_diversity_male'] - df['2011_diversity_male']"
   ]
  },
  {
   "cell_type": "code",
   "execution_count": 24,
   "metadata": {
    "collapsed": true
   },
   "outputs": [],
   "source": [
    "df['diff_male_population'] = df['2016_Male_Population'] - df['2011_Male_Population']"
   ]
  },
  {
   "cell_type": "code",
   "execution_count": 25,
   "metadata": {
    "collapsed": true
   },
   "outputs": [],
   "source": [
    "df['diff_female_population'] = df['2016_Female_Population'] - df['2011_Female_Population']"
   ]
  },
  {
   "cell_type": "code",
   "execution_count": 26,
   "metadata": {
    "collapsed": true
   },
   "outputs": [],
   "source": [
    "df['diff_total_population'] = df['2016_Total_Population'] - df['2011_Total_Population']"
   ]
  },
  {
   "cell_type": "code",
   "execution_count": 27,
   "metadata": {
    "collapsed": true
   },
   "outputs": [],
   "source": [
    "df['diff_migration_population'] = df['2016_Migration_Population'] - df['2011_Migration_Population']"
   ]
  },
  {
   "cell_type": "code",
   "execution_count": 28,
   "metadata": {
    "collapsed": true
   },
   "outputs": [],
   "source": [
    "df['diff_1-14years_population'] = df['2016_1 - 14 years'] -df['2011_1 - 14 years']\n",
    "df['diff_15-19years_population'] = df['2016_15 - 19 years'] -df['2011_15 - 19 years']\n",
    "df['diff_20-24years_population'] = df['2016_20 - 24 years'] -df['2011_20 - 24 years']\n",
    "df['diff_25-29years_population'] = df['2016_25 - 29 years'] -df['2011_25 - 29 years']\n",
    "df['diff_30-34years_population'] = df['2016_30 - 34 years'] -df['2011_30 - 34 years']\n",
    "df['diff_35-44years_population'] = df['2016_35 - 44 years'] -df['2011_35 - 44 years']\n",
    "df['diff_45-54years_population'] = df['2016_45 - 54 years'] -df['2011_45 - 54 years']\n",
    "df['diff_55-64years_population'] = df['2016_55 - 64 years'] -df['2011_55 - 64 years']\n",
    "df['diff_65-74years_population'] = df['2016_65 - 74 years'] -df['2011_65 - 74 years']\n",
    "df['diff_75years_over_population'] = df['2016_75 years and over'] -df['2011_75 years and over']"
   ]
  },
  {
   "cell_type": "code",
   "execution_count": 29,
   "metadata": {
    "collapsed": true
   },
   "outputs": [],
   "source": [
    "#Employment\n",
    "df['diff_employment'] = df['2016_employment'] - df['2011_employment']\n",
    "df['diff_average'] = df['Average of 2016'] - df['Average of 2011']\n",
    "df['diff_All persons aged 15 years and over'] = df['2016_All persons aged 15 years and over'] - df['2011_All persons aged 15 years and over']\n",
    "df['diff_Employer or own account worker'] = df['2016_Employer or own account worker'] - df['2011_Employer or own account worker']\n",
    "df['diff_Employee'] = df['2016_Employee'] - df['2011_Employee']\n",
    "df['diff_Assisting_relative'] = df['2016_Assisting_relative'] - df['2011_Assisting_relative']\n",
    "df['diff_Unemployed looking for first regular job'] = df['2016_Unemployed looking for first regular job'] - df['2011_Unemployed looking for first regular job']\n",
    "df['diff_Unemployed having lost or given up previous job'] = df['2016_Unemployed having lost or given up previous job'] - df['2011_Unemployed having lost or given up previous job']\n",
    "df['diff_Student'] = df['2016_Student'] - df['2011_Student']\n",
    "df['diff_Looking after home/family'] = df['2016_Looking after home/family'] - df['2011_Looking after home/family']\n",
    "df['diff_Retired'] = df['2016_Retired'] - df['2011_Retired']\n",
    "df['diff_Unable to work due to permanent sickness or disability'] = df['2016_Unable to work due to permanent sickness or disability'] - df['2011_Unable to work due to permanent sickness or disability']\n",
    "df['diff_Other economic status'] = df['2016_Other economic status'] - df['2011_Other economic status']"
   ]
  },
  {
   "cell_type": "code",
   "execution_count": 30,
   "metadata": {
    "collapsed": true
   },
   "outputs": [],
   "source": [
    "#martital Status\n",
    "df['diff_Married_First_Marriage'] = df['2016_Married_First_Marriage'] - df['2011_Married_First_Marriage']\n",
    "df['diff_divorced'] = df['2016_Divorsed'] - df['2011_Divorsed']\n",
    "df['diff_Same_Sex_Civil Partners'] = df['2016_Same_Sex_Civil Partners'] - df['2011_Same_Sex_Civil Partners']\n",
    "df['diff_Remarried'] = df['2016_Remarried'] - df['2011_Remarried']\n",
    "df['diff_Seperated'] = df['2016_Seperated'] - df['2011_Seperated']\n",
    "df['diff_Single'] = df['2016_Single'] - df['2011_Single']\n",
    "df['diff_Widowed'] = df['2016_Widowed'] - df['2011_Widowed']\n",
    "df['diff_Remarried'] = df['2016_Remarried'] - df['2011_Remarried']\n",
    "\n"
   ]
  },
  {
   "cell_type": "code",
   "execution_count": 31,
   "metadata": {
    "collapsed": true
   },
   "outputs": [],
   "source": [
    "#Commmuter Information\n",
    "df['diff_all_depature_timeAll_Persons'] = df['2016_all_depature_timeAll_Persons'] - df['2011_all_depature_timeAll_Persons']\n",
    "df['diff_all_depature_time_Children at school aged between 5 and 12 years'] = df['2016_all_depature_time_Children at school aged between 5 and 12 years'] - df['2011_all_depature_time_Children at school aged between 5 and 12 years']\n",
    "df['diff_all_depature_time_Students at school or college aged between 13 and 18 years'] = df['2016_all_depature_time_Students at school or college aged between 13 and 18 years'] - df['2011_all_depature_time_Students at school or college aged between 13 and 18 years']\n",
    "df['diff_all_depature_time_Students at school or college aged 19 years and over'] = df['2016_all_depature_time_Students at school or college aged 19 years and over'] - df['2011_all_depature_time_Students at school or college aged 19 years and over']\n",
    "df['diff_all_depature_time_Population aged 15 years and over at work'] = df['2016_all_depature_time_Population aged 15 years and over at work'] - df['2011_all_depature_time_Population aged 15 years and over at work']"
   ]
  },
  {
   "cell_type": "code",
   "execution_count": 32,
   "metadata": {
    "collapsed": true
   },
   "outputs": [],
   "source": [
    "#Type of house\n",
    "df['diff_AllPrivate'] = df['2016_AllPrivate'] - df['2011_AllPrivate']\n"
   ]
  },
  {
   "cell_type": "code",
   "execution_count": 33,
   "metadata": {
    "collapsed": true
   },
   "outputs": [],
   "source": [
    "#df"
   ]
  },
  {
   "cell_type": "code",
   "execution_count": 34,
   "metadata": {},
   "outputs": [
    {
     "data": {
      "text/plain": [
       "(26, 382)"
      ]
     },
     "execution_count": 34,
     "metadata": {},
     "output_type": "execute_result"
    }
   ],
   "source": [
    "df.shape"
   ]
  },
  {
   "cell_type": "code",
   "execution_count": 35,
   "metadata": {
    "collapsed": true
   },
   "outputs": [],
   "source": [
    "df['2012_Employees'] = df['2012_Employees'].apply(lambda x: float(x.replace(',', '')))\n",
    "df['2013_Employees'] = df['2013_Employees'].apply(lambda x: float(x.replace(',', '')))\n",
    "df['2014_Employees'] = df['2014_Employees'].apply(lambda x: float(x.replace(',', '')))\n",
    "df['2015_Employees'] = df['2015_Employees'].apply(lambda x: float(x.replace(',', '')))\n",
    "df['2016_Employees'] = df['2016_Employees'].apply(lambda x: float(x.replace(',', '')))"
   ]
  },
  {
   "cell_type": "code",
   "execution_count": 36,
   "metadata": {
    "collapsed": true
   },
   "outputs": [],
   "source": [
    "#list(train.columns)"
   ]
  },
  {
   "cell_type": "code",
   "execution_count": 37,
   "metadata": {
    "collapsed": true
   },
   "outputs": [],
   "source": [
    "df['sum_forced_possesion'] = df['2011_Forced'] + df['2012_Forced'] + df['2014_Forced'] + df['2015_Forced'] + df['2016_Forced']"
   ]
  },
  {
   "cell_type": "code",
   "execution_count": 38,
   "metadata": {
    "collapsed": true
   },
   "outputs": [],
   "source": [
    "df['sum_voluntary_possesion'] = df['2011_Voluntary'] + df['2012_Voluntary'] + df['2014_Voluntary'] + df['2015_Voluntary']"
   ]
  },
  {
   "cell_type": "code",
   "execution_count": 39,
   "metadata": {
    "collapsed": true
   },
   "outputs": [],
   "source": [
    "df['sum_societal'] = df[['diff_employment',\n",
    " 'diff_Married_First_Marriage',\n",
    " 'diff_divorced',\n",
    " 'diff_Same_Sex_Civil Partners',\n",
    " 'diff_Remarried',\n",
    " 'diff_Seperated',\n",
    " 'diff_Single',\n",
    " 'diff_Widowed']].sum(axis =1)"
   ]
  },
  {
   "cell_type": "code",
   "execution_count": 40,
   "metadata": {
    "collapsed": true
   },
   "outputs": [],
   "source": [
    "df['sum_population'] = df[['diff_male_population',\n",
    " 'diff_female_population',\n",
    " 'diff_total_population',\n",
    " 'diff_migration_population']].sum(axis =1)"
   ]
  },
  {
   "cell_type": "code",
   "execution_count": 41,
   "metadata": {
    "collapsed": true
   },
   "outputs": [],
   "source": [
    "df['sum_commuter'] = df[['diff_all_depature_timeAll_Persons',\n",
    " 'diff_all_depature_time_Children at school aged between 5 and 12 years',\n",
    " 'diff_all_depature_time_Students at school or college aged between 13 and 18 years',\n",
    " 'diff_all_depature_time_Students at school or college aged 19 years and over',\n",
    " 'diff_all_depature_time_Population aged 15 years and over at work']].sum(axis =1)"
   ]
  },
  {
   "cell_type": "code",
   "execution_count": 42,
   "metadata": {
    "collapsed": true
   },
   "outputs": [],
   "source": [
    "df['ratio_commuter_population'] = df['sum_commuter'] / df['sum_population']"
   ]
  },
  {
   "cell_type": "code",
   "execution_count": 43,
   "metadata": {
    "collapsed": true
   },
   "outputs": [],
   "source": [
    "#list(df.columns)"
   ]
  },
  {
   "cell_type": "code",
   "execution_count": 44,
   "metadata": {},
   "outputs": [],
   "source": [
    "train = df[['County','sum_forced_possesion',\n",
    " 'sum_voluntary_possesion',\n",
    " 'sum_societal',\n",
    " 'sum_population',\n",
    " 'sum_commuter',\n",
    " 'ratio_commuter_population']]\n",
    "train = train.set_index('County')"
   ]
  },
  {
   "cell_type": "markdown",
   "metadata": {},
   "source": [
    "Python's sklearn machine learning library comes with a PCA implementation. This implementation uses the scipy.linalg implementation of the singular value decomposition. It only works for dense arrays (see numPy dense arrays or sparse array PCA if you are using sparse arrays) and is not scalable to large dimensional data. "
   ]
  },
  {
   "cell_type": "code",
   "execution_count": 45,
   "metadata": {},
   "outputs": [
    {
     "data": {
      "text/plain": [
       "PCA(copy=True, iterated_power='auto', n_components=2, random_state=None,\n",
       "  svd_solver='auto', tol=0.0, whiten=False)"
      ]
     },
     "execution_count": 45,
     "metadata": {},
     "output_type": "execute_result"
    }
   ],
   "source": [
    "#https://github.com/jadianes/data-science-your-way/blob/master/03-dimensionality-reduction-and-clustering/dimensionality-reduction-clustering-python.ipynb\n",
    "from sklearn.decomposition import PCA\n",
    "\n",
    "pca = PCA(n_components=2)\n",
    "pca.fit(train)"
   ]
  },
  {
   "cell_type": "code",
   "execution_count": 46,
   "metadata": {
    "collapsed": true
   },
   "outputs": [],
   "source": [
    "existing_2d = pca.transform(train)"
   ]
  },
  {
   "cell_type": "code",
   "execution_count": 50,
   "metadata": {},
   "outputs": [
    {
     "data": {
      "text/html": [
       "<div>\n",
       "<style>\n",
       "    .dataframe thead tr:only-child th {\n",
       "        text-align: right;\n",
       "    }\n",
       "\n",
       "    .dataframe thead th {\n",
       "        text-align: left;\n",
       "    }\n",
       "\n",
       "    .dataframe tbody tr th {\n",
       "        vertical-align: top;\n",
       "    }\n",
       "</style>\n",
       "<table border=\"1\" class=\"dataframe\">\n",
       "  <thead>\n",
       "    <tr style=\"text-align: right;\">\n",
       "      <th></th>\n",
       "      <th>PC1</th>\n",
       "      <th>PC2</th>\n",
       "    </tr>\n",
       "    <tr>\n",
       "      <th>County</th>\n",
       "      <th></th>\n",
       "      <th></th>\n",
       "    </tr>\n",
       "  </thead>\n",
       "  <tbody>\n",
       "    <tr>\n",
       "      <th>Carlow</th>\n",
       "      <td>-21647.7353</td>\n",
       "      <td>-4003.7144</td>\n",
       "    </tr>\n",
       "    <tr>\n",
       "      <th>Cavan</th>\n",
       "      <td>-20134.7574</td>\n",
       "      <td>-1612.3605</td>\n",
       "    </tr>\n",
       "    <tr>\n",
       "      <th>Clare</th>\n",
       "      <td>-22335.6654</td>\n",
       "      <td>-1389.4589</td>\n",
       "    </tr>\n",
       "    <tr>\n",
       "      <th>Cork</th>\n",
       "      <td>67769.8788</td>\n",
       "      <td>10833.6201</td>\n",
       "    </tr>\n",
       "    <tr>\n",
       "      <th>Donegal</th>\n",
       "      <td>-33035.9952</td>\n",
       "      <td>8512.6859</td>\n",
       "    </tr>\n",
       "    <tr>\n",
       "      <th>Dublin</th>\n",
       "      <td>354665.9100</td>\n",
       "      <td>-3815.8514</td>\n",
       "    </tr>\n",
       "    <tr>\n",
       "      <th>Galway</th>\n",
       "      <td>1495.2292</td>\n",
       "      <td>6023.8116</td>\n",
       "    </tr>\n",
       "    <tr>\n",
       "      <th>Kerry</th>\n",
       "      <td>-18277.5234</td>\n",
       "      <td>-2134.8924</td>\n",
       "    </tr>\n",
       "    <tr>\n",
       "      <th>Kildare</th>\n",
       "      <td>15844.4501</td>\n",
       "      <td>4279.5305</td>\n",
       "    </tr>\n",
       "    <tr>\n",
       "      <th>Kilkenny</th>\n",
       "      <td>-16501.4175</td>\n",
       "      <td>-3236.7057</td>\n",
       "    </tr>\n",
       "    <tr>\n",
       "      <th>Laois</th>\n",
       "      <td>-17239.3981</td>\n",
       "      <td>93.0926</td>\n",
       "    </tr>\n",
       "    <tr>\n",
       "      <th>Leitrim</th>\n",
       "      <td>-30209.0173</td>\n",
       "      <td>-3951.7500</td>\n",
       "    </tr>\n",
       "    <tr>\n",
       "      <th>Limerick</th>\n",
       "      <td>-12444.9268</td>\n",
       "      <td>3381.0417</td>\n",
       "    </tr>\n",
       "    <tr>\n",
       "      <th>Longford</th>\n",
       "      <td>-25119.7426</td>\n",
       "      <td>-4641.6535</td>\n",
       "    </tr>\n",
       "    <tr>\n",
       "      <th>Louth</th>\n",
       "      <td>-7152.4869</td>\n",
       "      <td>11.8758</td>\n",
       "    </tr>\n",
       "    <tr>\n",
       "      <th>Mayo</th>\n",
       "      <td>-30227.5434</td>\n",
       "      <td>-1439.6076</td>\n",
       "    </tr>\n",
       "    <tr>\n",
       "      <th>Meath</th>\n",
       "      <td>11266.3842</td>\n",
       "      <td>4235.9477</td>\n",
       "    </tr>\n",
       "    <tr>\n",
       "      <th>Monaghan</th>\n",
       "      <td>-25801.0261</td>\n",
       "      <td>-1512.2430</td>\n",
       "    </tr>\n",
       "    <tr>\n",
       "      <th>Offaly</th>\n",
       "      <td>-24383.5310</td>\n",
       "      <td>-1110.9812</td>\n",
       "    </tr>\n",
       "    <tr>\n",
       "      <th>Roscommon</th>\n",
       "      <td>-29248.1939</td>\n",
       "      <td>-2416.1854</td>\n",
       "    </tr>\n",
       "    <tr>\n",
       "      <th>Sligo</th>\n",
       "      <td>-31622.8136</td>\n",
       "      <td>-3815.2344</td>\n",
       "    </tr>\n",
       "    <tr>\n",
       "      <th>Tipperary</th>\n",
       "      <td>-26183.1311</td>\n",
       "      <td>1266.6905</td>\n",
       "    </tr>\n",
       "    <tr>\n",
       "      <th>Waterford</th>\n",
       "      <td>-19901.1452</td>\n",
       "      <td>-1987.2240</td>\n",
       "    </tr>\n",
       "    <tr>\n",
       "      <th>Westmeath</th>\n",
       "      <td>-20365.8486</td>\n",
       "      <td>-2221.5458</td>\n",
       "    </tr>\n",
       "    <tr>\n",
       "      <th>Wexford</th>\n",
       "      <td>-12281.2170</td>\n",
       "      <td>1311.1971</td>\n",
       "    </tr>\n",
       "    <tr>\n",
       "      <th>Wicklow</th>\n",
       "      <td>-6928.7365</td>\n",
       "      <td>-660.0854</td>\n",
       "    </tr>\n",
       "  </tbody>\n",
       "</table>\n",
       "</div>"
      ],
      "text/plain": [
       "                   PC1         PC2\n",
       "County                            \n",
       "Carlow     -21647.7353  -4003.7144\n",
       "Cavan      -20134.7574  -1612.3605\n",
       "Clare      -22335.6654  -1389.4589\n",
       "Cork        67769.8788  10833.6201\n",
       "Donegal    -33035.9952   8512.6859\n",
       "Dublin     354665.9100  -3815.8514\n",
       "Galway       1495.2292   6023.8116\n",
       "Kerry      -18277.5234  -2134.8924\n",
       "Kildare     15844.4501   4279.5305\n",
       "Kilkenny   -16501.4175  -3236.7057\n",
       "Laois      -17239.3981     93.0926\n",
       "Leitrim    -30209.0173  -3951.7500\n",
       "Limerick   -12444.9268   3381.0417\n",
       "Longford   -25119.7426  -4641.6535\n",
       "Louth       -7152.4869     11.8758\n",
       "Mayo       -30227.5434  -1439.6076\n",
       "Meath       11266.3842   4235.9477\n",
       "Monaghan   -25801.0261  -1512.2430\n",
       "Offaly     -24383.5310  -1110.9812\n",
       "Roscommon  -29248.1939  -2416.1854\n",
       "Sligo      -31622.8136  -3815.2344\n",
       "Tipperary  -26183.1311   1266.6905\n",
       "Waterford  -19901.1452  -1987.2240\n",
       "Westmeath  -20365.8486  -2221.5458\n",
       "Wexford    -12281.2170   1311.1971\n",
       "Wicklow     -6928.7365   -660.0854"
      ]
     },
     "execution_count": 50,
     "metadata": {},
     "output_type": "execute_result"
    }
   ],
   "source": [
    "existing_df_2d = pd.DataFrame(existing_2d)\n",
    "existing_df_2d.index = train.index\n",
    "existing_df_2d.columns = ['PC1','PC2']\n",
    "existing_df_2d"
   ]
  },
  {
   "cell_type": "code",
   "execution_count": 48,
   "metadata": {},
   "outputs": [
    {
     "name": "stdout",
     "output_type": "stream",
     "text": [
      "[ 0.99464287  0.00280801]\n"
     ]
    }
   ],
   "source": [
    "print(pca.explained_variance_ratio_)"
   ]
  },
  {
   "cell_type": "markdown",
   "metadata": {},
   "source": [
    "We see that the first PC already explains almost 99.4% of the variance, while the second one accounts for another .002% for a total of almost 99.4% between the two of them."
   ]
  },
  {
   "cell_type": "code",
   "execution_count": 49,
   "metadata": {},
   "outputs": [
    {
     "data": {
      "image/png": "[encoded data removed]",
      "text/plain": [
       "<matplotlib.figure.Figure at 0x157ae479438>"
      ]
     },
     "metadata": {},
     "output_type": "display_data"
    }
   ],
   "source": [
    "%matplotlib inline\n",
    "\n",
    "ax = existing_df_2d.plot(kind='scatter', x='PC2', y='PC1', figsize=(16,12))\n",
    "\n",
    "for i, country in enumerate(train.index):\n",
    "    ax.annotate(country, (existing_df_2d.iloc[i].PC2, existing_df_2d.iloc[i].PC1))"
   ]
  },
  {
   "cell_type": "markdown",
   "metadata": {},
   "source": [
    "Let's now create a bubble chart, by setting the point size to a value proportional to the mean value for all the years in that particular country. First we need to add a new column containing the re-scaled mean per country across all the years."
   ]
  },
  {
   "cell_type": "code",
   "execution_count": 61,
   "metadata": {},
   "outputs": [
    {
     "data": {
      "text/html": [
       "<div>\n",
       "<style>\n",
       "    .dataframe thead tr:only-child th {\n",
       "        text-align: right;\n",
       "    }\n",
       "\n",
       "    .dataframe thead th {\n",
       "        text-align: left;\n",
       "    }\n",
       "\n",
       "    .dataframe tbody tr th {\n",
       "        vertical-align: top;\n",
       "    }\n",
       "</style>\n",
       "<table border=\"1\" class=\"dataframe\">\n",
       "  <thead>\n",
       "    <tr style=\"text-align: right;\">\n",
       "      <th></th>\n",
       "      <th>PC1</th>\n",
       "      <th>PC2</th>\n",
       "      <th>country_mean</th>\n",
       "      <th>county_mean</th>\n",
       "      <th>county_mean_scaled</th>\n",
       "    </tr>\n",
       "    <tr>\n",
       "      <th>County</th>\n",
       "      <th></th>\n",
       "      <th></th>\n",
       "      <th></th>\n",
       "      <th></th>\n",
       "      <th></th>\n",
       "    </tr>\n",
       "  </thead>\n",
       "  <tbody>\n",
       "    <tr>\n",
       "      <th>Carlow</th>\n",
       "      <td>-21647.7353</td>\n",
       "      <td>-4003.7144</td>\n",
       "      <td>2792.1420</td>\n",
       "      <td>2792.1420</td>\n",
       "      <td>0.0387</td>\n",
       "    </tr>\n",
       "    <tr>\n",
       "      <th>Cavan</th>\n",
       "      <td>-20134.7574</td>\n",
       "      <td>-1612.3605</td>\n",
       "      <td>2984.7662</td>\n",
       "      <td>2984.7662</td>\n",
       "      <td>0.0405</td>\n",
       "    </tr>\n",
       "    <tr>\n",
       "      <th>Clare</th>\n",
       "      <td>-22335.6654</td>\n",
       "      <td>-1389.4589</td>\n",
       "      <td>2420.9394</td>\n",
       "      <td>2420.9394</td>\n",
       "      <td>0.0352</td>\n",
       "    </tr>\n",
       "    <tr>\n",
       "      <th>Cork</th>\n",
       "      <td>67769.8788</td>\n",
       "      <td>10833.6201</td>\n",
       "      <td>28267.7770</td>\n",
       "      <td>28267.7770</td>\n",
       "      <td>0.2807</td>\n",
       "    </tr>\n",
       "    <tr>\n",
       "      <th>Donegal</th>\n",
       "      <td>-33035.9952</td>\n",
       "      <td>8512.6859</td>\n",
       "      <td>-1281.5867</td>\n",
       "      <td>-1281.5867</td>\n",
       "      <td>0.0000</td>\n",
       "    </tr>\n",
       "  </tbody>\n",
       "</table>\n",
       "</div>"
      ],
      "text/plain": [
       "                PC1         PC2  country_mean  county_mean  county_mean_scaled\n",
       "County                                                                        \n",
       "Carlow  -21647.7353  -4003.7144     2792.1420    2792.1420              0.0387\n",
       "Cavan   -20134.7574  -1612.3605     2984.7662    2984.7662              0.0405\n",
       "Clare   -22335.6654  -1389.4589     2420.9394    2420.9394              0.0352\n",
       "Cork     67769.8788  10833.6201    28267.7770   28267.7770              0.2807\n",
       "Donegal -33035.9952   8512.6859    -1281.5867   -1281.5867              0.0000"
      ]
     },
     "execution_count": 61,
     "metadata": {},
     "output_type": "execute_result"
    }
   ],
   "source": [
    "from sklearn.preprocessing import normalize\n",
    "\n",
    "existing_df_2d['county_mean'] = pd.Series(train.mean(axis=1), index=existing_df_2d.index)\n",
    "county_mean_max = existing_df_2d['county_mean'].max()\n",
    "county_mean_min = existing_df_2d['county_mean'].min()\n",
    "county_mean_scaled = (existing_df_2d.country_mean-country_mean_min) / country_mean_max\n",
    "existing_df_2d['county_mean_scaled'] = pd.Series(\n",
    "    county_mean_scaled, \n",
    "    index=existing_df_2d.index)\n",
    "existing_df_2d.head()"
   ]
  },
  {
   "cell_type": "code",
   "execution_count": 68,
   "metadata": {},
   "outputs": [
    {
     "data": {
      "text/plain": [
       "<matplotlib.axes._subplots.AxesSubplot at 0x22559f81b70>"
      ]
     },
     "execution_count": 68,
     "metadata": {},
     "output_type": "execute_result"
    },
    {
     "data": {
      "image/png": "[encoded data removed]",
      "text/plain": [
       "<matplotlib.figure.Figure at 0x2255a4c2fd0>"
      ]
     },
     "metadata": {},
     "output_type": "display_data"
    }
   ],
   "source": [
    "existing_df_2d.plot(kind='scatter', x='PC2', y='PC1', s=existing_df_2d['county_mean_scaled']*100, figsize=(16,8))\n",
    "# for i, country in enumerate(train.index):\n",
    "#     ax.annotate(country, (existing_df_2d.iloc[i].PC2, existing_df_2d.iloc[i].PC1))"
   ]
  },
  {
   "cell_type": "code",
   "execution_count": 66,
   "metadata": {},
   "outputs": [
    {
     "data": {
      "text/plain": [
       "<matplotlib.axes._subplots.AxesSubplot at 0x22559f44780>"
      ]
     },
     "execution_count": 66,
     "metadata": {},
     "output_type": "execute_result"
    },
    {
     "data": {
      "image/png": "[encoded data removed]",
      "text/plain": [
       "<matplotlib.figure.Figure at 0x2255a4c9a20>"
      ]
     },
     "metadata": {},
     "output_type": "display_data"
    }
   ],
   "source": [
    "#Sum instead of the mean\n",
    "existing_df_2d['county_sum'] = pd.Series(train.sum(axis=1), index=existing_df_2d.index)\n",
    "county_sum_max = existing_df_2d['county_sum'].max()\n",
    "county_sum_min = existing_df_2d['county_sum'].min()\n",
    "county_sum_scaled = (existing_df_2d.county_sum-county_sum_min) / county_sum_max\n",
    "existing_df_2d['county_sum_scaled'] = pd.Series(\n",
    "    county_sum_scaled, \n",
    "    index=existing_df_2d.index)\n",
    "existing_df_2d.plot(kind='scatter', x='PC2', y='PC1', s=existing_df_2d['county_sum_scaled']*100, figsize=(16,8))"
   ]
  },
  {
   "cell_type": "code",
   "execution_count": null,
   "metadata": {
    "collapsed": true
   },
   "outputs": [],
   "source": [
    "#https://mubaris.com/posts/kmeans-clustering/\n",
    "# https://jakevdp.github.io/PythonDataScienceHandbook/05.11-k-means.html\n",
    "# https://nikkimarinsek.com/blog/7-ways-to-label-a-cluster-plot-python\n",
    "# https://datascience.stackexchange.com/questions/26783/clustering-for-multiple-variable\n"
   ]
  },
  {
   "cell_type": "code",
   "execution_count": 69,
   "metadata": {
    "collapsed": true
   },
   "outputs": [],
   "source": [
    "from sklearn.cluster import KMeans\n",
    "\n",
    "kmeans = KMeans(n_clusters=5)\n",
    "\n",
    "clusters = kmeans.fit(train)"
   ]
  },
  {
   "cell_type": "code",
   "execution_count": 70,
   "metadata": {
    "collapsed": true
   },
   "outputs": [],
   "source": [
    "existing_df_2d['cluster'] = pd.Series(clusters.labels_, index=existing_df_2d.index)"
   ]
  },
  {
   "cell_type": "code",
   "execution_count": 71,
   "metadata": {},
   "outputs": [
    {
     "data": {
      "text/plain": [
       "<matplotlib.axes._subplots.AxesSubplot at 0x2255a386128>"
      ]
     },
     "execution_count": 71,
     "metadata": {},
     "output_type": "execute_result"
    },
    {
     "data": {
      "image/png": "[encoded data removed]",
      "text/plain": [
       "<matplotlib.figure.Figure at 0x2255a37c7b8>"
      ]
     },
     "metadata": {},
     "output_type": "display_data"
    }
   ],
   "source": [
    "existing_df_2d.plot(\n",
    "    kind='scatter',\n",
    "    x='PC2',y='PC1',\n",
    "    c=existing_df_2d.cluster.astype(np.float), \n",
    "    figsize=(16,8))"
   ]
  },
  {
   "cell_type": "markdown",
   "metadata": {},
   "source": [
    "##### Provinces"
   ]
  },
  {
   "cell_type": "code",
   "execution_count": 72,
   "metadata": {
    "collapsed": true
   },
   "outputs": [],
   "source": [
    "#https://datascience.stackexchange.com/questions/26783/clustering-for-multiple-variable\n",
    "#https://medium.com/square-corner-blog/so-you-have-some-clusters-now-what-abfd297a575b"
   ]
  },
  {
   "cell_type": "code",
   "execution_count": 82,
   "metadata": {
    "collapsed": true
   },
   "outputs": [],
   "source": [
    "train2 = df[['sum_forced_possesion',\n",
    " 'sum_voluntary_possesion',\n",
    " 'sum_societal',\n",
    " 'sum_population',\n",
    " 'sum_commuter',\n",
    " 'ratio_commuter_population','Provinces']]"
   ]
  },
  {
   "cell_type": "code",
   "execution_count": 93,
   "metadata": {},
   "outputs": [
    {
     "data": {
      "text/html": [
       "<div>\n",
       "<style>\n",
       "    .dataframe thead tr:only-child th {\n",
       "        text-align: right;\n",
       "    }\n",
       "\n",
       "    .dataframe thead th {\n",
       "        text-align: left;\n",
       "    }\n",
       "\n",
       "    .dataframe tbody tr th {\n",
       "        vertical-align: top;\n",
       "    }\n",
       "</style>\n",
       "<table border=\"1\" class=\"dataframe\">\n",
       "  <thead>\n",
       "    <tr style=\"text-align: right;\">\n",
       "      <th></th>\n",
       "      <th>sum_forced_possesion</th>\n",
       "      <th>sum_voluntary_possesion</th>\n",
       "      <th>sum_societal</th>\n",
       "      <th>sum_population</th>\n",
       "      <th>sum_commuter</th>\n",
       "      <th>ratio_commuter_population</th>\n",
       "      <th>Provinces</th>\n",
       "    </tr>\n",
       "  </thead>\n",
       "  <tbody>\n",
       "    <tr>\n",
       "      <th>0</th>\n",
       "      <td>3</td>\n",
       "      <td>0</td>\n",
       "      <td>7040</td>\n",
       "      <td>3404</td>\n",
       "      <td>6304</td>\n",
       "      <td>1.8519</td>\n",
       "      <td>1</td>\n",
       "    </tr>\n",
       "    <tr>\n",
       "      <th>1</th>\n",
       "      <td>1</td>\n",
       "      <td>2</td>\n",
       "      <td>9143</td>\n",
       "      <td>139</td>\n",
       "      <td>8562</td>\n",
       "      <td>61.5971</td>\n",
       "      <td>2</td>\n",
       "    </tr>\n",
       "    <tr>\n",
       "      <th>2</th>\n",
       "      <td>2</td>\n",
       "      <td>3</td>\n",
       "      <td>7042</td>\n",
       "      <td>-308</td>\n",
       "      <td>7812</td>\n",
       "      <td>-25.3636</td>\n",
       "      <td>3</td>\n",
       "    </tr>\n",
       "    <tr>\n",
       "      <th>3</th>\n",
       "      <td>6</td>\n",
       "      <td>18</td>\n",
       "      <td>70485</td>\n",
       "      <td>37230</td>\n",
       "      <td>61866</td>\n",
       "      <td>1.6617</td>\n",
       "      <td>3</td>\n",
       "    </tr>\n",
       "    <tr>\n",
       "      <th>4</th>\n",
       "      <td>1</td>\n",
       "      <td>4</td>\n",
       "      <td>1132</td>\n",
       "      <td>-18402</td>\n",
       "      <td>9576</td>\n",
       "      <td>-0.5204</td>\n",
       "      <td>2</td>\n",
       "    </tr>\n",
       "    <tr>\n",
       "      <th>5</th>\n",
       "      <td>68</td>\n",
       "      <td>21</td>\n",
       "      <td>311672</td>\n",
       "      <td>139046</td>\n",
       "      <td>180810</td>\n",
       "      <td>1.3004</td>\n",
       "      <td>1</td>\n",
       "    </tr>\n",
       "    <tr>\n",
       "      <th>6</th>\n",
       "      <td>8</td>\n",
       "      <td>5</td>\n",
       "      <td>24526</td>\n",
       "      <td>4412</td>\n",
       "      <td>25088</td>\n",
       "      <td>5.6863</td>\n",
       "      <td>4</td>\n",
       "    </tr>\n",
       "    <tr>\n",
       "      <th>7</th>\n",
       "      <td>0</td>\n",
       "      <td>5</td>\n",
       "      <td>10108</td>\n",
       "      <td>2249</td>\n",
       "      <td>9190</td>\n",
       "      <td>4.0863</td>\n",
       "      <td>3</td>\n",
       "    </tr>\n",
       "    <tr>\n",
       "      <th>8</th>\n",
       "      <td>42</td>\n",
       "      <td>1</td>\n",
       "      <td>34056</td>\n",
       "      <td>14902</td>\n",
       "      <td>31050</td>\n",
       "      <td>2.0836</td>\n",
       "      <td>1</td>\n",
       "    </tr>\n",
       "    <tr>\n",
       "      <th>9</th>\n",
       "      <td>5</td>\n",
       "      <td>3</td>\n",
       "      <td>11526</td>\n",
       "      <td>3972</td>\n",
       "      <td>9176</td>\n",
       "      <td>2.3102</td>\n",
       "      <td>1</td>\n",
       "    </tr>\n",
       "    <tr>\n",
       "      <th>10</th>\n",
       "      <td>15</td>\n",
       "      <td>17</td>\n",
       "      <td>11392</td>\n",
       "      <td>-271</td>\n",
       "      <td>11238</td>\n",
       "      <td>-41.4686</td>\n",
       "      <td>1</td>\n",
       "    </tr>\n",
       "    <tr>\n",
       "      <th>11</th>\n",
       "      <td>0</td>\n",
       "      <td>0</td>\n",
       "      <td>1297</td>\n",
       "      <td>-1815</td>\n",
       "      <td>2008</td>\n",
       "      <td>-1.1063</td>\n",
       "      <td>4</td>\n",
       "    </tr>\n",
       "    <tr>\n",
       "      <th>12</th>\n",
       "      <td>0</td>\n",
       "      <td>1</td>\n",
       "      <td>12529</td>\n",
       "      <td>3140</td>\n",
       "      <td>16828</td>\n",
       "      <td>5.3592</td>\n",
       "      <td>3</td>\n",
       "    </tr>\n",
       "    <tr>\n",
       "      <th>13</th>\n",
       "      <td>4</td>\n",
       "      <td>27</td>\n",
       "      <td>5102</td>\n",
       "      <td>1229</td>\n",
       "      <td>3936</td>\n",
       "      <td>3.2026</td>\n",
       "      <td>1</td>\n",
       "    </tr>\n",
       "    <tr>\n",
       "      <th>14</th>\n",
       "      <td>2</td>\n",
       "      <td>1</td>\n",
       "      <td>17773</td>\n",
       "      <td>6572</td>\n",
       "      <td>16404</td>\n",
       "      <td>2.4960</td>\n",
       "      <td>1</td>\n",
       "    </tr>\n",
       "    <tr>\n",
       "      <th>15</th>\n",
       "      <td>0</td>\n",
       "      <td>2</td>\n",
       "      <td>2607</td>\n",
       "      <td>-6530</td>\n",
       "      <td>3510</td>\n",
       "      <td>-0.5375</td>\n",
       "      <td>4</td>\n",
       "    </tr>\n",
       "    <tr>\n",
       "      <th>16</th>\n",
       "      <td>1</td>\n",
       "      <td>4</td>\n",
       "      <td>30213</td>\n",
       "      <td>13531</td>\n",
       "      <td>28938</td>\n",
       "      <td>2.1386</td>\n",
       "      <td>1</td>\n",
       "    </tr>\n",
       "    <tr>\n",
       "      <th>17</th>\n",
       "      <td>0</td>\n",
       "      <td>0</td>\n",
       "      <td>4444</td>\n",
       "      <td>-1805</td>\n",
       "      <td>6048</td>\n",
       "      <td>-3.3507</td>\n",
       "      <td>2</td>\n",
       "    </tr>\n",
       "    <tr>\n",
       "      <th>18</th>\n",
       "      <td>0</td>\n",
       "      <td>2</td>\n",
       "      <td>5430</td>\n",
       "      <td>-1392</td>\n",
       "      <td>7062</td>\n",
       "      <td>-5.0733</td>\n",
       "      <td>1</td>\n",
       "    </tr>\n",
       "    <tr>\n",
       "      <th>19</th>\n",
       "      <td>2</td>\n",
       "      <td>22</td>\n",
       "      <td>2526</td>\n",
       "      <td>-3718</td>\n",
       "      <td>3488</td>\n",
       "      <td>-0.9381</td>\n",
       "      <td>4</td>\n",
       "    </tr>\n",
       "    <tr>\n",
       "      <th>20</th>\n",
       "      <td>0</td>\n",
       "      <td>11</td>\n",
       "      <td>820</td>\n",
       "      <td>-3624</td>\n",
       "      <td>1250</td>\n",
       "      <td>-0.3449</td>\n",
       "      <td>4</td>\n",
       "    </tr>\n",
       "    <tr>\n",
       "      <th>21</th>\n",
       "      <td>3</td>\n",
       "      <td>1</td>\n",
       "      <td>4963</td>\n",
       "      <td>-6035</td>\n",
       "      <td>7740</td>\n",
       "      <td>-1.2825</td>\n",
       "      <td>3</td>\n",
       "    </tr>\n",
       "    <tr>\n",
       "      <th>22</th>\n",
       "      <td>8</td>\n",
       "      <td>0</td>\n",
       "      <td>8223</td>\n",
       "      <td>2522</td>\n",
       "      <td>8728</td>\n",
       "      <td>3.4607</td>\n",
       "      <td>3</td>\n",
       "    </tr>\n",
       "    <tr>\n",
       "      <th>23</th>\n",
       "      <td>5</td>\n",
       "      <td>11</td>\n",
       "      <td>8186</td>\n",
       "      <td>1983</td>\n",
       "      <td>8228</td>\n",
       "      <td>4.1493</td>\n",
       "      <td>1</td>\n",
       "    </tr>\n",
       "    <tr>\n",
       "      <th>24</th>\n",
       "      <td>6</td>\n",
       "      <td>7</td>\n",
       "      <td>14979</td>\n",
       "      <td>1108</td>\n",
       "      <td>14600</td>\n",
       "      <td>13.1769</td>\n",
       "      <td>1</td>\n",
       "    </tr>\n",
       "    <tr>\n",
       "      <th>25</th>\n",
       "      <td>3</td>\n",
       "      <td>6</td>\n",
       "      <td>17135</td>\n",
       "      <td>8726</td>\n",
       "      <td>16248</td>\n",
       "      <td>1.8620</td>\n",
       "      <td>1</td>\n",
       "    </tr>\n",
       "  </tbody>\n",
       "</table>\n",
       "</div>"
      ],
      "text/plain": [
       "    sum_forced_possesion  sum_voluntary_possesion  sum_societal  sum_population  sum_commuter  ratio_commuter_population  Provinces\n",
       "0                      3                        0          7040            3404          6304                     1.8519          1\n",
       "1                      1                        2          9143             139          8562                    61.5971          2\n",
       "2                      2                        3          7042            -308          7812                   -25.3636          3\n",
       "3                      6                       18         70485           37230         61866                     1.6617          3\n",
       "4                      1                        4          1132          -18402          9576                    -0.5204          2\n",
       "5                     68                       21        311672          139046        180810                     1.3004          1\n",
       "6                      8                        5         24526            4412         25088                     5.6863          4\n",
       "7                      0                        5         10108            2249          9190                     4.0863          3\n",
       "8                     42                        1         34056           14902         31050                     2.0836          1\n",
       "9                      5                        3         11526            3972          9176                     2.3102          1\n",
       "10                    15                       17         11392            -271         11238                   -41.4686          1\n",
       "11                     0                        0          1297           -1815          2008                    -1.1063          4\n",
       "12                     0                        1         12529            3140         16828                     5.3592          3\n",
       "13                     4                       27          5102            1229          3936                     3.2026          1\n",
       "14                     2                        1         17773            6572         16404                     2.4960          1\n",
       "15                     0                        2          2607           -6530          3510                    -0.5375          4\n",
       "16                     1                        4         30213           13531         28938                     2.1386          1\n",
       "17                     0                        0          4444           -1805          6048                    -3.3507          2\n",
       "18                     0                        2          5430           -1392          7062                    -5.0733          1\n",
       "19                     2                       22          2526           -3718          3488                    -0.9381          4\n",
       "20                     0                       11           820           -3624          1250                    -0.3449          4\n",
       "21                     3                        1          4963           -6035          7740                    -1.2825          3\n",
       "22                     8                        0          8223            2522          8728                     3.4607          3\n",
       "23                     5                       11          8186            1983          8228                     4.1493          1\n",
       "24                     6                        7         14979            1108         14600                    13.1769          1\n",
       "25                     3                        6         17135            8726         16248                     1.8620          1"
      ]
     },
     "execution_count": 93,
     "metadata": {},
     "output_type": "execute_result"
    }
   ],
   "source": [
    "dic = {\"Leinster\" : 1, \"Ulster\" : 2,\"Munster\" : 3, \"Connacht\" : 4}\n",
    "train2 = train2.replace({\"Provinces\": dic})\n",
    "train2"
   ]
  },
  {
   "cell_type": "code",
   "execution_count": 98,
   "metadata": {
    "collapsed": true
   },
   "outputs": [],
   "source": [
    "X = train2[train2.columns.difference(['Provinces'])]\n",
    "y = train2['Provinces'].reshape(-1, 1)"
   ]
  },
  {
   "cell_type": "code",
   "execution_count": 100,
   "metadata": {},
   "outputs": [
    {
     "data": {
      "image/png": "[encoded data removed]",
      "text/plain": [
       "<matplotlib.figure.Figure at 0x2255a5c7e80>"
      ]
     },
     "metadata": {},
     "output_type": "display_data"
    }
   ],
   "source": [
    "Nc = range(1, 20)\n",
    "\n",
    "kmeans = [KMeans(n_clusters=i) for i in Nc]\n",
    "\n",
    "kmeans\n",
    "\n",
    "score = [kmeans[i].fit(y).score(y) for i in range(len(kmeans))]\n",
    "\n",
    "score\n",
    "\n",
    "plt.plot(Nc,score)\n",
    "\n",
    "plt.xlabel('Number of Clusters')\n",
    "\n",
    "plt.ylabel('Score')\n",
    "\n",
    "plt.title('Elbow Curve')\n",
    "\n",
    "plt.show()"
   ]
  },
  {
   "cell_type": "code",
   "execution_count": 105,
   "metadata": {
    "collapsed": true
   },
   "outputs": [],
   "source": [
    "from sklearn.cluster import KMeans\n",
    "\n",
    "kmeans = KMeans(n_clusters=5)\n",
    "\n",
    "clusters = kmeans.fit(train2)"
   ]
  },
  {
   "cell_type": "code",
   "execution_count": 106,
   "metadata": {
    "collapsed": true
   },
   "outputs": [],
   "source": [
    "existing_df_2d['cluster'] = pd.Series(clusters.labels_, index=existing_df_2d.index)"
   ]
  },
  {
   "cell_type": "code",
   "execution_count": 107,
   "metadata": {},
   "outputs": [
    {
     "data": {
      "text/plain": [
       "<matplotlib.axes._subplots.AxesSubplot at 0x2255b74ebe0>"
      ]
     },
     "execution_count": 107,
     "metadata": {},
     "output_type": "execute_result"
    },
    {
     "data": {
      "image/png": "[encoded data removed]",
      "text/plain": [
       "<matplotlib.figure.Figure at 0x2255b795cc0>"
      ]
     },
     "metadata": {},
     "output_type": "display_data"
    }
   ],
   "source": [
    "existing_df_2d.plot(\n",
    "    kind='scatter',\n",
    "    x='PC2',y='PC1',\n",
    "    c=existing_df_2d.cluster.astype(np.float), \n",
    "    figsize=(16,8))"
   ]
  },
  {
   "cell_type": "code",
   "execution_count": null,
   "metadata": {
    "collapsed": true
   },
   "outputs": [],
   "source": []
  }
 ],
 "metadata": {
  "kernelspec": {
   "display_name": "Python 3",
   "language": "python",
   "name": "python3"
  },
  "language_info": {
   "codemirror_mode": {
    "name": "ipython",
    "version": 3
   },
   "file_extension": ".py",
   "mimetype": "text/x-python",
   "name": "python",
   "nbconvert_exporter": "python",
   "pygments_lexer": "ipython3",
   "version": "3.6.2"
  }
 },
 "nbformat": 4,
 "nbformat_minor": 2
}
