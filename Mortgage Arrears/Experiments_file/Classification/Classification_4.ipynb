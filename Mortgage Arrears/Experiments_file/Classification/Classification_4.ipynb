{
 "cells": [
  {
   "cell_type": "code",
   "execution_count": 1,
   "metadata": {
    "collapsed": true
   },
   "outputs": [],
   "source": [
    "import numpy as np \n",
    "import pandas as pd \n",
    "import seaborn as sns\n",
    "import matplotlib.pyplot as plt\n",
    "%matplotlib inline\n",
    "\n",
    "import warnings\n",
    "%config InlineBackend.figure_format = 'png' #set 'png' here when working on notebook\n",
    "warnings.filterwarnings('ignore') \n",
    "\n",
    "# Set some parameters to get good visuals - style to ggplot and size to 15,10\n",
    "pd.set_option('display.precision',4)\n",
    "\n",
    "pd.set_option('display.width',170, 'display.max_rows',200, 'display.max_columns',900)"
   ]
  },
  {
   "cell_type": "code",
   "execution_count": 2,
   "metadata": {
    "collapsed": true
   },
   "outputs": [],
   "source": [
    "df = pd.read_csv(\"mortgage_arrears.csv\")"
   ]
  },
  {
   "cell_type": "markdown",
   "metadata": {},
   "source": [
    "##### 26 in the Republic of Ireland and 6 in Northern Ireland .\n",
    "This project is about Republic of Ireland\n",
    "##### State"
   ]
  },
  {
   "cell_type": "code",
   "execution_count": 3,
   "metadata": {
    "collapsed": true
   },
   "outputs": [],
   "source": [
    "#list(df.columns)"
   ]
  },
  {
   "cell_type": "code",
   "execution_count": 4,
   "metadata": {
    "collapsed": true
   },
   "outputs": [],
   "source": [
    "#https://www.ireland.com/en-us/about-ireland/discover-ireland/ireland-counties-and-provinces/\n",
    "df['Provinces'] = ['Leinster',\n",
    "'Ulster',\n",
    "'Munster',\n",
    "'Munster',\n",
    "'Ulster',\n",
    "'Leinster',\n",
    "'Connacht',\n",
    "'Munster',\n",
    "'Leinster',\n",
    "'Leinster',\n",
    "'Leinster',\n",
    "'Connacht',\n",
    "'Munster',\n",
    "'Leinster',\n",
    "'Leinster',\n",
    "'Connacht',\n",
    "'Leinster',\n",
    "'Ulster',\n",
    "'Leinster',\n",
    "'Connacht',\n",
    "'Connacht',\n",
    "'Munster',\n",
    "'Munster',\n",
    "'Leinster',\n",
    "'Leinster',\n",
    "'Leinster',\n",
    "'Ireland']\n"
   ]
  },
  {
   "cell_type": "markdown",
   "metadata": {},
   "source": [
    "### Remove the last row  that is the country"
   ]
  },
  {
   "cell_type": "code",
   "execution_count": 5,
   "metadata": {
    "collapsed": true
   },
   "outputs": [],
   "source": [
    "df = df.head(26)"
   ]
  },
  {
   "cell_type": "markdown",
   "metadata": {},
   "source": [
    "###### Create new features using the difference between yearly and 5 yearly data from census"
   ]
  },
  {
   "cell_type": "code",
   "execution_count": 6,
   "metadata": {
    "collapsed": true
   },
   "outputs": [],
   "source": [
    "#Mortgage Count\n",
    "df['diff_mortgage_count_1'] = df['2012_Mortgate_Count'] - df['2011_Mortgate_Count']\n",
    "df['diff_mortgage_count_2'] = df['2013_Mortgate_Count'] - df['2012_Mortgate_Count']\n",
    "df['diff_mortgage_count_3'] = df['2014_Mortgate_Count'] - df['2013_Mortgate_Count']\n",
    "df['diff_mortgage_count_4'] = df['2015_Mortgate_Count'] - df['2014_Mortgate_Count']\n",
    "df['diff_mortgage_count_5'] = df['2016_Countof_mortgages'] - df['2015_Mortgate_Count'] # Different column name\n",
    "df['diff_mortgage_count_6'] = df['2017_Mortgate_Count'] - df['2016_Countof_mortgages']\n"
   ]
  },
  {
   "cell_type": "code",
   "execution_count": 7,
   "metadata": {
    "collapsed": true
   },
   "outputs": [],
   "source": [
    "#New House Prices\n",
    "df['diff_new_house_price_1'] = df['2012_New_House_Price'] - df['2011_New_House_Price']\n",
    "df['diff_new_house_price_2'] = df['2013_New_House_Price'] - df['2012_New_House_Price']\n",
    "df['diff_new_house_price_3'] = df['2014_New_House_Price'] - df['2013_New_House_Price']\n",
    "df['diff_new_house_price_4'] = df['2015_New_House_Price'] - df['2014_New_House_Price']\n",
    "df['diff_new_house_price_5'] = df['2016_New_House_Price '] - df['2015_New_House_Price'] # Extra space in the column name\n",
    "df['diff_new_house_price_6'] = df['2017_New_House_Price'] - df['2016_New_House_Price ']\n",
    "\n"
   ]
  },
  {
   "cell_type": "code",
   "execution_count": 8,
   "metadata": {
    "collapsed": true
   },
   "outputs": [],
   "source": [
    "#Second House Prices\n",
    "df['diff_secondhand_house_price_1'] = df['2012_Second_Hand_Price'] - df['2011_Second_Hand_Price']\n",
    "df['diff_secondhand_house_price_2'] = df['2013_Second_Hand_Price'] - df['2012_Second_Hand_Price']\n",
    "df['diff_secondhand_house_price_3'] = df['2014_Second_Hand_Price'] - df['2013_Second_Hand_Price']\n",
    "df['diff_secondhand_house_price_4'] = df['2015_Second_Hand_Price'] - df['2014_Second_Hand_Price']\n",
    "df['diff_secondhand_house_price_5'] = df['2016_Second_Hand_Price'] - df['2015_Second_Hand_Price']\n",
    "df['diff_secondhand_house_price_6'] = df['2017_Second_Hand_Price'] - df['2016_Second_Hand_Price']"
   ]
  },
  {
   "cell_type": "code",
   "execution_count": 9,
   "metadata": {
    "collapsed": true
   },
   "outputs": [],
   "source": [
    "#Sum House Prices\n",
    "df['diff_sum_house_price_1'] = df['2012_Sum_of_Price'] - df['2011_Sum_of_Price']\n",
    "df['diff_sum_house_price_2'] = df['2013_Sum_of_Price'] - df['2012_Sum_of_Price']\n",
    "df['diff_sum_house_price_3'] = df['2014_Sum_of_Price'] - df['2013_Sum_of_Price']\n",
    "df['diff_sum_house_price_4'] = df['2015_Sum_of_Price'] - df['2014_Sum_of_Price']\n",
    "df['diff_sum_house_price_5'] = df['2016_Sum_of_Price'] - df['2015_Sum_of_Price']\n",
    "df['diff_sum_house_price_6'] = df['2017_Sum_of_Price'] - df['2016_Sum_of_Price']"
   ]
  },
  {
   "cell_type": "code",
   "execution_count": 10,
   "metadata": {
    "collapsed": true
   },
   "outputs": [],
   "source": [
    "#Average Interest Rate\n",
    "df['diff_interestrate_1'] = df['2012_AVG_Interest_Rate'] - df['2011_AVG_Interest_Rate']\n",
    "df['diff_interestrate_2'] = df['2013_AVG_Interest_Rate'] - df['2012_AVG_Interest_Rate']\n",
    "df['diff_interestrate_3'] = df['2014_AVG_Interest_Rate'] - df['2013_AVG_Interest_Rate']\n",
    "df['diff_interestrate_4'] = df['2015_AVG_Interest_Rate'] - df['2014_AVG_Interest_Rate']\n",
    "df['diff_interestrate_5'] = df['2016_AVG_Interest_Rate'] - df['2015_AVG_Interest_Rate']\n",
    "df['diff_interestrate_6'] = df['2017_AVG_Interest_Rate'] - df['2016_AVG_Interest_Rate']"
   ]
  },
  {
   "cell_type": "code",
   "execution_count": 11,
   "metadata": {
    "collapsed": true
   },
   "outputs": [],
   "source": [
    "#Loan Arrears\n",
    "df['diff_loanarrears_1'] = df['2012_LA_Arrears'] - df['2011_LA_Arrears']\n",
    "df['diff_loanarrears_2'] = df['2013_LA_Arrears'] - df['2012_LA_Arrears']\n",
    "df['diff_loanarrears_3'] = df['2014_LA_Arrears'] - df['2013_LA_Arrears']\n",
    "df['diff_loanarrears_4'] = df['2015_LA_Arrears'] - df['2014_LA_Arrears']\n",
    "df['diff_loanarrears_5'] = df['2016_LA_Arrears'] - df['2015_LA_Arrears']\n",
    "df['diff_loanarrears_6'] = df['2017_LA_Arrears'] - df['2016_LA_Arrears']"
   ]
  },
  {
   "cell_type": "code",
   "execution_count": 12,
   "metadata": {
    "collapsed": true
   },
   "outputs": [],
   "source": [
    "#Loans Approved\n",
    "df['diff_loanapproved_1'] = df['2012_Loans Approved'] - df['2011_Loans Approved']\n",
    "df['diff_loanapproved_2'] = df['2013_Loans Approved'] - df['2012_Loans Approved']\n",
    "df['diff_loanapproved_3'] = df['2014_Loans Approved'] - df['2013_Loans Approved']\n",
    "df['diff_loanapproved_4'] = df['2015_Loans Approved'] - df['2014_Loans Approved']\n",
    "df['diff_loanapproved_5'] = df['2016_Loans_Approved'] - df['2015_Loans Approved']\n",
    "df['diff_loanapproved_6'] = df['2017_Loans Approved'] - df['2016_Loans_Approved']"
   ]
  },
  {
   "cell_type": "code",
   "execution_count": 13,
   "metadata": {
    "collapsed": true
   },
   "outputs": [],
   "source": [
    "#Loans Paid\n",
    "df['diff_loanpaid_1'] = df['2012_Loans_Paid'] - df['2011_Loans_Paid']\n",
    "df['diff_loanpaid_2'] = df['2013_Loans_Paid'] - df['2012_Loans_Paid']\n",
    "df['diff_loanpaid_3'] = df['2014_Loans_Paid'] - df['2013_Loans_Paid']\n",
    "df['diff_loanpaid_4'] = df['2015_Loans_Paid'] - df['2014_Loans_Paid']\n",
    "df['diff_loanpaid_5'] = df['2016_Loans_Paid'] - df['2015_Loans_Paid']\n",
    "df['diff_loanpaid_6'] = df['2017_Loans_Paid'] - df['2016_Loans_Paid']\n"
   ]
  },
  {
   "cell_type": "markdown",
   "metadata": {},
   "source": [
    "###### Diversity in county according to Sex. Take a difference between the 5 years"
   ]
  },
  {
   "cell_type": "code",
   "execution_count": 14,
   "metadata": {
    "collapsed": true
   },
   "outputs": [],
   "source": [
    "\n",
    "df['2011_diversity_bothsexes'] = df[['2011_African-Both sexes',\n",
    "'2011_All nationalities-Both sexes',\n",
    "'2011_American (US)-Both sexes', \n",
    " '2011_Brazilian-Both sexes',\n",
    " '2011_French-Both sexes',\n",
    " '2011_German-Both sexes',\n",
    " '2011_Indian-Both sexes',\n",
    " '2011_Irish-Both sexes', \n",
    " '2011_Italian-Both sexes',\n",
    " '2011_Latvian-Both sexes',\n",
    " '2011_Lithuanian-Both sexes', \n",
    " '2011_Not stated, including no nationality-Both sexes', \n",
    " '2011_Other American-Both sexes', \n",
    " '2011_Other Asian-Both sexes', \n",
    " '2011_Other EU28-Both sexes', \n",
    " '2011_Other European-Both sexes',\n",
    " '2011_Other nationalities-Both sexes',\n",
    " '2011_Polish-Both sexes', \n",
    " '2011_Romanian-Both sexes', \n",
    " '2011_Spanish-Both sexes', \n",
    " '2011_UK-Both sexes']].sum(axis = 1)"
   ]
  },
  {
   "cell_type": "code",
   "execution_count": 15,
   "metadata": {
    "collapsed": true
   },
   "outputs": [],
   "source": [
    "\n",
    "df['2016_diversity_bothsexes'] = df[['2016_African-Both sexes',\n",
    "'2016_All nationalities-Both sexes',\n",
    "'2016_American (US)-Both sexes', \n",
    " '2016_Brazilian-Both sexes',\n",
    " '2016_French-Both sexes',\n",
    " '2016_German-Both sexes',\n",
    " '2016_Indian-Both sexes',\n",
    " '2016_Irish-Both sexes', \n",
    " '2016_Italian-Both sexes',\n",
    " '2016_Latvian-Both sexes',\n",
    " '2016_Lithuanian-Both sexes', \n",
    " '2016_Not stated, including no nationality-Both sexes', \n",
    " '2016_Other American-Both sexes', \n",
    " '2016_Other Asian-Both sexes', \n",
    " '2016_Other EU28-Both sexes', \n",
    " '2016_Other European-Both sexes',\n",
    " '2016_Other nationalities-Both sexes',\n",
    " '2016_Polish-Both sexes', \n",
    " '2016_Romanian-Both sexes', \n",
    " '2016_Spanish-Both sexes', \n",
    " '2016_UK-Both sexes']].sum(axis = 1)"
   ]
  },
  {
   "cell_type": "code",
   "execution_count": 16,
   "metadata": {
    "collapsed": true
   },
   "outputs": [],
   "source": [
    "df['diff_diversity_bothsexes'] = df['2016_diversity_bothsexes'] - df['2011_diversity_bothsexes']"
   ]
  },
  {
   "cell_type": "code",
   "execution_count": 17,
   "metadata": {
    "collapsed": true
   },
   "outputs": [],
   "source": [
    "#df['diff_diversity_bothsexes']"
   ]
  },
  {
   "cell_type": "code",
   "execution_count": 18,
   "metadata": {
    "collapsed": true
   },
   "outputs": [],
   "source": [
    "df['2011_diversity_female'] = df[['2011_African-Female',\n",
    "'2011_All nationalities-Female',\n",
    "'2011_American (US)-Female',\n",
    "'2011_Brazilian-Female',\n",
    "'2011_French-Female',\n",
    "'2011_German-Female',\n",
    " '2011_Indian-Female',\n",
    "'2011_Irish-Female',\n",
    " '2011_Italian-Female',\n",
    " '2011_Latvian-Female',\n",
    "'2011_Lithuanian-Female',\n",
    "'2011_Not stated, including no nationality-Female',\n",
    "'2011_Other American-Female',\n",
    " '2011_Other Asian-Female',\n",
    "'2011_Other EU28-Female',\n",
    " '2011_Other European-Female',\n",
    "'2011_Other nationalities-Female',\n",
    "'2011_Polish-Female',\n",
    "'2011_Romanian-Female',\n",
    "'2011_Spanish-Female',\n",
    " '2011_UK-Female']].sum(axis = 1)"
   ]
  },
  {
   "cell_type": "code",
   "execution_count": 19,
   "metadata": {
    "collapsed": true
   },
   "outputs": [],
   "source": [
    "df['2016_diversity_female'] = df[['2016_African-Female',\n",
    "'2016_All nationalities-Female',\n",
    "'2016_American (US)-Female',\n",
    "'2016_Brazilian-Female',\n",
    "'2016_French-Female',\n",
    "'2016_German-Female',\n",
    " '2016_Indian-Female',\n",
    "'2016_Irish-Female',\n",
    " '2016_Italian-Female',\n",
    " '2016_Latvian-Female',\n",
    "'2016_Lithuanian-Female',\n",
    "'2016_Not stated, including no nationality-Female',\n",
    "'2016_Other American-Female',\n",
    " '2016_Other Asian-Female',\n",
    "'2016_Other EU28-Female',\n",
    " '2016_Other European-Female',\n",
    "'2016_Other nationalities-Female',\n",
    "'2016_Polish-Female',\n",
    "'2016_Romanian-Female',\n",
    "'2016_Spanish-Female',\n",
    " '2016_UK-Female']].sum(axis = 1)"
   ]
  },
  {
   "cell_type": "code",
   "execution_count": 20,
   "metadata": {
    "collapsed": true
   },
   "outputs": [],
   "source": [
    "df['diff_diversity_female'] = df['2016_diversity_female'] - df['2011_diversity_female']"
   ]
  },
  {
   "cell_type": "code",
   "execution_count": 21,
   "metadata": {
    "collapsed": true
   },
   "outputs": [],
   "source": [
    "df['2011_diversity_male'] = df[[ '2011_African-Male',\n",
    "'2011_All nationalities-Male',\n",
    " '2011_American (US)-Male',\n",
    " '2011_Brazilian-Male',\n",
    "  '2011_French-Male',\n",
    " '2011_German-Male',\n",
    " '2011_Indian-Male',\n",
    "'2011_Irish-Male',\n",
    " '2011_Italian-Male',\n",
    " '2011_Latvian-Male',\n",
    " '2011_Lithuanian-Male',\n",
    " '2011_Not stated, including no nationality-Male',\n",
    "'2011_Other American-Male',\n",
    "'2011_Other Asian-Male',\n",
    "'2011_Other EU28-Male',\n",
    " '2011_Other European-Male',\n",
    " '2011_Other nationalities-Male',\n",
    "'2011_Polish-Male',\n",
    "'2011_Romanian-Male',\n",
    "'2011_Spanish-Male',\n",
    " '2011_UK-Male']].sum(axis = 1)"
   ]
  },
  {
   "cell_type": "code",
   "execution_count": 22,
   "metadata": {
    "collapsed": true
   },
   "outputs": [],
   "source": [
    "df['2016_diversity_male'] = df[[ '2016_African-Male',\n",
    "'2016_All nationalities-Male',\n",
    " '2016_American (US)-Male',\n",
    " '2016_Brazilian-Male',\n",
    "  '2016_French-Male',\n",
    " '2016_German-Male',\n",
    " '2016_Indian-Male',\n",
    "'2016_Irish-Male',\n",
    " '2016_Italian-Male',\n",
    " '2016_Latvian-Male',\n",
    " '2016_Lithuanian-Male',\n",
    " '2016_Not stated, including no nationality-Male',\n",
    "'2016_Other American-Male',\n",
    "'2016_Other Asian-Male',\n",
    "'2016_Other EU28-Male',\n",
    " '2016_Other European-Male',\n",
    " '2016_Other nationalities-Male',\n",
    "'2016_Polish-Male',\n",
    "'2016_Romanian-Male',\n",
    "'2016_Spanish-Male',\n",
    " '2016_UK-Male']].sum(axis = 1)"
   ]
  },
  {
   "cell_type": "code",
   "execution_count": 23,
   "metadata": {
    "collapsed": true
   },
   "outputs": [],
   "source": [
    "df['diff_diversity_male'] = df['2016_diversity_male'] - df['2011_diversity_male']"
   ]
  },
  {
   "cell_type": "code",
   "execution_count": 24,
   "metadata": {
    "collapsed": true
   },
   "outputs": [],
   "source": [
    "df['diff_male_population'] = df['2016_Male_Population'] - df['2011_Male_Population']"
   ]
  },
  {
   "cell_type": "code",
   "execution_count": 25,
   "metadata": {
    "collapsed": true
   },
   "outputs": [],
   "source": [
    "df['diff_female_population'] = df['2016_Female_Population'] - df['2011_Female_Population']"
   ]
  },
  {
   "cell_type": "code",
   "execution_count": 26,
   "metadata": {
    "collapsed": true
   },
   "outputs": [],
   "source": [
    "df['diff_total_population'] = df['2016_Total_Population'] - df['2011_Total_Population']"
   ]
  },
  {
   "cell_type": "code",
   "execution_count": 27,
   "metadata": {
    "collapsed": true
   },
   "outputs": [],
   "source": [
    "df['diff_migration_population'] = df['2016_Migration_Population'] - df['2011_Migration_Population']"
   ]
  },
  {
   "cell_type": "code",
   "execution_count": 28,
   "metadata": {
    "collapsed": true
   },
   "outputs": [],
   "source": [
    "df['diff_1-14years_population'] = df['2016_1 - 14 years'] -df['2011_1 - 14 years']\n",
    "df['diff_15-19years_population'] = df['2016_15 - 19 years'] -df['2011_15 - 19 years']\n",
    "df['diff_20-24years_population'] = df['2016_20 - 24 years'] -df['2011_20 - 24 years']\n",
    "df['diff_25-29years_population'] = df['2016_25 - 29 years'] -df['2011_25 - 29 years']\n",
    "df['diff_30-34years_population'] = df['2016_30 - 34 years'] -df['2011_30 - 34 years']\n",
    "df['diff_35-44years_population'] = df['2016_35 - 44 years'] -df['2011_35 - 44 years']\n",
    "df['diff_45-54years_population'] = df['2016_45 - 54 years'] -df['2011_45 - 54 years']\n",
    "df['diff_55-64years_population'] = df['2016_55 - 64 years'] -df['2011_55 - 64 years']\n",
    "df['diff_65-74years_population'] = df['2016_65 - 74 years'] -df['2011_65 - 74 years']\n",
    "df['diff_75years_over_population'] = df['2016_75 years and over'] -df['2011_75 years and over']"
   ]
  },
  {
   "cell_type": "code",
   "execution_count": 29,
   "metadata": {
    "collapsed": true
   },
   "outputs": [],
   "source": [
    "#Employment\n",
    "df['diff_employment'] = df['2016_employment'] - df['2011_employment']\n",
    "df['diff_average'] = df['Average of 2016'] - df['Average of 2011']\n",
    "df['diff_All persons aged 15 years and over'] = df['2016_All persons aged 15 years and over'] - df['2011_All persons aged 15 years and over']\n",
    "df['diff_Employer or own account worker'] = df['2016_Employer or own account worker'] - df['2011_Employer or own account worker']\n",
    "df['diff_Employee'] = df['2016_Employee'] - df['2011_Employee']\n",
    "df['diff_Assisting_relative'] = df['2016_Assisting_relative'] - df['2011_Assisting_relative']\n",
    "df['diff_Unemployed looking for first regular job'] = df['2016_Unemployed looking for first regular job'] - df['2011_Unemployed looking for first regular job']\n",
    "df['diff_Unemployed having lost or given up previous job'] = df['2016_Unemployed having lost or given up previous job'] - df['2011_Unemployed having lost or given up previous job']\n",
    "df['diff_Student'] = df['2016_Student'] - df['2011_Student']\n",
    "df['diff_Looking after home/family'] = df['2016_Looking after home/family'] - df['2011_Looking after home/family']\n",
    "df['diff_Retired'] = df['2016_Retired'] - df['2011_Retired']\n",
    "df['diff_Unable to work due to permanent sickness or disability'] = df['2016_Unable to work due to permanent sickness or disability'] - df['2011_Unable to work due to permanent sickness or disability']\n",
    "df['diff_Other economic status'] = df['2016_Other economic status'] - df['2011_Other economic status']"
   ]
  },
  {
   "cell_type": "code",
   "execution_count": 30,
   "metadata": {
    "collapsed": true
   },
   "outputs": [],
   "source": [
    "#martital Status\n",
    "df['diff_Married_First_Marriage'] = df['2016_Married_First_Marriage'] - df['2011_Married_First_Marriage']\n",
    "df['diff_divorced'] = df['2016_Divorsed'] - df['2011_Divorsed']\n",
    "df['diff_Same_Sex_Civil Partners'] = df['2016_Same_Sex_Civil Partners'] - df['2011_Same_Sex_Civil Partners']\n",
    "df['diff_Remarried'] = df['2016_Remarried'] - df['2011_Remarried']\n",
    "df['diff_Seperated'] = df['2016_Seperated'] - df['2011_Seperated']\n",
    "df['diff_Single'] = df['2016_Single'] - df['2011_Single']\n",
    "df['diff_Widowed'] = df['2016_Widowed'] - df['2011_Widowed']\n",
    "df['diff_Remarried'] = df['2016_Remarried'] - df['2011_Remarried']\n",
    "\n"
   ]
  },
  {
   "cell_type": "code",
   "execution_count": 31,
   "metadata": {
    "collapsed": true
   },
   "outputs": [],
   "source": [
    "#Commmuter Information\n",
    "df['diff_all_depature_timeAll_Persons'] = df['2016_all_depature_timeAll_Persons'] - df['2011_all_depature_timeAll_Persons']\n",
    "df['diff_all_depature_time_Children at school aged between 5 and 12 years'] = df['2016_all_depature_time_Children at school aged between 5 and 12 years'] - df['2011_all_depature_time_Children at school aged between 5 and 12 years']\n",
    "df['diff_all_depature_time_Students at school or college aged between 13 and 18 years'] = df['2016_all_depature_time_Students at school or college aged between 13 and 18 years'] - df['2011_all_depature_time_Students at school or college aged between 13 and 18 years']\n",
    "df['diff_all_depature_time_Students at school or college aged 19 years and over'] = df['2016_all_depature_time_Students at school or college aged 19 years and over'] - df['2011_all_depature_time_Students at school or college aged 19 years and over']\n",
    "df['diff_all_depature_time_Population aged 15 years and over at work'] = df['2016_all_depature_time_Population aged 15 years and over at work'] - df['2011_all_depature_time_Population aged 15 years and over at work']"
   ]
  },
  {
   "cell_type": "code",
   "execution_count": 32,
   "metadata": {
    "collapsed": true
   },
   "outputs": [],
   "source": [
    "#Type of house\n",
    "df['diff_AllPrivate'] = df['2016_AllPrivate'] - df['2011_AllPrivate']\n"
   ]
  },
  {
   "cell_type": "code",
   "execution_count": 33,
   "metadata": {
    "collapsed": true
   },
   "outputs": [],
   "source": [
    "#df"
   ]
  },
  {
   "cell_type": "code",
   "execution_count": 34,
   "metadata": {},
   "outputs": [
    {
     "data": {
      "text/plain": [
       "(26, 382)"
      ]
     },
     "execution_count": 34,
     "metadata": {},
     "output_type": "execute_result"
    }
   ],
   "source": [
    "df.shape"
   ]
  },
  {
   "cell_type": "code",
   "execution_count": 35,
   "metadata": {
    "collapsed": true
   },
   "outputs": [],
   "source": [
    "train = df[['County',\n",
    "# 'diff_mortgage_count_1',\n",
    "#  'diff_mortgage_count_2',\n",
    "#  'diff_mortgage_count_3',\n",
    "#  'diff_mortgage_count_4',\n",
    "#  'diff_mortgage_count_5',\n",
    "#  'diff_mortgage_count_6',\n",
    "#  'diff_new_house_price_1',\n",
    "#  'diff_new_house_price_2',\n",
    "#  'diff_new_house_price_3',\n",
    "#  'diff_new_house_price_4',\n",
    "#  'diff_new_house_price_5',\n",
    "#  'diff_new_house_price_6',\n",
    "#  'diff_secondhand_house_price_1',\n",
    "#  'diff_secondhand_house_price_2',\n",
    "#  'diff_secondhand_house_price_3',\n",
    "#  'diff_secondhand_house_price_4',\n",
    "#  'diff_secondhand_house_price_5',\n",
    "#  'diff_secondhand_house_price_6',\n",
    "#  'diff_sum_house_price_1',\n",
    "#  'diff_sum_house_price_2',\n",
    "#  'diff_sum_house_price_3',\n",
    "#  'diff_sum_house_price_4',\n",
    "#  'diff_sum_house_price_5',\n",
    "#  'diff_sum_house_price_6',\n",
    "#  'diff_interestrate_1',\n",
    "#  'diff_interestrate_2',\n",
    "#  'diff_interestrate_3',\n",
    "#  'diff_interestrate_4',\n",
    "#  'diff_interestrate_5',\n",
    "#  'diff_interestrate_6',\n",
    " 'diff_loanarrears_1',\n",
    " 'diff_loanarrears_2',\n",
    " 'diff_loanarrears_3',\n",
    " 'diff_loanarrears_4',\n",
    " 'diff_loanarrears_5',\n",
    " 'diff_loanarrears_6',\n",
    "#  'diff_loanapproved_1',\n",
    "#  'diff_loanapproved_2',\n",
    "#  'diff_loanapproved_3',\n",
    "#  'diff_loanapproved_4',\n",
    "#  'diff_loanapproved_5',\n",
    "#  'diff_loanapproved_6',\n",
    "#  'diff_loanpaid_1',\n",
    "#  'diff_loanpaid_2',\n",
    "#  'diff_loanpaid_3',\n",
    "#  'diff_loanpaid_4',\n",
    "#  'diff_loanpaid_5',\n",
    "#  'diff_loanpaid_6',\n",
    "#    'diff_diversity_bothsexes',\n",
    "#    'diff_diversity_female','diff_diversity_male',\n",
    " 'diff_male_population',\n",
    " 'diff_female_population',\n",
    " 'diff_total_population',\n",
    " 'diff_migration_population',\n",
    " 'diff_1-14years_population',\n",
    " 'diff_15-19years_population',\n",
    " 'diff_20-24years_population',\n",
    " 'diff_25-29years_population',\n",
    " 'diff_30-34years_population',\n",
    " 'diff_35-44years_population',\n",
    " 'diff_45-54years_population',\n",
    " 'diff_55-64years_population',\n",
    " 'diff_65-74years_population',\n",
    " 'diff_75years_over_population',\n",
    " 'diff_employment',\n",
    "#  'diff_average',\n",
    " 'diff_Married_First_Marriage',\n",
    " 'diff_divorced',\n",
    " 'diff_Same_Sex_Civil Partners',\n",
    " 'diff_Remarried',\n",
    " 'diff_Seperated',\n",
    " 'diff_Single',\n",
    " 'diff_Widowed',\n",
    "   'diff_AllPrivate',\n",
    " 'diff_All persons aged 15 years and over',\n",
    " 'diff_Employer or own account worker',\n",
    " 'diff_Employee',\n",
    " 'diff_Assisting_relative',\n",
    " 'diff_Unemployed looking for first regular job',\n",
    " 'diff_Unemployed having lost or given up previous job',\n",
    " 'diff_Student',\n",
    " 'diff_Looking after home/family',\n",
    " 'diff_Retired',\n",
    " 'diff_Unable to work due to permanent sickness or disability',\n",
    " 'diff_Other economic status',\n",
    " 'diff_all_depature_timeAll_Persons',\n",
    " 'diff_all_depature_time_Children at school aged between 5 and 12 years',\n",
    " 'diff_all_depature_time_Students at school or college aged between 13 and 18 years',\n",
    " 'diff_all_depature_time_Students at school or college aged 19 years and over',\n",
    " 'diff_all_depature_time_Population aged 15 years and over at work',\n",
    "   #Loans Approved\n",
    "\n",
    "#  '2011_Loans Approved',\n",
    "#  '2012_Loans Approved',\n",
    "#  '2013_Loans Approved',\n",
    "#  '2014_Loans Approved',\n",
    "#  '2015_Loans Approved', \n",
    "# '2016_Loans_Approved',#\n",
    "#  '2017_Loans Approved',\n",
    "\n",
    "# #Loans Paid\n",
    "# '2011_Loans_Paid',\n",
    "# '2012_Loans_Paid',\n",
    "# '2013_Loans_Paid',\n",
    "#  '2014_Loans_Paid',\n",
    "# '2015_Loans_Paid',\n",
    "#  '2017_Loans_Paid', \n",
    "#  '2016_Loans_Paid',\n",
    "\n",
    "# Repossesions of the houses\n",
    "\n",
    "'2011_Forced',\n",
    " '2011_Voluntary',\n",
    " '2012_Forced',\n",
    " '2012_Voluntary',\n",
    " '2013_Forced',\n",
    " '2013_Voluntary',\n",
    " '2014_Forced',\n",
    " '2014_Voluntary',\n",
    " '2015_Forced',\n",
    " '2015_Voluntary',\n",
    " '2016_Forced',\n",
    "#  '2017_Voluntary',\n",
    "#  '2017_Forced',#May be remove this\n",
    "#  '2017_Voluntary.1',#Remove this\n",
    "\n",
    "# #Number of Employees\n",
    " '2012_Employees',\n",
    " '2013_Employees',\n",
    " '2014_Employees',\n",
    " '2015_Employees',\n",
    " '2016_Employees',\n",
    "\n",
    "#Arrears—\n",
    "# '2011_LA_Arrears',\n",
    "# '2012_LA_Arrears',\n",
    "#  '2013_LA_Arrears',\n",
    "# '2014_LA_Arrears',\n",
    "'2015_LA_Arrears',\n",
    " '2016_LA_Arrears',\n",
    "#'2017_LA_Arrears',\n",
    "# Target Label\n",
    "'Provinces'\n",
    "           ]]"
   ]
  },
  {
   "cell_type": "code",
   "execution_count": 36,
   "metadata": {
    "collapsed": true
   },
   "outputs": [],
   "source": [
    "train['2012_Employees'] = train['2012_Employees'].apply(lambda x: float(x.replace(',', '')))\n",
    "train['2013_Employees'] = train['2013_Employees'].apply(lambda x: float(x.replace(',', '')))\n",
    "train['2014_Employees'] = train['2014_Employees'].apply(lambda x: float(x.replace(',', '')))\n",
    "train['2015_Employees'] = train['2015_Employees'].apply(lambda x: float(x.replace(',', '')))\n",
    "train['2016_Employees'] = train['2016_Employees'].apply(lambda x: float(x.replace(',', '')))"
   ]
  },
  {
   "cell_type": "markdown",
   "metadata": {},
   "source": [
    "## Feature Selection"
   ]
  },
  {
   "cell_type": "code",
   "execution_count": 37,
   "metadata": {
    "collapsed": true
   },
   "outputs": [],
   "source": [
    "#Remove county and the target label\n",
    "#https://github.com/amueller/ml-workshop-4-of-4/blob/master/notebooks/02%20Feature%20selection.ipynb\n",
    "#X = features.drop('delinquent', axis=1)\n",
    "X = train[train.columns.difference(['County','Provinces'])]\n",
    "y = train['Provinces']"
   ]
  },
  {
   "cell_type": "code",
   "execution_count": 38,
   "metadata": {},
   "outputs": [
    {
     "data": {
      "text/plain": [
       "Index(['2011_Forced', '2011_Voluntary', '2012_Employees', '2012_Forced', '2012_Voluntary', '2013_Employees', '2013_Forced', '2013_Voluntary', '2014_Employees',\n",
       "       '2014_Forced', '2014_Voluntary', '2015_Employees', '2015_Forced', '2015_LA_Arrears', '2015_Voluntary', '2016_Employees', '2016_Forced', '2016_LA_Arrears',\n",
       "       'diff_1-14years_population', 'diff_15-19years_population', 'diff_20-24years_population', 'diff_25-29years_population', 'diff_30-34years_population',\n",
       "       'diff_35-44years_population', 'diff_45-54years_population', 'diff_55-64years_population', 'diff_65-74years_population', 'diff_75years_over_population',\n",
       "       'diff_All persons aged 15 years and over', 'diff_AllPrivate', 'diff_Assisting_relative', 'diff_Employee', 'diff_Employer or own account worker',\n",
       "       'diff_Looking after home/family', 'diff_Married_First_Marriage', 'diff_Other economic status', 'diff_Remarried', 'diff_Retired', 'diff_Same_Sex_Civil Partners',\n",
       "       'diff_Seperated', 'diff_Single', 'diff_Student', 'diff_Unable to work due to permanent sickness or disability',\n",
       "       'diff_Unemployed having lost or given up previous job', 'diff_Unemployed looking for first regular job', 'diff_Widowed', 'diff_all_depature_timeAll_Persons',\n",
       "       'diff_all_depature_time_Children at school aged between 5 and 12 years', 'diff_all_depature_time_Population aged 15 years and over at work',\n",
       "       'diff_all_depature_time_Students at school or college aged 19 years and over',\n",
       "       'diff_all_depature_time_Students at school or college aged between 13 and 18 years', 'diff_divorced', 'diff_employment', 'diff_female_population',\n",
       "       'diff_loanarrears_1', 'diff_loanarrears_2', 'diff_loanarrears_3', 'diff_loanarrears_4', 'diff_loanarrears_5', 'diff_loanarrears_6', 'diff_male_population',\n",
       "       'diff_migration_population', 'diff_total_population'],\n",
       "      dtype='object')"
      ]
     },
     "execution_count": 38,
     "metadata": {},
     "output_type": "execute_result"
    }
   ],
   "source": [
    "#Removing features with low variance\n",
    "from sklearn.feature_selection import VarianceThreshold\n",
    "threshold = 0.90\n",
    "vt = VarianceThreshold().fit(X)\n",
    "\n",
    "# Find feature names\n",
    "feat_var_threshold = X.columns[vt.variances_ > threshold * (1-threshold)]\n",
    "feat_var_threshold"
   ]
  },
  {
   "cell_type": "code",
   "execution_count": 39,
   "metadata": {},
   "outputs": [
    {
     "data": {
      "text/html": [
       "<div>\n",
       "<style>\n",
       "    .dataframe thead tr:only-child th {\n",
       "        text-align: right;\n",
       "    }\n",
       "\n",
       "    .dataframe thead th {\n",
       "        text-align: left;\n",
       "    }\n",
       "\n",
       "    .dataframe tbody tr th {\n",
       "        vertical-align: top;\n",
       "    }\n",
       "</style>\n",
       "<table border=\"1\" class=\"dataframe\">\n",
       "  <thead>\n",
       "    <tr style=\"text-align: right;\">\n",
       "      <th></th>\n",
       "      <th>2011_Forced</th>\n",
       "      <th>2011_Voluntary</th>\n",
       "      <th>2012_Employees</th>\n",
       "      <th>2012_Forced</th>\n",
       "      <th>2012_Voluntary</th>\n",
       "      <th>2013_Employees</th>\n",
       "      <th>2013_Forced</th>\n",
       "      <th>2013_Voluntary</th>\n",
       "      <th>2014_Employees</th>\n",
       "      <th>2014_Forced</th>\n",
       "      <th>2014_Voluntary</th>\n",
       "      <th>2015_Employees</th>\n",
       "      <th>2015_Forced</th>\n",
       "      <th>2015_LA_Arrears</th>\n",
       "      <th>2015_Voluntary</th>\n",
       "      <th>2016_Employees</th>\n",
       "      <th>2016_Forced</th>\n",
       "      <th>2016_LA_Arrears</th>\n",
       "      <th>diff_1-14years_population</th>\n",
       "      <th>diff_15-19years_population</th>\n",
       "      <th>diff_20-24years_population</th>\n",
       "      <th>diff_25-29years_population</th>\n",
       "      <th>diff_30-34years_population</th>\n",
       "      <th>diff_35-44years_population</th>\n",
       "      <th>diff_45-54years_population</th>\n",
       "      <th>diff_55-64years_population</th>\n",
       "      <th>diff_65-74years_population</th>\n",
       "      <th>diff_75years_over_population</th>\n",
       "      <th>diff_All persons aged 15 years and over</th>\n",
       "      <th>diff_AllPrivate</th>\n",
       "      <th>diff_Assisting_relative</th>\n",
       "      <th>diff_Employee</th>\n",
       "      <th>diff_Employer or own account worker</th>\n",
       "      <th>diff_Looking after home/family</th>\n",
       "      <th>diff_Married_First_Marriage</th>\n",
       "      <th>diff_Other economic status</th>\n",
       "      <th>diff_Remarried</th>\n",
       "      <th>diff_Retired</th>\n",
       "      <th>diff_Same_Sex_Civil Partners</th>\n",
       "      <th>diff_Seperated</th>\n",
       "      <th>diff_Single</th>\n",
       "      <th>diff_Student</th>\n",
       "      <th>diff_Unable to work due to permanent sickness or disability</th>\n",
       "      <th>diff_Unemployed having lost or given up previous job</th>\n",
       "      <th>diff_Unemployed looking for first regular job</th>\n",
       "      <th>diff_Widowed</th>\n",
       "      <th>diff_all_depature_timeAll_Persons</th>\n",
       "      <th>diff_all_depature_time_Children at school aged between 5 and 12 years</th>\n",
       "      <th>diff_all_depature_time_Population aged 15 years and over at work</th>\n",
       "      <th>diff_all_depature_time_Students at school or college aged 19 years and over</th>\n",
       "      <th>diff_all_depature_time_Students at school or college aged between 13 and 18 years</th>\n",
       "      <th>diff_divorced</th>\n",
       "      <th>diff_employment</th>\n",
       "      <th>diff_female_population</th>\n",
       "      <th>diff_loanarrears_1</th>\n",
       "      <th>diff_loanarrears_2</th>\n",
       "      <th>diff_loanarrears_3</th>\n",
       "      <th>diff_loanarrears_4</th>\n",
       "      <th>diff_loanarrears_5</th>\n",
       "      <th>diff_loanarrears_6</th>\n",
       "      <th>diff_male_population</th>\n",
       "      <th>diff_migration_population</th>\n",
       "      <th>diff_total_population</th>\n",
       "    </tr>\n",
       "  </thead>\n",
       "  <tbody>\n",
       "    <tr>\n",
       "      <th>select_feature</th>\n",
       "      <td>True</td>\n",
       "      <td>True</td>\n",
       "      <td>True</td>\n",
       "      <td>True</td>\n",
       "      <td>True</td>\n",
       "      <td>True</td>\n",
       "      <td>True</td>\n",
       "      <td>True</td>\n",
       "      <td>True</td>\n",
       "      <td>True</td>\n",
       "      <td>True</td>\n",
       "      <td>True</td>\n",
       "      <td>True</td>\n",
       "      <td>True</td>\n",
       "      <td>True</td>\n",
       "      <td>True</td>\n",
       "      <td>True</td>\n",
       "      <td>True</td>\n",
       "      <td>True</td>\n",
       "      <td>True</td>\n",
       "      <td>True</td>\n",
       "      <td>True</td>\n",
       "      <td>True</td>\n",
       "      <td>True</td>\n",
       "      <td>True</td>\n",
       "      <td>True</td>\n",
       "      <td>True</td>\n",
       "      <td>True</td>\n",
       "      <td>True</td>\n",
       "      <td>True</td>\n",
       "      <td>True</td>\n",
       "      <td>True</td>\n",
       "      <td>True</td>\n",
       "      <td>True</td>\n",
       "      <td>True</td>\n",
       "      <td>True</td>\n",
       "      <td>True</td>\n",
       "      <td>True</td>\n",
       "      <td>True</td>\n",
       "      <td>True</td>\n",
       "      <td>True</td>\n",
       "      <td>True</td>\n",
       "      <td>True</td>\n",
       "      <td>True</td>\n",
       "      <td>True</td>\n",
       "      <td>True</td>\n",
       "      <td>True</td>\n",
       "      <td>True</td>\n",
       "      <td>True</td>\n",
       "      <td>True</td>\n",
       "      <td>True</td>\n",
       "      <td>True</td>\n",
       "      <td>True</td>\n",
       "      <td>True</td>\n",
       "      <td>True</td>\n",
       "      <td>True</td>\n",
       "      <td>True</td>\n",
       "      <td>True</td>\n",
       "      <td>True</td>\n",
       "      <td>True</td>\n",
       "      <td>True</td>\n",
       "      <td>True</td>\n",
       "      <td>True</td>\n",
       "    </tr>\n",
       "    <tr>\n",
       "      <th>variance</th>\n",
       "      <td>23.07</td>\n",
       "      <td>10.21</td>\n",
       "      <td>1.074e+10</td>\n",
       "      <td>38.31</td>\n",
       "      <td>16.38</td>\n",
       "      <td>1.13e+10</td>\n",
       "      <td>15.33</td>\n",
       "      <td>14.29</td>\n",
       "      <td>1.211e+10</td>\n",
       "      <td>2.302</td>\n",
       "      <td>3.751</td>\n",
       "      <td>1.336e+10</td>\n",
       "      <td>6.751</td>\n",
       "      <td>6.425e+14</td>\n",
       "      <td>3.694</td>\n",
       "      <td>1.495e+10</td>\n",
       "      <td>2.982</td>\n",
       "      <td>3.901e+14</td>\n",
       "      <td>1.2e+07</td>\n",
       "      <td>8.099e+05</td>\n",
       "      <td>1.089e+06</td>\n",
       "      <td>1.034e+07</td>\n",
       "      <td>1.458e+06</td>\n",
       "      <td>2.855e+07</td>\n",
       "      <td>5.512e+06</td>\n",
       "      <td>4.493e+06</td>\n",
       "      <td>6.945e+06</td>\n",
       "      <td>3.632e+06</td>\n",
       "      <td>1.33e+08</td>\n",
       "      <td>2.677e+08</td>\n",
       "      <td>1913</td>\n",
       "      <td>1.716e+08</td>\n",
       "      <td>9.262e+05</td>\n",
       "      <td>2.285e+06</td>\n",
       "      <td>1.388e+08</td>\n",
       "      <td>1.395e+04</td>\n",
       "      <td>1.466e+06</td>\n",
       "      <td>1.802e+07</td>\n",
       "      <td>6.653e+05</td>\n",
       "      <td>3.088e+05</td>\n",
       "      <td>1.801e+08</td>\n",
       "      <td>1.136e+06</td>\n",
       "      <td>5.564e+04</td>\n",
       "      <td>3.126e+07</td>\n",
       "      <td>5.633e+04</td>\n",
       "      <td>7.226e+05</td>\n",
       "      <td>2.985e+08</td>\n",
       "      <td>8.283e+06</td>\n",
       "      <td>1.711e+08</td>\n",
       "      <td>1.92e+05</td>\n",
       "      <td>1.912e+06</td>\n",
       "      <td>2.283e+06</td>\n",
       "      <td>9.432e+08</td>\n",
       "      <td>4.871e+07</td>\n",
       "      <td>5.932e+12</td>\n",
       "      <td>3.938e+12</td>\n",
       "      <td>1.054e+12</td>\n",
       "      <td>2.346e+14</td>\n",
       "      <td>3.26e+13</td>\n",
       "      <td>1.894e+13</td>\n",
       "      <td>5.592e+07</td>\n",
       "      <td>1.085e+07</td>\n",
       "      <td>2.087e+08</td>\n",
       "    </tr>\n",
       "  </tbody>\n",
       "</table>\n",
       "</div>"
      ],
      "text/plain": [
       "               2011_Forced 2011_Voluntary 2012_Employees 2012_Forced 2012_Voluntary 2013_Employees 2013_Forced 2013_Voluntary 2014_Employees 2014_Forced 2014_Voluntary  \\\n",
       "select_feature        True           True           True        True           True           True        True           True           True        True           True   \n",
       "variance             23.07          10.21      1.074e+10       38.31          16.38       1.13e+10       15.33          14.29      1.211e+10       2.302          3.751   \n",
       "\n",
       "               2015_Employees 2015_Forced 2015_LA_Arrears 2015_Voluntary 2016_Employees 2016_Forced 2016_LA_Arrears diff_1-14years_population  \\\n",
       "select_feature           True        True            True           True           True        True            True                      True   \n",
       "variance            1.336e+10       6.751       6.425e+14          3.694      1.495e+10       2.982       3.901e+14                   1.2e+07   \n",
       "\n",
       "               diff_15-19years_population diff_20-24years_population diff_25-29years_population diff_30-34years_population diff_35-44years_population  \\\n",
       "select_feature                       True                       True                       True                       True                       True   \n",
       "variance                        8.099e+05                  1.089e+06                  1.034e+07                  1.458e+06                  2.855e+07   \n",
       "\n",
       "               diff_45-54years_population diff_55-64years_population diff_65-74years_population diff_75years_over_population diff_All persons aged 15 years and over  \\\n",
       "select_feature                       True                       True                       True                         True                                    True   \n",
       "variance                        5.512e+06                  4.493e+06                  6.945e+06                    3.632e+06                                1.33e+08   \n",
       "\n",
       "               diff_AllPrivate diff_Assisting_relative diff_Employee diff_Employer or own account worker diff_Looking after home/family diff_Married_First_Marriage  \\\n",
       "select_feature            True                    True          True                                True                           True                        True   \n",
       "variance             2.677e+08                    1913     1.716e+08                           9.262e+05                      2.285e+06                   1.388e+08   \n",
       "\n",
       "               diff_Other economic status diff_Remarried diff_Retired diff_Same_Sex_Civil Partners diff_Seperated diff_Single diff_Student  \\\n",
       "select_feature                       True           True         True                         True           True        True         True   \n",
       "variance                        1.395e+04      1.466e+06    1.802e+07                    6.653e+05      3.088e+05   1.801e+08    1.136e+06   \n",
       "\n",
       "               diff_Unable to work due to permanent sickness or disability diff_Unemployed having lost or given up previous job  \\\n",
       "select_feature                                               True                                                        True     \n",
       "variance                                                5.564e+04                                                   3.126e+07     \n",
       "\n",
       "               diff_Unemployed looking for first regular job diff_Widowed diff_all_depature_timeAll_Persons  \\\n",
       "select_feature                                          True         True                              True   \n",
       "variance                                           5.633e+04    7.226e+05                         2.985e+08   \n",
       "\n",
       "               diff_all_depature_time_Children at school aged between 5 and 12 years diff_all_depature_time_Population aged 15 years and over at work  \\\n",
       "select_feature                                               True                                                                  True                 \n",
       "variance                                                8.283e+06                                                             1.711e+08                 \n",
       "\n",
       "               diff_all_depature_time_Students at school or college aged 19 years and over  \\\n",
       "select_feature                                               True                            \n",
       "variance                                                 1.92e+05                            \n",
       "\n",
       "               diff_all_depature_time_Students at school or college aged between 13 and 18 years diff_divorced diff_employment diff_female_population  \\\n",
       "select_feature                                               True                                         True            True                   True   \n",
       "variance                                                1.912e+06                                    2.283e+06       9.432e+08              4.871e+07   \n",
       "\n",
       "               diff_loanarrears_1 diff_loanarrears_2 diff_loanarrears_3 diff_loanarrears_4 diff_loanarrears_5 diff_loanarrears_6 diff_male_population  \\\n",
       "select_feature               True               True               True               True               True               True                 True   \n",
       "variance                5.932e+12          3.938e+12          1.054e+12          2.346e+14           3.26e+13          1.894e+13            5.592e+07   \n",
       "\n",
       "               diff_migration_population diff_total_population  \n",
       "select_feature                      True                  True  \n",
       "variance                       1.085e+07             2.087e+08  "
      ]
     },
     "execution_count": 39,
     "metadata": {},
     "output_type": "execute_result"
    }
   ],
   "source": [
    "pd.DataFrame({'variance': vt.variances_,\n",
    "              'select_feature': vt.get_support()},\n",
    "            index=X.columns).T"
   ]
  },
  {
   "cell_type": "code",
   "execution_count": 40,
   "metadata": {},
   "outputs": [
    {
     "data": {
      "text/plain": [
       "[('diff_All persons aged 15 years and over', 0.09948966719813461),\n",
       " ('diff_all_depature_time_Population aged 15 years and over at work',\n",
       "  0.055101919232430942),\n",
       " ('diff_20-24years_population', 0.052495640509725015),\n",
       " ('diff_Remarried', 0.051017635458992128),\n",
       " ('diff_15-19years_population', 0.050267844499140235)]"
      ]
     },
     "execution_count": 40,
     "metadata": {},
     "output_type": "execute_result"
    }
   ],
   "source": [
    "#Top 15 most important features\n",
    "#According to RandomForestClassifier\n",
    "from sklearn.ensemble import RandomForestClassifier\n",
    "\n",
    "model = RandomForestClassifier()\n",
    "model.fit(X, y)\n",
    "importance_scores = model.feature_importances_\n",
    "feature_importances = [(feature, score) for feature, score in zip(X.columns, importance_scores)]\n",
    "sorted(feature_importances, key=lambda x: -x[1])[:5]"
   ]
  },
  {
   "cell_type": "code",
   "execution_count": 41,
   "metadata": {},
   "outputs": [
    {
     "name": "stdout",
     "output_type": "stream",
     "text": [
      "Index(['2012_Employees', '2015_Employees', 'diff_1-14years_population', 'diff_25-29years_population', 'diff_30-34years_population', 'diff_55-64years_population',\n",
      "       'diff_AllPrivate', 'diff_Employee', 'diff_Married_First_Marriage', 'diff_Retired', 'diff_Single', 'diff_Student',\n",
      "       'diff_all_depature_time_Population aged 15 years and over at work', 'diff_all_depature_time_Students at school or college aged between 13 and 18 years',\n",
      "       'diff_employment'],\n",
      "      dtype='object')\n"
     ]
    }
   ],
   "source": [
    "#Recursive Feature Elimination\n",
    "from sklearn.linear_model import LogisticRegression\n",
    "from sklearn.feature_selection import RFE\n",
    "\n",
    "lr = LogisticRegression()\n",
    "rfe = RFE(estimator=lr, n_features_to_select=15, step=1)\n",
    "rfe.fit(X, y)\n",
    "select_features_rfe = rfe.get_support()\n",
    "feature_names_rfe = X.columns[select_features_rfe]\n",
    "print(feature_names_rfe)"
   ]
  },
  {
   "cell_type": "code",
   "execution_count": 42,
   "metadata": {},
   "outputs": [
    {
     "data": {
      "text/plain": [
       "{'diff_All persons aged 15 years and over',\n",
       " 'diff_Single',\n",
       " 'diff_all_depature_time_Students at school or college aged between 13 and 18 years',\n",
       " 'diff_employment',\n",
       " 'diff_total_population'}"
      ]
     },
     "execution_count": 42,
     "metadata": {},
     "output_type": "execute_result"
    }
   ],
   "source": [
    "set(['diff_All persons aged 15 years and over',\n",
    " 'diff_employment', \n",
    " 'diff_Single',\n",
    " 'diff_total_population',\n",
    " 'diff_all_depature_time_Students at school or college aged between 13 and 18 years'])"
   ]
  },
  {
   "cell_type": "code",
   "execution_count": 43,
   "metadata": {},
   "outputs": [
    {
     "data": {
      "text/plain": [
       "{'diff_Single',\n",
       " 'diff_all_depature_time_Students at school or college aged between 13 and 18 years',\n",
       " 'diff_employment'}"
      ]
     },
     "execution_count": 43,
     "metadata": {},
     "output_type": "execute_result"
    }
   ],
   "source": [
    "#Set of the Select Kbest and RFE\n",
    "set(feat_var_threshold) & set(feature_names_rfe) & set(['diff_All persons aged 15 years and over',\n",
    " 'diff_employment', \n",
    " 'diff_Single',\n",
    " 'diff_total_population',\n",
    " 'diff_all_depature_time_Students at school or college aged between 13 and 18 years'])"
   ]
  },
  {
   "cell_type": "code",
   "execution_count": 44,
   "metadata": {
    "collapsed": true
   },
   "outputs": [],
   "source": [
    "X = train[['diff_Single',\n",
    " 'diff_all_depature_time_Students at school or college aged between 13 and 18 years',\n",
    " 'diff_employment']]"
   ]
  },
  {
   "cell_type": "code",
   "execution_count": 45,
   "metadata": {
    "collapsed": true
   },
   "outputs": [],
   "source": [
    "#Standard Scalar\n",
    "from sklearn.preprocessing import StandardScaler, MinMaxScaler, RobustScaler\n",
    "ss = StandardScaler()\n",
    "X = ss.fit_transform(X)"
   ]
  },
  {
   "cell_type": "code",
   "execution_count": 46,
   "metadata": {},
   "outputs": [
    {
     "name": "stdout",
     "output_type": "stream",
     "text": [
      "Model: LR         : Accuracy: 42.308% | (49.405%)\n",
      "Model: LDA        : Accuracy: 42.308% | (49.405%)\n",
      "Model: K-NN       : Accuracy: 65.385% | (47.574%)\n",
      "Model: CART       : Accuracy: 53.846% | (49.852%)\n",
      "Model: NB         : Accuracy: 11.538% | (31.949%)\n",
      "Model: SVC        : Accuracy: 46.154% | (49.852%)\n",
      "Model: RFC        : Accuracy: 65.385% | (47.574%)\n",
      "Model: ADA        : Accuracy: 26.923% | (44.356%)\n",
      "Model: GBC        : Accuracy: 50.000% | (50.000%)\n",
      "Model: MLP        : Accuracy: 50.000% | (50.000%)\n"
     ]
    }
   ],
   "source": [
    "from sklearn.linear_model import LogisticRegression\n",
    "from sklearn.discriminant_analysis import LinearDiscriminantAnalysis\n",
    "from sklearn.neighbors import KNeighborsClassifier\n",
    "from sklearn.tree import DecisionTreeClassifier\n",
    "from sklearn.naive_bayes import GaussianNB\n",
    "from sklearn.svm import SVC\n",
    "from sklearn.ensemble import BaggingClassifier, ExtraTreesClassifier, GradientBoostingClassifier, VotingClassifier, RandomForestClassifier, AdaBoostClassifier\n",
    "from sklearn.neural_network import MLPClassifier\n",
    "from sklearn.metrics import classification_report,accuracy_score, roc_auc_score\n",
    "from sklearn import model_selection\n",
    "loocv = model_selection.LeaveOneOut()\n",
    "\n",
    "models = []\n",
    "models.append(('LR', LogisticRegression()))\n",
    "models.append(('LDA', LinearDiscriminantAnalysis()))\n",
    "models.append(('K-NN', KNeighborsClassifier(n_neighbors=5)))\n",
    "models.append(('CART', DecisionTreeClassifier()))\n",
    "models.append(('NB', GaussianNB()))\n",
    "models.append(('SVC', SVC(probability=True)))\n",
    "models.append(('RFC', RandomForestClassifier()))\n",
    "models.append(('ADA', AdaBoostClassifier()))\n",
    "models.append(('GBC', GradientBoostingClassifier()))\n",
    "models.append(('MLP', MLPClassifier()))\n",
    "\n",
    "# Evaluate each model in turn\n",
    "accuracy = []\n",
    "names = []\n",
    "std =[]\n",
    "#loocv = model_selection.LeaveOneOut()\n",
    "\n",
    "for name, model in models:\n",
    "    results = model_selection.cross_val_score(model, X, y, cv=loocv)\n",
    "    accuracy.append(results.mean()*100.0)\n",
    "    std.append(results.std()*100.0)\n",
    "    #roc.append(roc_auc_score(y_test, predictions))\n",
    "    \n",
    "    names.append(name)\n",
    "for name, acc,s in zip(names, accuracy,std):\n",
    "    #Accuracy mean and standard deviation\n",
    "    print(\"Model: {0:10s} : Accuracy: {1:4.3f}% | ({2:4.3f}%)\".format(name,acc,s))\n",
    "    ## boxplot algorithm comparison\n"
   ]
  },
  {
   "cell_type": "markdown",
   "metadata": {},
   "source": [
    "#### The accuracy is no good. We try stepwise classification or greedy selection of variables"
   ]
  },
  {
   "cell_type": "code",
   "execution_count": 47,
   "metadata": {
    "collapsed": true
   },
   "outputs": [],
   "source": [
    "train = df[['County',\n",
    "# 'diff_mortgage_count_1',\n",
    "#  'diff_mortgage_count_2',\n",
    "#  'diff_mortgage_count_3',\n",
    "#  'diff_mortgage_count_4',\n",
    "#  'diff_mortgage_count_5',\n",
    "#  'diff_mortgage_count_6',\n",
    "#  'diff_new_house_price_1',\n",
    "#  'diff_new_house_price_2',\n",
    "#  'diff_new_house_price_3',\n",
    "#  'diff_new_house_price_4',\n",
    "#  'diff_new_house_price_5',\n",
    "#  'diff_new_house_price_6',\n",
    "#  'diff_secondhand_house_price_1',\n",
    "#  'diff_secondhand_house_price_2',\n",
    "#  'diff_secondhand_house_price_3',\n",
    "#  'diff_secondhand_house_price_4',\n",
    "#  'diff_secondhand_house_price_5',\n",
    "#  'diff_secondhand_house_price_6',\n",
    "#  'diff_sum_house_price_1',\n",
    "#  'diff_sum_house_price_2',\n",
    "#  'diff_sum_house_price_3',\n",
    "#  'diff_sum_house_price_4',\n",
    "#  'diff_sum_house_price_5',\n",
    "#  'diff_sum_house_price_6',\n",
    "#  'diff_interestrate_1',\n",
    "#  'diff_interestrate_2',\n",
    "#  'diff_interestrate_3',\n",
    "#  'diff_interestrate_4',\n",
    "#  'diff_interestrate_5',\n",
    "#  'diff_interestrate_6',\n",
    " 'diff_loanarrears_1',\n",
    " 'diff_loanarrears_2',\n",
    " 'diff_loanarrears_3',\n",
    " 'diff_loanarrears_4',\n",
    " 'diff_loanarrears_5',\n",
    " 'diff_loanarrears_6',\n",
    "#  'diff_loanapproved_1',\n",
    "#  'diff_loanapproved_2',\n",
    "#  'diff_loanapproved_3',\n",
    "#  'diff_loanapproved_4',\n",
    "#  'diff_loanapproved_5',\n",
    "#  'diff_loanapproved_6',\n",
    "#  'diff_loanpaid_1',\n",
    "#  'diff_loanpaid_2',\n",
    "#  'diff_loanpaid_3',\n",
    "#  'diff_loanpaid_4',\n",
    "#  'diff_loanpaid_5',\n",
    "#  'diff_loanpaid_6',\n",
    "#    'diff_diversity_bothsexes',\n",
    "#    'diff_diversity_female','diff_diversity_male',\n",
    " 'diff_male_population',\n",
    " 'diff_female_population',\n",
    " 'diff_total_population',\n",
    " 'diff_migration_population',\n",
    "#  'diff_1-14years_population',\n",
    "#  'diff_15-19years_population',\n",
    "#  'diff_20-24years_population',\n",
    "#  'diff_25-29years_population',\n",
    "#  'diff_30-34years_population',\n",
    "#  'diff_35-44years_population',\n",
    "#  'diff_45-54years_population',\n",
    "#  'diff_55-64years_population',\n",
    "#  'diff_65-74years_population',\n",
    "#  'diff_75years_over_population',\n",
    " 'diff_employment',\n",
    "#  'diff_average',\n",
    " 'diff_Married_First_Marriage',\n",
    " 'diff_divorced',\n",
    " 'diff_Same_Sex_Civil Partners',\n",
    " 'diff_Remarried',\n",
    " 'diff_Seperated',\n",
    " 'diff_Single',\n",
    " 'diff_Widowed',\n",
    "#    'diff_AllPrivate',\n",
    "#  'diff_All persons aged 15 years and over',\n",
    "#  'diff_Employer or own account worker',\n",
    "#  'diff_Employee',\n",
    "#  'diff_Assisting_relative',\n",
    "#  'diff_Unemployed looking for first regular job',\n",
    "#  'diff_Unemployed having lost or given up previous job',\n",
    "#  'diff_Student',\n",
    "#  'diff_Looking after home/family',\n",
    "#  'diff_Retired',\n",
    "#  'diff_Unable to work due to permanent sickness or disability',\n",
    "#  'diff_Other economic status',\n",
    " 'diff_all_depature_timeAll_Persons',\n",
    " 'diff_all_depature_time_Children at school aged between 5 and 12 years',\n",
    " 'diff_all_depature_time_Students at school or college aged between 13 and 18 years',\n",
    " 'diff_all_depature_time_Students at school or college aged 19 years and over',\n",
    " 'diff_all_depature_time_Population aged 15 years and over at work',\n",
    "   #Loans Approved\n",
    "\n",
    "#  '2011_Loans Approved',\n",
    "#  '2012_Loans Approved',\n",
    "#  '2013_Loans Approved',\n",
    "#  '2014_Loans Approved',\n",
    "#  '2015_Loans Approved', \n",
    "# '2016_Loans_Approved',#\n",
    "#  '2017_Loans Approved',\n",
    "\n",
    "# #Loans Paid\n",
    "# '2011_Loans_Paid',\n",
    "# '2012_Loans_Paid',\n",
    "# '2013_Loans_Paid',\n",
    "#  '2014_Loans_Paid',\n",
    "# '2015_Loans_Paid',\n",
    "#  '2017_Loans_Paid', \n",
    "#  '2016_Loans_Paid',\n",
    "\n",
    "# Repossesions of the houses\n",
    "\n",
    "'2011_Forced',\n",
    " '2011_Voluntary',\n",
    " '2012_Forced',\n",
    " '2012_Voluntary',\n",
    " '2013_Forced',\n",
    " '2013_Voluntary',\n",
    " '2014_Forced',\n",
    " '2014_Voluntary',\n",
    " '2015_Forced',\n",
    " '2015_Voluntary',\n",
    " '2016_Forced',\n",
    "#  '2017_Voluntary',\n",
    "#  '2017_Forced',#May be remove this\n",
    "#  '2017_Voluntary.1',#Remove this\n",
    "\n",
    "# #Number of Employees\n",
    "#  '2012_Employees',\n",
    "#  '2013_Employees',\n",
    "#  '2014_Employees',\n",
    "#  '2015_Employees',\n",
    "#  '2016_Employees',\n",
    "\n",
    "#Arrears—\n",
    "# '2011_LA_Arrears',\n",
    "# '2012_LA_Arrears',\n",
    "#  '2013_LA_Arrears',\n",
    "# '2014_LA_Arrears',\n",
    "'2015_LA_Arrears',\n",
    " '2016_LA_Arrears',\n",
    "#'2017_LA_Arrears',\n",
    "# Target Label\n",
    "'Provinces'\n",
    "           ]]"
   ]
  },
  {
   "cell_type": "code",
   "execution_count": 48,
   "metadata": {
    "collapsed": true
   },
   "outputs": [],
   "source": [
    "#list(train.columns)"
   ]
  },
  {
   "cell_type": "code",
   "execution_count": 49,
   "metadata": {
    "collapsed": true
   },
   "outputs": [],
   "source": [
    "train['sum_forced_possesion'] = df['2011_Forced'] + df['2012_Forced'] + df['2014_Forced'] + df['2015_Forced'] + df['2016_Forced']"
   ]
  },
  {
   "cell_type": "code",
   "execution_count": 50,
   "metadata": {
    "collapsed": true
   },
   "outputs": [],
   "source": [
    "train['sum_voluntary_possesion'] = df['2011_Voluntary'] + df['2012_Voluntary'] + df['2014_Voluntary'] + df['2015_Voluntary']"
   ]
  },
  {
   "cell_type": "code",
   "execution_count": null,
   "metadata": {
    "collapsed": true
   },
   "outputs": [],
   "source": []
  },
  {
   "cell_type": "code",
   "execution_count": 51,
   "metadata": {
    "collapsed": true
   },
   "outputs": [],
   "source": [
    "train['sum_societal'] = df[['diff_employment',\n",
    " 'diff_Married_First_Marriage',\n",
    " 'diff_divorced',\n",
    " 'diff_Same_Sex_Civil Partners',\n",
    " 'diff_Remarried',\n",
    " 'diff_Seperated',\n",
    " 'diff_Single',\n",
    " 'diff_Widowed']].sum(axis =1)"
   ]
  },
  {
   "cell_type": "code",
   "execution_count": 52,
   "metadata": {
    "collapsed": true
   },
   "outputs": [],
   "source": [
    "train['sum_population'] = df[['diff_male_population',\n",
    " 'diff_female_population',\n",
    " 'diff_total_population',\n",
    " 'diff_migration_population']].sum(axis =1)"
   ]
  },
  {
   "cell_type": "code",
   "execution_count": 53,
   "metadata": {
    "collapsed": true
   },
   "outputs": [],
   "source": [
    "train['sum_commuter'] = df[['diff_all_depature_timeAll_Persons',\n",
    " 'diff_all_depature_time_Children at school aged between 5 and 12 years',\n",
    " 'diff_all_depature_time_Students at school or college aged between 13 and 18 years',\n",
    " 'diff_all_depature_time_Students at school or college aged 19 years and over',\n",
    " 'diff_all_depature_time_Population aged 15 years and over at work']].sum(axis =1)"
   ]
  },
  {
   "cell_type": "code",
   "execution_count": 54,
   "metadata": {
    "collapsed": true
   },
   "outputs": [],
   "source": [
    "train['ratio_commuter_population'] = train['sum_commuter'] / train['sum_population']"
   ]
  },
  {
   "cell_type": "code",
   "execution_count": 55,
   "metadata": {},
   "outputs": [
    {
     "data": {
      "text/plain": [
       "['County',\n",
       " 'diff_loanarrears_1',\n",
       " 'diff_loanarrears_2',\n",
       " 'diff_loanarrears_3',\n",
       " 'diff_loanarrears_4',\n",
       " 'diff_loanarrears_5',\n",
       " 'diff_loanarrears_6',\n",
       " 'diff_male_population',\n",
       " 'diff_female_population',\n",
       " 'diff_total_population',\n",
       " 'diff_migration_population',\n",
       " 'diff_employment',\n",
       " 'diff_Married_First_Marriage',\n",
       " 'diff_divorced',\n",
       " 'diff_Same_Sex_Civil Partners',\n",
       " 'diff_Remarried',\n",
       " 'diff_Seperated',\n",
       " 'diff_Single',\n",
       " 'diff_Widowed',\n",
       " 'diff_all_depature_timeAll_Persons',\n",
       " 'diff_all_depature_time_Children at school aged between 5 and 12 years',\n",
       " 'diff_all_depature_time_Students at school or college aged between 13 and 18 years',\n",
       " 'diff_all_depature_time_Students at school or college aged 19 years and over',\n",
       " 'diff_all_depature_time_Population aged 15 years and over at work',\n",
       " '2011_Forced',\n",
       " '2011_Voluntary',\n",
       " '2012_Forced',\n",
       " '2012_Voluntary',\n",
       " '2013_Forced',\n",
       " '2013_Voluntary',\n",
       " '2014_Forced',\n",
       " '2014_Voluntary',\n",
       " '2015_Forced',\n",
       " '2015_Voluntary',\n",
       " '2016_Forced',\n",
       " '2015_LA_Arrears',\n",
       " '2016_LA_Arrears',\n",
       " 'Provinces',\n",
       " 'sum_forced_possesion',\n",
       " 'sum_voluntary_possesion',\n",
       " 'sum_societal',\n",
       " 'sum_population',\n",
       " 'sum_commuter',\n",
       " 'ratio_commuter_population']"
      ]
     },
     "execution_count": 55,
     "metadata": {},
     "output_type": "execute_result"
    }
   ],
   "source": [
    "list(train.columns)"
   ]
  },
  {
   "cell_type": "code",
   "execution_count": 56,
   "metadata": {
    "collapsed": true
   },
   "outputs": [],
   "source": [
    "df1 = train[['County',\n",
    " 'diff_loanarrears_1',\n",
    " 'diff_loanarrears_2',\n",
    " 'diff_loanarrears_3',\n",
    " 'diff_loanarrears_4',\n",
    " 'diff_loanarrears_5',\n",
    " 'diff_loanarrears_6',\n",
    " 'diff_employment',\n",
    "           'sum_forced_possesion',\n",
    " 'sum_voluntary_possesion',\n",
    "            'sum_population',\n",
    "             'sum_commuter',\n",
    "             #'ratio_commuter_population',\n",
    "             '2015_LA_Arrears',\n",
    " '2016_LA_Arrears',\n",
    "            'Provinces']]"
   ]
  },
  {
   "cell_type": "markdown",
   "metadata": {},
   "source": [
    "##### One hot Encode"
   ]
  },
  {
   "cell_type": "code",
   "execution_count": 57,
   "metadata": {
    "collapsed": true
   },
   "outputs": [],
   "source": [
    "# use pd.concat to join the new columns with your original dataframe\n",
    "#http://queirozf.com/entries/one-hot-encoding-a-feature-on-a-pandas-dataframe-an-example\n",
    "df1 = pd.concat([df1,pd.get_dummies(df1['County'], prefix='County')],axis=1)\n",
    "# now drop the original 'country' column (you don't need it anymore)\n",
    "df1.drop(['County'],axis=1, inplace=True)"
   ]
  },
  {
   "cell_type": "code",
   "execution_count": 58,
   "metadata": {
    "collapsed": true
   },
   "outputs": [],
   "source": [
    "#df1"
   ]
  },
  {
   "cell_type": "code",
   "execution_count": 59,
   "metadata": {},
   "outputs": [
    {
     "name": "stdout",
     "output_type": "stream",
     "text": [
      "Model: LR         : Accuracy: 19.231% | (39.411%)\n",
      "Model: LDA        : Accuracy: 46.154% | (49.852%)\n",
      "Model: K-NN       : Accuracy: 23.077% | (42.133%)\n",
      "Model: CART       : Accuracy: 26.923% | (44.356%)\n",
      "Model: NB         : Accuracy: 19.231% | (39.411%)\n",
      "Model: SVC        : Accuracy: 46.154% | (49.852%)\n",
      "Model: RFC        : Accuracy: 34.615% | (47.574%)\n",
      "Model: ADA        : Accuracy: 57.692% | (49.405%)\n",
      "Model: GBC        : Accuracy: 42.308% | (49.405%)\n",
      "Model: MLP        : Accuracy: 19.231% | (39.411%)\n"
     ]
    }
   ],
   "source": [
    "#Remove county and the target label\n",
    "#X = features.drop('delinquent', axis=1)\n",
    "X1 = df1[df1.columns.difference(['Provinces'])]\n",
    "y1 = df1['Provinces']\n",
    "#Standard Scalar\n",
    "from sklearn.preprocessing import StandardScaler, MinMaxScaler, RobustScaler\n",
    "ss = StandardScaler()\n",
    "X1 = ss.fit_transform(X1)\n",
    "from sklearn.linear_model import LogisticRegression\n",
    "from sklearn.discriminant_analysis import LinearDiscriminantAnalysis\n",
    "from sklearn.neighbors import KNeighborsClassifier\n",
    "from sklearn.tree import DecisionTreeClassifier\n",
    "from sklearn.naive_bayes import GaussianNB\n",
    "from sklearn.svm import SVC\n",
    "from sklearn.ensemble import BaggingClassifier, ExtraTreesClassifier, GradientBoostingClassifier, VotingClassifier, RandomForestClassifier, AdaBoostClassifier\n",
    "from sklearn.neural_network import MLPClassifier\n",
    "from sklearn.metrics import classification_report,accuracy_score, roc_auc_score\n",
    "from sklearn import model_selection\n",
    "loocv = model_selection.LeaveOneOut()\n",
    "\n",
    "models = []\n",
    "models.append(('LR', LogisticRegression()))\n",
    "models.append(('LDA', LinearDiscriminantAnalysis()))\n",
    "models.append(('K-NN', KNeighborsClassifier(n_neighbors=5)))\n",
    "models.append(('CART', DecisionTreeClassifier()))\n",
    "models.append(('NB', GaussianNB()))\n",
    "models.append(('SVC', SVC(probability=True)))\n",
    "models.append(('RFC', RandomForestClassifier()))\n",
    "models.append(('ADA', AdaBoostClassifier()))\n",
    "models.append(('GBC', GradientBoostingClassifier()))\n",
    "models.append(('MLP', MLPClassifier()))\n",
    "\n",
    "# Evaluate each model in turn\n",
    "accuracy = []\n",
    "names = []\n",
    "std =[]\n",
    "#loocv = model_selection.LeaveOneOut()\n",
    "\n",
    "for name, model in models:\n",
    "    results = model_selection.cross_val_score(model, X1, y1, cv=loocv)\n",
    "    accuracy.append(results.mean()*100.0)\n",
    "    std.append(results.std()*100.0)\n",
    "    #roc.append(roc_auc_score(y_test, predictions))\n",
    "    \n",
    "    names.append(name)\n",
    "for name, acc,s in zip(names, accuracy,std):\n",
    "    #Accuracy mean and standard deviation\n",
    "    print(\"Model: {0:10s} : Accuracy: {1:4.3f}% | ({2:4.3f}%)\".format(name,acc,s))\n",
    "    ## boxplot algorithm comparison\n",
    "\n"
   ]
  },
  {
   "cell_type": "code",
   "execution_count": 60,
   "metadata": {},
   "outputs": [
    {
     "name": "stdout",
     "output_type": "stream",
     "text": [
      "Accuracy: 46.154% (49.852%)\n"
     ]
    }
   ],
   "source": [
    "from sklearn import ensemble\n",
    "original_params = {'n_estimators': 100, 'max_leaf_nodes': 2, 'max_depth': None, 'random_state': 5,\n",
    "                   'min_samples_split': 2}\n",
    "\n",
    "loocv = model_selection.LeaveOneOut()\n",
    "model =  ensemble.GradientBoostingClassifier(**original_params)\n",
    "results = model_selection.cross_val_score(model, X1, y1, cv=loocv)\n",
    "print(\"Accuracy: %.3f%% (%.3f%%)\" % (results.mean()*100.0, results.std()*100.0))"
   ]
  },
  {
   "cell_type": "code",
   "execution_count": 61,
   "metadata": {},
   "outputs": [
    {
     "name": "stdout",
     "output_type": "stream",
     "text": [
      "Accuracy: 42.308% (49.405%)\n"
     ]
    }
   ],
   "source": [
    "from sklearn import ensemble\n",
    "original_params = {'n_estimators': 100, 'max_leaf_nodes': 2, 'max_depth': None, 'random_state': 5,\n",
    "                   'min_samples_split': 2}\n",
    "\n",
    "loocv = model_selection.LeaveOneOut()\n",
    "model =  ensemble.GradientBoostingClassifier(learning_rate=0.1, n_estimators=6,max_depth=3,max_features='sqrt', subsample=0.8, random_state=10)\n",
    "results = model_selection.cross_val_score(model, X1, y1, cv=loocv)\n",
    "print(\"Accuracy: %.3f%% (%.3f%%)\" % (results.mean()*100.0, results.std()*100.0))"
   ]
  },
  {
   "cell_type": "markdown",
   "metadata": {},
   "source": [
    "###### One Hot Encoding is not improving the accuracy"
   ]
  },
  {
   "cell_type": "code",
   "execution_count": null,
   "metadata": {
    "collapsed": true
   },
   "outputs": [],
   "source": []
  },
  {
   "cell_type": "code",
   "execution_count": 62,
   "metadata": {
    "collapsed": true
   },
   "outputs": [],
   "source": [
    "#https://medium.com/@pushkarmandot/https-medium-com-pushkarmandot-what-is-lightgbm-how-to-implement-it-how-to-fine-tune-the-parameters-60347819b7fc\n",
    "#Why not use lightgbm on small datasets"
   ]
  },
  {
   "cell_type": "code",
   "execution_count": null,
   "metadata": {
    "collapsed": true
   },
   "outputs": [],
   "source": []
  },
  {
   "cell_type": "markdown",
   "metadata": {},
   "source": [
    "https://www.analyticsvidhya.com/blog/2016/02/complete-guide-parameter-tuning-gradient-boosting-gbm-python/"
   ]
  },
  {
   "cell_type": "code",
   "execution_count": 63,
   "metadata": {
    "collapsed": true
   },
   "outputs": [],
   "source": [
    "# df2 = train[['County',\n",
    "# #  'diff_loanarrears_1',\n",
    "# #  'diff_loanarrears_2',\n",
    "# #  'diff_loanarrears_3',\n",
    "# #  'diff_loanarrears_4',\n",
    "# #  'diff_loanarrears_5',\n",
    "# #  'diff_loanarrears_6',\n",
    "# #  'diff_employment',\n",
    "#            'sum_forced_possesion',\n",
    "#  'sum_voluntary_possesion',\n",
    "#             'sum_population',\n",
    "#              'sum_commuter',\n",
    "#              #'ratio_commuter_population',\n",
    "#              #'2015_LA_Arrears',\n",
    "#  #'2016_LA_Arrears',\n",
    "#             'Provinces']]\n",
    "\n"
   ]
  },
  {
   "cell_type": "code",
   "execution_count": 114,
   "metadata": {},
   "outputs": [
    {
     "name": "stdout",
     "output_type": "stream",
     "text": [
      "Model: LR         : Accuracy: 38.462% | (48.650%)\n",
      "Model: LDA        : Accuracy: 30.769% | (46.154%)\n",
      "Model: K-NN       : Accuracy: 34.615% | (47.574%)\n",
      "Model: CART       : Accuracy: 34.615% | (47.574%)\n",
      "Model: NB         : Accuracy: 19.231% | (39.411%)\n",
      "Model: SVC        : Accuracy: 46.154% | (49.852%)\n",
      "Model: RFC        : Accuracy: 42.308% | (49.405%)\n",
      "Model: ADA        : Accuracy: 57.692% | (49.405%)\n",
      "Model: GBC        : Accuracy: 57.692% | (49.405%)\n",
      "Model: MLP        : Accuracy: 34.615% | (47.574%)\n"
     ]
    }
   ],
   "source": [
    "df2 = train[['County',\n",
    "#  'diff_loanarrears_1',\n",
    "#  'diff_loanarrears_2',\n",
    "#  'diff_loanarrears_3',\n",
    "# 'diff_loanarrears_4',\n",
    "# 'diff_loanarrears_5',\n",
    "#  'diff_loanarrears_6',\n",
    "# 'diff_male_population',\n",
    "# 'diff_female_population', # strange require female population for more accuracy\n",
    "'diff_total_population',\n",
    "# 'diff_migration_population',\n",
    " 'diff_employment',\n",
    " 'diff_Married_First_Marriage',\n",
    " 'diff_divorced',\n",
    " #'diff_Same_Sex_Civil Partners',\n",
    " 'diff_Remarried',\n",
    "'diff_Seperated',\n",
    " 'diff_Single',\n",
    " 'diff_Widowed',\n",
    "#   'diff_all_depature_timeAll_Persons',\n",
    "#  'diff_all_depature_time_Children at school aged between 5 and 12 years',\n",
    "#  'diff_all_depature_time_Students at school or college aged between 13 and 18 years',\n",
    "#  'diff_all_depature_time_Students at school or college aged 19 years and over',\n",
    "#  'diff_all_depature_time_Population aged 15 years and over at work',\n",
    "#             'sum_societal',\n",
    "# 'sum_population',\n",
    " 'sum_commuter',\n",
    " #'ratio_commuter_population',\n",
    "#  '2011_Forced',\n",
    "#  '2011_Voluntary',\n",
    "#  '2012_Forced',\n",
    "#  '2012_Voluntary',\n",
    "#  '2013_Forced',\n",
    "#  #'2013_Voluntary',\n",
    "#  '2014_Forced',\n",
    "#  '2014_Voluntary',\n",
    "#  '2015_Forced',\n",
    "#  #'2015_Voluntary',\n",
    "#  '2016_Forced',\n",
    "#  '2015_LA_Arrears',\n",
    "#  '2016_LA_Arrears',\n",
    " 'Provinces',\n",
    "  'sum_forced_possesion',\n",
    " 'sum_voluntary_possesion'\n",
    "            ]]\n",
    "X2 = df2[df2.columns.difference(['County','Provinces'])]\n",
    "y2 = df2['Provinces']\n",
    "#Standard Scalar\n",
    "from sklearn.preprocessing import StandardScaler, MinMaxScaler, RobustScaler\n",
    "ss = StandardScaler()\n",
    "X2 = ss.fit_transform(X2)\n",
    "\n",
    "from sklearn.linear_model import LogisticRegression\n",
    "from sklearn.discriminant_analysis import LinearDiscriminantAnalysis\n",
    "from sklearn.neighbors import KNeighborsClassifier\n",
    "from sklearn.tree import DecisionTreeClassifier\n",
    "from sklearn.naive_bayes import GaussianNB\n",
    "from sklearn.svm import SVC\n",
    "from sklearn.ensemble import BaggingClassifier, ExtraTreesClassifier, GradientBoostingClassifier, VotingClassifier, RandomForestClassifier, AdaBoostClassifier\n",
    "from sklearn.neural_network import MLPClassifier\n",
    "from sklearn.metrics import classification_report,accuracy_score, roc_auc_score\n",
    "\n",
    "models = []\n",
    "models.append(('LR', LogisticRegression()))\n",
    "models.append(('LDA', LinearDiscriminantAnalysis()))\n",
    "models.append(('K-NN', KNeighborsClassifier(n_neighbors=5)))\n",
    "models.append(('CART', DecisionTreeClassifier()))\n",
    "models.append(('NB', GaussianNB()))\n",
    "models.append(('SVC', SVC(probability=True)))\n",
    "models.append(('RFC', RandomForestClassifier()))\n",
    "models.append(('ADA', AdaBoostClassifier()))\n",
    "models.append(('GBC', GradientBoostingClassifier()))\n",
    "models.append(('MLP', MLPClassifier()))\n",
    "\n",
    "# Evaluate each model in turn\n",
    "accuracy = []\n",
    "names = []\n",
    "std =[]\n",
    "#loocv = model_selection.LeaveOneOut()\n",
    "\n",
    "for name, model in models:\n",
    "    results = model_selection.cross_val_score(model, X2, y2, cv=loocv)\n",
    "    accuracy.append(results.mean()*100.0)\n",
    "    std.append(results.std()*100.0)\n",
    "    #roc.append(roc_auc_score(y_test, predictions))\n",
    "    \n",
    "    names.append(name)\n",
    "for name, acc,s in zip(names, accuracy,std):\n",
    "    #Accuracy mean and standard deviation\n",
    "    print(\"Model: {0:10s} : Accuracy: {1:4.3f}% | ({2:4.3f}%)\".format(name,acc,s))\n",
    "    ## boxplot algorithm comparison"
   ]
  },
  {
   "cell_type": "markdown",
   "metadata": {},
   "source": [
    "https://machinelearningmastery.com/how-to-tune-algorithm-parameters-with-scikit-learn/\n",
    "\n",
    "https://medium.com/@elutins/grid-searching-in-machine-learning-quick-explanation-and-python-implementation-550552200596"
   ]
  },
  {
   "cell_type": "code",
   "execution_count": 115,
   "metadata": {},
   "outputs": [
    {
     "name": "stdout",
     "output_type": "stream",
     "text": [
      "Accuracy: 57.692% (49.405%)\n"
     ]
    }
   ],
   "source": [
    "from sklearn import ensemble\n",
    "gridSearch_params = {'random_state': 5,'criterion': 'friedman_mse', 'learning_rate': 0.05, 'loss': 'deviance', 'max_depth': 8, 'max_features': 'sqrt', 'min_samples_leaf': 0.13636363636363638, 'min_samples_split': 0.13636363636363638, 'n_estimators': 10, 'subsample': 1.0}\n",
    "\n",
    "loocv = model_selection.LeaveOneOut()\n",
    "model =  ensemble.GradientBoostingClassifier(**gridSearch_params)\n",
    "results = model_selection.cross_val_score(model, X2, y2, cv=loocv)\n",
    "print(\"Accuracy: %.3f%% (%.3f%%)\" % (results.mean()*100.0, results.std()*100.0))\n",
    "\n"
   ]
  },
  {
   "cell_type": "code",
   "execution_count": 106,
   "metadata": {},
   "outputs": [
    {
     "data": {
      "text/plain": [
       "array([[ 4,  1,  0,  0],\n",
       "       [ 0, 12,  0,  0],\n",
       "       [ 1,  3,  2,  0],\n",
       "       [ 1,  1,  1,  0]], dtype=int64)"
      ]
     },
     "execution_count": 106,
     "metadata": {},
     "output_type": "execute_result"
    }
   ],
   "source": [
    "#https://stackoverflow.com/questions/40057049/using-confusion-matrix-as-scoring-metric-in-cross-validation-in-scikit-learn\n",
    "from sklearn.model_selection import cross_val_predict\n",
    "from sklearn.metrics import confusion_matrix\n",
    "y_pred = cross_val_predict(model, X2, y2, cv=loocv)\n",
    "conf_mat = confusion_matrix(y2, y_pred)\n",
    "conf_mat"
   ]
  },
  {
   "cell_type": "code",
   "execution_count": 107,
   "metadata": {
    "collapsed": true
   },
   "outputs": [],
   "source": [
    "# https://stackoverflow.com/questions/39685740/calculate-sklearn-roc-auc-score-for-multi-class\n",
    "from scipy import interp\n",
    "\n",
    "from  sklearn.metrics import precision_recall_fscore_support\n",
    "from sklearn.metrics import roc_curve, auc\n",
    "from sklearn.preprocessing import LabelBinarizer\n",
    "\n",
    "def class_report(y_true, y_pred, y_score=None, average='micro'):\n",
    "    if y_true.shape != y_pred.shape:\n",
    "        print(\"Error! y_true %s is not the same shape as y_pred %s\" % (\n",
    "              y_true.shape,\n",
    "              y_pred.shape)\n",
    "        )\n",
    "        return\n",
    "\n",
    "    lb = LabelBinarizer()\n",
    "\n",
    "    if len(y_true.shape) == 1:\n",
    "        lb.fit(y_true)\n",
    "    #Value counts of predictions\n",
    "    labels, cnt = np.unique(\n",
    "        y_pred,\n",
    "        return_counts=True)\n",
    "    n_classes = len(labels)\n",
    "    pred_cnt = pd.Series(cnt, index=labels)\n",
    "\n",
    "    metrics_summary = precision_recall_fscore_support(\n",
    "            y_true=y_true,\n",
    "            y_pred=y_pred,\n",
    "            labels=labels)\n",
    "\n",
    "    avg = list(precision_recall_fscore_support(\n",
    "            y_true=y_true, \n",
    "            y_pred=y_pred,\n",
    "            average='weighted'))\n",
    "    metrics_sum_index = ['precision', 'recall', 'f1-score', 'support']\n",
    "    class_report_df = pd.DataFrame(\n",
    "        list(metrics_summary),\n",
    "        index=metrics_sum_index,\n",
    "        columns=labels)\n",
    "\n",
    "    support = class_report_df.loc['support']\n",
    "    total = support.sum() \n",
    "    class_report_df['avg / total'] = avg[:-1] + [total]\n",
    "\n",
    "    class_report_df = class_report_df.T\n",
    "    class_report_df['pred'] = pred_cnt\n",
    "    class_report_df['pred'].iloc[-1] = total\n",
    "\n",
    "    if not (y_score is None):\n",
    "        fpr = dict()\n",
    "        tpr = dict()\n",
    "        roc_auc = dict()\n",
    "        for label_it, label in enumerate(labels):\n",
    "            fpr[label], tpr[label], _ = roc_curve(\n",
    "                (y_true == label).astype(int), \n",
    "                y_score[:, label_it])\n",
    "\n",
    "            roc_auc[label] = auc(fpr[label], tpr[label])\n",
    "\n",
    "        if average == 'micro':\n",
    "            if n_classes <= 2:\n",
    "                fpr[\"avg / total\"], tpr[\"avg / total\"], _ = roc_curve(\n",
    "                    lb.transform(y_true).ravel(), \n",
    "                    y_score[:, 1].ravel())\n",
    "            else:\n",
    "                fpr[\"avg / total\"], tpr[\"avg / total\"], _ = roc_curve(\n",
    "                        lb.transform(y_true).ravel(), \n",
    "                        y_score.ravel())\n",
    "\n",
    "            roc_auc[\"avg / total\"] = auc(\n",
    "                fpr[\"avg / total\"], \n",
    "                tpr[\"avg / total\"])\n",
    "\n",
    "        elif average == 'macro':\n",
    "            # First aggregate all false positive rates\n",
    "            all_fpr = np.unique(np.concatenate([\n",
    "                fpr[i] for i in labels]\n",
    "            ))\n",
    "\n",
    "            # Then interpolate all ROC curves at this points\n",
    "            mean_tpr = np.zeros_like(all_fpr)\n",
    "            for i in labels:\n",
    "                mean_tpr += interp(all_fpr, fpr[i], tpr[i])\n",
    "\n",
    "            # Finally average it and compute AUC\n",
    "            mean_tpr /= n_classes\n",
    "\n",
    "            fpr[\"macro\"] = all_fpr\n",
    "            tpr[\"macro\"] = mean_tpr\n",
    "\n",
    "            roc_auc[\"avg / total\"] = auc(fpr[\"macro\"], tpr[\"macro\"])\n",
    "\n",
    "        class_report_df['AUC'] = pd.Series(roc_auc)\n",
    "\n",
    "    return class_report_df\n"
   ]
  },
  {
   "cell_type": "code",
   "execution_count": 108,
   "metadata": {},
   "outputs": [
    {
     "name": "stdout",
     "output_type": "stream",
     "text": [
      "             precision    recall  f1-score   support\n",
      "\n",
      "   Connacht   0.666667  0.800000  0.727273         5\n",
      "   Leinster   0.705882  1.000000  0.827586        12\n",
      "    Munster   0.666667  0.333333  0.444444         6\n",
      "     Ulster   0.000000  0.000000  0.000000         3\n",
      "\n",
      "avg / total   0.607843  0.692308  0.624387        26\n",
      "\n"
     ]
    }
   ],
   "source": [
    "sk_report = classification_report(\n",
    "    digits=6,\n",
    "    y_true=y2, \n",
    "    y_pred=cross_val_predict(model, X2, y2, cv=loocv))\n",
    "print(sk_report)"
   ]
  },
  {
   "cell_type": "code",
   "execution_count": 109,
   "metadata": {},
   "outputs": [
    {
     "name": "stdout",
     "output_type": "stream",
     "text": [
      "             precision  recall  f1-score  support  pred     AUC\n",
      "Connacht        0.6667  0.8000    0.7273      5.0   6.0  0.8000\n",
      "Leinster        0.7059  1.0000    0.8276     12.0  17.0  0.7262\n",
      "Munster         0.6667  0.3333    0.4444      6.0   3.0  0.6750\n",
      "avg / total     0.6078  0.6923    0.6244     23.0  23.0  0.7544\n"
     ]
    }
   ],
   "source": [
    "report_with_auc = class_report(\n",
    "    y_true=y2,\n",
    "    y_pred=cross_val_predict(model, X2, y2, cv=loocv), \n",
    "    y_score= cross_val_predict(model, X2, y2, cv=loocv, method='predict_proba'))\n",
    "\n",
    "print(report_with_auc)"
   ]
  },
  {
   "cell_type": "code",
   "execution_count": 110,
   "metadata": {},
   "outputs": [],
   "source": [
    "r_auc = pd.DataFrame(report_with_auc)"
   ]
  },
  {
   "cell_type": "code",
   "execution_count": 111,
   "metadata": {},
   "outputs": [
    {
     "data": {
      "text/plain": [
       "<matplotlib.axes._subplots.AxesSubplot at 0x23735727b00>"
      ]
     },
     "execution_count": 111,
     "metadata": {},
     "output_type": "execute_result"
    },
    {
     "data": {
      "image/png": "[encoded data removed]",
      "text/plain": [
       "<matplotlib.figure.Figure at 0x237349cf898>"
      ]
     },
     "metadata": {},
     "output_type": "display_data"
    }
   ],
   "source": [
    "r_auc['AUC'].plot(kind ='barh')"
   ]
  },
  {
   "cell_type": "code",
   "execution_count": 112,
   "metadata": {
    "collapsed": true
   },
   "outputs": [],
   "source": [
    "plt.rcParams[\"figure.figsize\"] = (15,10)"
   ]
  },
  {
   "cell_type": "code",
   "execution_count": 113,
   "metadata": {},
   "outputs": [
    {
     "data": {
      "text/plain": [
       "<matplotlib.text.Text at 0x237357e9a58>"
      ]
     },
     "execution_count": 113,
     "metadata": {},
     "output_type": "execute_result"
    },
    {
     "data": {
      "image/png": "[encoded data removed]",
      "text/plain": [
       "<matplotlib.figure.Figure at 0x23735614940>"
      ]
     },
     "metadata": {},
     "output_type": "display_data"
    }
   ],
   "source": [
    "predictors=list(df2[df2.columns.difference(['County','Provinces'])])\n",
    "model.fit(X2, y2)\n",
    "feat_imp = pd.Series(model.feature_importances_, predictors).sort_values(ascending=True)\n",
    "feat_imp.plot(kind='barh', title='Importance of Features')\n",
    "plt.ylabel('Feature Importance Score')\n"
   ]
  },
  {
   "cell_type": "code",
   "execution_count": null,
   "metadata": {
    "collapsed": true
   },
   "outputs": [],
   "source": []
  },
  {
   "cell_type": "markdown",
   "metadata": {},
   "source": []
  },
  {
   "cell_type": "code",
   "execution_count": 74,
   "metadata": {},
   "outputs": [],
   "source": [
    "from sklearn.externals.six import StringIO  \n",
    "\n",
    "dtc = DecisionTreeClassifier(min_samples_leaf=0.125, min_samples_split=0.125)\n",
    "dtc.fit(X2, y2)\n",
    "from sklearn import tree"
   ]
  },
  {
   "cell_type": "code",
   "execution_count": 76,
   "metadata": {},
   "outputs": [],
   "source": [
    "tree.export_graphviz(dtc, out_file=\"tree.dot\", feature_names=predictors, proportion=True)"
   ]
  },
  {
   "cell_type": "code",
   "execution_count": null,
   "metadata": {
    "collapsed": true
   },
   "outputs": [],
   "source": []
  }
 ],
 "metadata": {
  "kernelspec": {
   "display_name": "Python 3",
   "language": "python",
   "name": "python3"
  },
  "language_info": {
   "codemirror_mode": {
    "name": "ipython",
    "version": 3
   },
   "file_extension": ".py",
   "mimetype": "text/x-python",
   "name": "python",
   "nbconvert_exporter": "python",
   "pygments_lexer": "ipython3",
   "version": "3.6.2"
  }
 },
 "nbformat": 4,
 "nbformat_minor": 2
}
