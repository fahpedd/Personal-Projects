{
 "cells": [
  {
   "cell_type": "markdown",
   "metadata": {},
   "source": [
    "#### Reference for small dataset\n",
    "https://www.sciencedirect.com/science/article/abs/pii/S0169743998001671\n",
    "\n",
    "https://stats.stackexchange.com/questions/87881/regression-for-really-small-data-with-high-degree-of-multicollinearity-and-outli\n",
    "\n",
    "https://medium.com/rants-on-machine-learning/what-to-do-with-small-data-d253254d1a89\n",
    "\n",
    "\n",
    "https://stats.stackexchange.com/questions/269063/regression-with-small-data-set-and-many-independent-variables\n",
    "\n",
    "https://stats.stackexchange.com/questions/116132/regression-with-very-small-sample-size\n",
    "\n",
    "https://stats.stackexchange.com/questions/7180/multiple-regression-with-small-data-sets"
   ]
  },
  {
   "cell_type": "code",
   "execution_count": 1,
   "metadata": {
    "collapsed": true
   },
   "outputs": [],
   "source": [
    "import numpy as np \n",
    "import pandas as pd \n",
    "import seaborn as sns\n",
    "import matplotlib.pyplot as plt\n",
    "%matplotlib inline\n",
    "\n",
    "import warnings\n",
    "%config InlineBackend.figure_format = 'png' #set 'png' here when working on notebook\n",
    "warnings.filterwarnings('ignore') \n",
    "\n",
    "# Set some parameters to get good visuals - style to ggplot and size to 15,10\n",
    "pd.set_option('display.precision',4)\n",
    "\n",
    "pd.set_option('display.width',170, 'display.max_rows',200, 'display.max_columns',900)"
   ]
  },
  {
   "cell_type": "code",
   "execution_count": 2,
   "metadata": {
    "collapsed": true
   },
   "outputs": [],
   "source": [
    "df = pd.read_csv(\"mortgage_arrears.csv\")"
   ]
  },
  {
   "cell_type": "code",
   "execution_count": 3,
   "metadata": {
    "collapsed": true
   },
   "outputs": [],
   "source": [
    "#list(df.columns)"
   ]
  },
  {
   "cell_type": "markdown",
   "metadata": {},
   "source": [
    "###### Create new features using the difference between yearly and 5 yearly data from census"
   ]
  },
  {
   "cell_type": "code",
   "execution_count": 4,
   "metadata": {
    "collapsed": true
   },
   "outputs": [],
   "source": [
    "#Mortgage Count\n",
    "df['diff_mortgage_count_1'] = df['2012_Mortgate_Count'] - df['2011_Mortgate_Count']\n",
    "df['diff_mortgage_count_2'] = df['2013_Mortgate_Count'] - df['2012_Mortgate_Count']\n",
    "df['diff_mortgage_count_3'] = df['2014_Mortgate_Count'] - df['2013_Mortgate_Count']\n",
    "df['diff_mortgage_count_4'] = df['2015_Mortgate_Count'] - df['2014_Mortgate_Count']\n",
    "df['diff_mortgage_count_5'] = df['2016_Countof_mortgages'] - df['2015_Mortgate_Count'] # Different column name\n",
    "df['diff_mortgage_count_6'] = df['2017_Mortgate_Count'] - df['2016_Countof_mortgages']\n"
   ]
  },
  {
   "cell_type": "code",
   "execution_count": 5,
   "metadata": {
    "collapsed": true
   },
   "outputs": [],
   "source": [
    "#New House Prices\n",
    "df['diff_new_house_price_1'] = df['2012_New_House_Price'] - df['2011_New_House_Price']\n",
    "df['diff_new_house_price_2'] = df['2013_New_House_Price'] - df['2012_New_House_Price']\n",
    "df['diff_new_house_price_3'] = df['2014_New_House_Price'] - df['2013_New_House_Price']\n",
    "df['diff_new_house_price_4'] = df['2015_New_House_Price'] - df['2014_New_House_Price']\n",
    "df['diff_new_house_price_5'] = df['2016_New_House_Price '] - df['2015_New_House_Price'] # Extra space in the column name\n",
    "df['diff_new_house_price_6'] = df['2017_New_House_Price'] - df['2016_New_House_Price ']\n",
    "\n"
   ]
  },
  {
   "cell_type": "code",
   "execution_count": 6,
   "metadata": {
    "collapsed": true
   },
   "outputs": [],
   "source": [
    "#Second House Prices\n",
    "df['diff_secondhand_house_price_1'] = df['2012_Second_Hand_Price'] - df['2011_Second_Hand_Price']\n",
    "df['diff_secondhand_house_price_2'] = df['2013_Second_Hand_Price'] - df['2012_Second_Hand_Price']\n",
    "df['diff_secondhand_house_price_3'] = df['2014_Second_Hand_Price'] - df['2013_Second_Hand_Price']\n",
    "df['diff_secondhand_house_price_4'] = df['2015_Second_Hand_Price'] - df['2014_Second_Hand_Price']\n",
    "df['diff_secondhand_house_price_5'] = df['2016_Second_Hand_Price'] - df['2015_Second_Hand_Price']\n",
    "df['diff_secondhand_house_price_6'] = df['2017_Second_Hand_Price'] - df['2016_Second_Hand_Price']"
   ]
  },
  {
   "cell_type": "code",
   "execution_count": 7,
   "metadata": {
    "collapsed": true
   },
   "outputs": [],
   "source": [
    "#Sum House Prices\n",
    "df['diff_sum_house_price_1'] = df['2012_Sum_of_Price'] - df['2011_Sum_of_Price']\n",
    "df['diff_sum_house_price_2'] = df['2013_Sum_of_Price'] - df['2012_Sum_of_Price']\n",
    "df['diff_sum_house_price_3'] = df['2014_Sum_of_Price'] - df['2013_Sum_of_Price']\n",
    "df['diff_sum_house_price_4'] = df['2015_Sum_of_Price'] - df['2014_Sum_of_Price']\n",
    "df['diff_sum_house_price_5'] = df['2016_Sum_of_Price'] - df['2015_Sum_of_Price']\n",
    "df['diff_sum_house_price_6'] = df['2017_Sum_of_Price'] - df['2016_Sum_of_Price']"
   ]
  },
  {
   "cell_type": "code",
   "execution_count": 8,
   "metadata": {
    "collapsed": true
   },
   "outputs": [],
   "source": [
    "#Average Interest Rate\n",
    "df['diff_interestrate_1'] = df['2012_AVG_Interest_Rate'] - df['2011_AVG_Interest_Rate']\n",
    "df['diff_interestrate_2'] = df['2013_AVG_Interest_Rate'] - df['2012_AVG_Interest_Rate']\n",
    "df['diff_interestrate_3'] = df['2014_AVG_Interest_Rate'] - df['2013_AVG_Interest_Rate']\n",
    "df['diff_interestrate_4'] = df['2015_AVG_Interest_Rate'] - df['2014_AVG_Interest_Rate']\n",
    "df['diff_interestrate_5'] = df['2016_AVG_Interest_Rate'] - df['2015_AVG_Interest_Rate']\n",
    "df['diff_interestrate_6'] = df['2017_AVG_Interest_Rate'] - df['2016_AVG_Interest_Rate']"
   ]
  },
  {
   "cell_type": "code",
   "execution_count": 9,
   "metadata": {
    "collapsed": true
   },
   "outputs": [],
   "source": [
    "#Loan Arrears\n",
    "df['diff_loanarrears_1'] = df['2012_LA_Arrears'] - df['2011_LA_Arrears']\n",
    "df['diff_loanarrears_2'] = df['2013_LA_Arrears'] - df['2012_LA_Arrears']\n",
    "df['diff_loanarrears_3'] = df['2014_LA_Arrears'] - df['2013_LA_Arrears']\n",
    "df['diff_loanarrears_4'] = df['2015_LA_Arrears'] - df['2014_LA_Arrears']\n",
    "df['diff_loanarrears_5'] = df['2016_LA_Arrears'] - df['2015_LA_Arrears']\n",
    "df['diff_loanarrears_6'] = df['2017_LA_Arrears'] - df['2016_LA_Arrears']"
   ]
  },
  {
   "cell_type": "code",
   "execution_count": 10,
   "metadata": {
    "collapsed": true
   },
   "outputs": [],
   "source": [
    "#Loans Approved\n",
    "df['diff_loanapproved_1'] = df['2012_Loans Approved'] - df['2011_Loans Approved']\n",
    "df['diff_loanapproved_2'] = df['2013_Loans Approved'] - df['2012_Loans Approved']\n",
    "df['diff_loanapproved_3'] = df['2014_Loans Approved'] - df['2013_Loans Approved']\n",
    "df['diff_loanapproved_4'] = df['2015_Loans Approved'] - df['2014_Loans Approved']\n",
    "df['diff_loanapproved_5'] = df['2016_Loans_Approved'] - df['2015_Loans Approved']\n",
    "df['diff_loanapproved_6'] = df['2017_Loans Approved'] - df['2016_Loans_Approved']"
   ]
  },
  {
   "cell_type": "code",
   "execution_count": 11,
   "metadata": {
    "collapsed": true
   },
   "outputs": [],
   "source": [
    "#Loans Paid\n",
    "df['diff_loanpaid_1'] = df['2012_Loans_Paid'] - df['2011_Loans_Paid']\n",
    "df['diff_loanpaid_2'] = df['2013_Loans_Paid'] - df['2012_Loans_Paid']\n",
    "df['diff_loanpaid_3'] = df['2014_Loans_Paid'] - df['2013_Loans_Paid']\n",
    "df['diff_loanpaid_4'] = df['2015_Loans_Paid'] - df['2014_Loans_Paid']\n",
    "df['diff_loanpaid_5'] = df['2016_Loans_Paid'] - df['2015_Loans_Paid']\n",
    "df['diff_loanpaid_6'] = df['2017_Loans_Paid'] - df['2016_Loans_Paid']\n"
   ]
  },
  {
   "cell_type": "markdown",
   "metadata": {},
   "source": [
    "###### Diversity in county according to Sex. Take a difference between the 5 years"
   ]
  },
  {
   "cell_type": "code",
   "execution_count": 12,
   "metadata": {
    "collapsed": true
   },
   "outputs": [],
   "source": [
    "\n",
    "df['2011_diversity_bothsexes'] = df[['2011_African-Both sexes',\n",
    "'2011_All nationalities-Both sexes',\n",
    "'2011_American (US)-Both sexes', \n",
    " '2011_Brazilian-Both sexes',\n",
    " '2011_French-Both sexes',\n",
    " '2011_German-Both sexes',\n",
    " '2011_Indian-Both sexes',\n",
    " '2011_Irish-Both sexes', \n",
    " '2011_Italian-Both sexes',\n",
    " '2011_Latvian-Both sexes',\n",
    " '2011_Lithuanian-Both sexes', \n",
    " '2011_Not stated, including no nationality-Both sexes', \n",
    " '2011_Other American-Both sexes', \n",
    " '2011_Other Asian-Both sexes', \n",
    " '2011_Other EU28-Both sexes', \n",
    " '2011_Other European-Both sexes',\n",
    " '2011_Other nationalities-Both sexes',\n",
    " '2011_Polish-Both sexes', \n",
    " '2011_Romanian-Both sexes', \n",
    " '2011_Spanish-Both sexes', \n",
    " '2011_UK-Both sexes']].sum(axis = 1)"
   ]
  },
  {
   "cell_type": "code",
   "execution_count": 13,
   "metadata": {
    "collapsed": true
   },
   "outputs": [],
   "source": [
    "\n",
    "df['2016_diversity_bothsexes'] = df[['2016_African-Both sexes',\n",
    "'2016_All nationalities-Both sexes',\n",
    "'2016_American (US)-Both sexes', \n",
    " '2016_Brazilian-Both sexes',\n",
    " '2016_French-Both sexes',\n",
    " '2016_German-Both sexes',\n",
    " '2016_Indian-Both sexes',\n",
    " '2016_Irish-Both sexes', \n",
    " '2016_Italian-Both sexes',\n",
    " '2016_Latvian-Both sexes',\n",
    " '2016_Lithuanian-Both sexes', \n",
    " '2016_Not stated, including no nationality-Both sexes', \n",
    " '2016_Other American-Both sexes', \n",
    " '2016_Other Asian-Both sexes', \n",
    " '2016_Other EU28-Both sexes', \n",
    " '2016_Other European-Both sexes',\n",
    " '2016_Other nationalities-Both sexes',\n",
    " '2016_Polish-Both sexes', \n",
    " '2016_Romanian-Both sexes', \n",
    " '2016_Spanish-Both sexes', \n",
    " '2016_UK-Both sexes']].sum(axis = 1)"
   ]
  },
  {
   "cell_type": "code",
   "execution_count": 14,
   "metadata": {
    "collapsed": true
   },
   "outputs": [],
   "source": [
    "df['diff_diversity_bothsexes'] = df['2016_diversity_bothsexes'] - df['2011_diversity_bothsexes']"
   ]
  },
  {
   "cell_type": "code",
   "execution_count": 15,
   "metadata": {
    "collapsed": true
   },
   "outputs": [],
   "source": [
    "#df['diff_diversity_bothsexes']"
   ]
  },
  {
   "cell_type": "code",
   "execution_count": 16,
   "metadata": {
    "collapsed": true
   },
   "outputs": [],
   "source": [
    "df['2011_diversity_female'] = df[['2011_African-Female',\n",
    "'2011_All nationalities-Female',\n",
    "'2011_American (US)-Female',\n",
    "'2011_Brazilian-Female',\n",
    "'2011_French-Female',\n",
    "'2011_German-Female',\n",
    " '2011_Indian-Female',\n",
    "'2011_Irish-Female',\n",
    " '2011_Italian-Female',\n",
    " '2011_Latvian-Female',\n",
    "'2011_Lithuanian-Female',\n",
    "'2011_Not stated, including no nationality-Female',\n",
    "'2011_Other American-Female',\n",
    " '2011_Other Asian-Female',\n",
    "'2011_Other EU28-Female',\n",
    " '2011_Other European-Female',\n",
    "'2011_Other nationalities-Female',\n",
    "'2011_Polish-Female',\n",
    "'2011_Romanian-Female',\n",
    "'2011_Spanish-Female',\n",
    " '2011_UK-Female']].sum(axis = 1)"
   ]
  },
  {
   "cell_type": "code",
   "execution_count": 17,
   "metadata": {
    "collapsed": true
   },
   "outputs": [],
   "source": [
    "df['2016_diversity_female'] = df[['2016_African-Female',\n",
    "'2016_All nationalities-Female',\n",
    "'2016_American (US)-Female',\n",
    "'2016_Brazilian-Female',\n",
    "'2016_French-Female',\n",
    "'2016_German-Female',\n",
    " '2016_Indian-Female',\n",
    "'2016_Irish-Female',\n",
    " '2016_Italian-Female',\n",
    " '2016_Latvian-Female',\n",
    "'2016_Lithuanian-Female',\n",
    "'2016_Not stated, including no nationality-Female',\n",
    "'2016_Other American-Female',\n",
    " '2016_Other Asian-Female',\n",
    "'2016_Other EU28-Female',\n",
    " '2016_Other European-Female',\n",
    "'2016_Other nationalities-Female',\n",
    "'2016_Polish-Female',\n",
    "'2016_Romanian-Female',\n",
    "'2016_Spanish-Female',\n",
    " '2016_UK-Female']].sum(axis = 1)"
   ]
  },
  {
   "cell_type": "code",
   "execution_count": 18,
   "metadata": {
    "collapsed": true
   },
   "outputs": [],
   "source": [
    "df['diff_diversity_female'] = df['2016_diversity_female'] - df['2011_diversity_female']"
   ]
  },
  {
   "cell_type": "code",
   "execution_count": 19,
   "metadata": {
    "collapsed": true
   },
   "outputs": [],
   "source": [
    "df['2011_diversity_male'] = df[[ '2011_African-Male',\n",
    "'2011_All nationalities-Male',\n",
    " '2011_American (US)-Male',\n",
    " '2011_Brazilian-Male',\n",
    "  '2011_French-Male',\n",
    " '2011_German-Male',\n",
    " '2011_Indian-Male',\n",
    "'2011_Irish-Male',\n",
    " '2011_Italian-Male',\n",
    " '2011_Latvian-Male',\n",
    " '2011_Lithuanian-Male',\n",
    " '2011_Not stated, including no nationality-Male',\n",
    "'2011_Other American-Male',\n",
    "'2011_Other Asian-Male',\n",
    "'2011_Other EU28-Male',\n",
    " '2011_Other European-Male',\n",
    " '2011_Other nationalities-Male',\n",
    "'2011_Polish-Male',\n",
    "'2011_Romanian-Male',\n",
    "'2011_Spanish-Male',\n",
    " '2011_UK-Male']].sum(axis = 1)"
   ]
  },
  {
   "cell_type": "code",
   "execution_count": 20,
   "metadata": {
    "collapsed": true
   },
   "outputs": [],
   "source": [
    "df['2016_diversity_male'] = df[[ '2016_African-Male',\n",
    "'2016_All nationalities-Male',\n",
    " '2016_American (US)-Male',\n",
    " '2016_Brazilian-Male',\n",
    "  '2016_French-Male',\n",
    " '2016_German-Male',\n",
    " '2016_Indian-Male',\n",
    "'2016_Irish-Male',\n",
    " '2016_Italian-Male',\n",
    " '2016_Latvian-Male',\n",
    " '2016_Lithuanian-Male',\n",
    " '2016_Not stated, including no nationality-Male',\n",
    "'2016_Other American-Male',\n",
    "'2016_Other Asian-Male',\n",
    "'2016_Other EU28-Male',\n",
    " '2016_Other European-Male',\n",
    " '2016_Other nationalities-Male',\n",
    "'2016_Polish-Male',\n",
    "'2016_Romanian-Male',\n",
    "'2016_Spanish-Male',\n",
    " '2016_UK-Male']].sum(axis = 1)"
   ]
  },
  {
   "cell_type": "code",
   "execution_count": 21,
   "metadata": {
    "collapsed": true
   },
   "outputs": [],
   "source": [
    "df['diff_diversity_male'] = df['2016_diversity_male'] - df['2011_diversity_male']"
   ]
  },
  {
   "cell_type": "code",
   "execution_count": 22,
   "metadata": {
    "collapsed": true
   },
   "outputs": [],
   "source": [
    "df['diff_male_population'] = df['2016_Male_Population'] - df['2011_Male_Population']"
   ]
  },
  {
   "cell_type": "code",
   "execution_count": 23,
   "metadata": {
    "collapsed": true
   },
   "outputs": [],
   "source": [
    "df['diff_female_population'] = df['2016_Female_Population'] - df['2011_Female_Population']"
   ]
  },
  {
   "cell_type": "code",
   "execution_count": 24,
   "metadata": {
    "collapsed": true
   },
   "outputs": [],
   "source": [
    "df['diff_total_population'] = df['2016_Total_Population'] - df['2011_Total_Population']"
   ]
  },
  {
   "cell_type": "code",
   "execution_count": 25,
   "metadata": {
    "collapsed": true
   },
   "outputs": [],
   "source": [
    "df['diff_migration_population'] = df['2016_Migration_Population'] - df['2011_Migration_Population']"
   ]
  },
  {
   "cell_type": "code",
   "execution_count": 26,
   "metadata": {
    "collapsed": true
   },
   "outputs": [],
   "source": [
    "df['diff_1-14years_population'] = df['2016_1 - 14 years'] -df['2011_1 - 14 years']\n",
    "df['diff_15-19years_population'] = df['2016_15 - 19 years'] -df['2011_15 - 19 years']\n",
    "df['diff_20-24years_population'] = df['2016_20 - 24 years'] -df['2011_20 - 24 years']\n",
    "df['diff_25-29years_population'] = df['2016_25 - 29 years'] -df['2011_25 - 29 years']\n",
    "df['diff_30-34years_population'] = df['2016_30 - 34 years'] -df['2011_30 - 34 years']\n",
    "df['diff_35-44years_population'] = df['2016_35 - 44 years'] -df['2011_35 - 44 years']\n",
    "df['diff_45-54years_population'] = df['2016_45 - 54 years'] -df['2011_45 - 54 years']\n",
    "df['diff_55-64years_population'] = df['2016_55 - 64 years'] -df['2011_55 - 64 years']\n",
    "df['diff_65-74years_population'] = df['2016_65 - 74 years'] -df['2011_65 - 74 years']\n",
    "df['diff_75years_over_population'] = df['2016_75 years and over'] -df['2011_75 years and over']"
   ]
  },
  {
   "cell_type": "code",
   "execution_count": 27,
   "metadata": {
    "collapsed": true
   },
   "outputs": [],
   "source": [
    "#Employment\n",
    "df['diff_employment'] = df['2016_employment'] - df['2011_employment']\n",
    "df['diff_average'] = df['Average of 2016'] - df['Average of 2011']\n",
    "df['diff_All persons aged 15 years and over'] = df['2016_All persons aged 15 years and over'] - df['2011_All persons aged 15 years and over']\n",
    "df['diff_Employer or own account worker'] = df['2016_Employer or own account worker'] - df['2011_Employer or own account worker']\n",
    "df['diff_Employee'] = df['2016_Employee'] - df['2011_Employee']\n",
    "df['diff_Assisting_relative'] = df['2016_Assisting_relative'] - df['2011_Assisting_relative']\n",
    "df['diff_Unemployed looking for first regular job'] = df['2016_Unemployed looking for first regular job'] - df['2011_Unemployed looking for first regular job']\n",
    "df['diff_Unemployed having lost or given up previous job'] = df['2016_Unemployed having lost or given up previous job'] - df['2011_Unemployed having lost or given up previous job']\n",
    "df['diff_Student'] = df['2016_Student'] - df['2011_Student']\n",
    "df['diff_Looking after home/family'] = df['2016_Looking after home/family'] - df['2011_Looking after home/family']\n",
    "df['diff_Retired'] = df['2016_Retired'] - df['2011_Retired']\n",
    "df['diff_Unable to work due to permanent sickness or disability'] = df['2016_Unable to work due to permanent sickness or disability'] - df['2011_Unable to work due to permanent sickness or disability']\n",
    "df['diff_Other economic status'] = df['2016_Other economic status'] - df['2011_Other economic status']"
   ]
  },
  {
   "cell_type": "code",
   "execution_count": 28,
   "metadata": {
    "collapsed": true
   },
   "outputs": [],
   "source": [
    "#martital Status\n",
    "df['diff_Married_First_Marriage'] = df['2016_Married_First_Marriage'] - df['2011_Married_First_Marriage']\n",
    "df['diff_divorced'] = df['2016_Divorsed'] - df['2011_Divorsed']\n",
    "df['diff_Same_Sex_Civil Partners'] = df['2016_Same_Sex_Civil Partners'] - df['2011_Same_Sex_Civil Partners']\n",
    "df['diff_Remarried'] = df['2016_Remarried'] - df['2011_Remarried']\n",
    "df['diff_Seperated'] = df['2016_Seperated'] - df['2011_Seperated']\n",
    "df['diff_Single'] = df['2016_Single'] - df['2011_Single']\n",
    "df['diff_Widowed'] = df['2016_Widowed'] - df['2011_Widowed']\n",
    "df['diff_Remarried'] = df['2016_Remarried'] - df['2011_Remarried']\n",
    "\n"
   ]
  },
  {
   "cell_type": "code",
   "execution_count": 29,
   "metadata": {
    "collapsed": true
   },
   "outputs": [],
   "source": [
    "#Commmuter Information\n",
    "df['diff_all_depature_timeAll_Persons'] = df['2016_all_depature_timeAll_Persons'] - df['2011_all_depature_timeAll_Persons']\n",
    "df['diff_all_depature_time_Children at school aged between 5 and 12 years'] = df['2016_all_depature_time_Children at school aged between 5 and 12 years'] - df['2011_all_depature_time_Children at school aged between 5 and 12 years']\n",
    "df['diff_all_depature_time_Students at school or college aged between 13 and 18 years'] = df['2016_all_depature_time_Students at school or college aged between 13 and 18 years'] - df['2011_all_depature_time_Students at school or college aged between 13 and 18 years']\n",
    "df['diff_all_depature_time_Students at school or college aged 19 years and over'] = df['2016_all_depature_time_Students at school or college aged 19 years and over'] - df['2011_all_depature_time_Students at school or college aged 19 years and over']\n",
    "df['diff_all_depature_time_Population aged 15 years and over at work'] = df['2016_all_depature_time_Population aged 15 years and over at work'] - df['2011_all_depature_time_Population aged 15 years and over at work']"
   ]
  },
  {
   "cell_type": "code",
   "execution_count": 30,
   "metadata": {
    "collapsed": true
   },
   "outputs": [],
   "source": [
    "#Type of house\n",
    "df['diff_AllPrivate'] = df['2016_AllPrivate'] - df['2011_AllPrivate']\n"
   ]
  },
  {
   "cell_type": "code",
   "execution_count": 31,
   "metadata": {},
   "outputs": [
    {
     "data": {
      "text/plain": [
       "(27, 381)"
      ]
     },
     "execution_count": 31,
     "metadata": {},
     "output_type": "execute_result"
    }
   ],
   "source": [
    "df.shape"
   ]
  },
  {
   "cell_type": "code",
   "execution_count": 32,
   "metadata": {
    "collapsed": true
   },
   "outputs": [],
   "source": [
    "train = df[['County','diff_mortgage_count_1',\n",
    " 'diff_mortgage_count_2',\n",
    " 'diff_mortgage_count_3',\n",
    " 'diff_mortgage_count_4',\n",
    " 'diff_mortgage_count_5',\n",
    " 'diff_mortgage_count_6',\n",
    " 'diff_new_house_price_1',\n",
    " 'diff_new_house_price_2',\n",
    " 'diff_new_house_price_3',\n",
    " 'diff_new_house_price_4',\n",
    " 'diff_new_house_price_5',\n",
    " 'diff_new_house_price_6',\n",
    " 'diff_secondhand_house_price_1',\n",
    " 'diff_secondhand_house_price_2',\n",
    " 'diff_secondhand_house_price_3',\n",
    " 'diff_secondhand_house_price_4',\n",
    " 'diff_secondhand_house_price_5',\n",
    " 'diff_secondhand_house_price_6',\n",
    " 'diff_sum_house_price_1',\n",
    " 'diff_sum_house_price_2',\n",
    " 'diff_sum_house_price_3',\n",
    " 'diff_sum_house_price_4',\n",
    " 'diff_sum_house_price_5',\n",
    " 'diff_sum_house_price_6',\n",
    " 'diff_interestrate_1',\n",
    " 'diff_interestrate_2',\n",
    " 'diff_interestrate_3',\n",
    " 'diff_interestrate_4',\n",
    " 'diff_interestrate_5',\n",
    " 'diff_interestrate_6',\n",
    " 'diff_loanarrears_1',\n",
    " 'diff_loanarrears_2',\n",
    " 'diff_loanarrears_3',\n",
    " 'diff_loanarrears_4',\n",
    " 'diff_loanarrears_5',\n",
    " 'diff_loanarrears_6',\n",
    " 'diff_loanapproved_1',\n",
    " 'diff_loanapproved_2',\n",
    " 'diff_loanapproved_3',\n",
    " 'diff_loanapproved_4',\n",
    " 'diff_loanapproved_5',\n",
    " 'diff_loanapproved_6',\n",
    " 'diff_loanpaid_1',\n",
    " 'diff_loanpaid_2',\n",
    " 'diff_loanpaid_3',\n",
    " 'diff_loanpaid_4',\n",
    " 'diff_loanpaid_5',\n",
    " 'diff_loanpaid_6',\n",
    "   'diff_diversity_bothsexes',\n",
    "   'diff_diversity_female','diff_diversity_male',\n",
    " 'diff_male_population',\n",
    " 'diff_female_population',\n",
    " 'diff_total_population',\n",
    " 'diff_migration_population',\n",
    " 'diff_1-14years_population',\n",
    " 'diff_15-19years_population',\n",
    " 'diff_20-24years_population',\n",
    " 'diff_25-29years_population',\n",
    " 'diff_30-34years_population',\n",
    " 'diff_35-44years_population',\n",
    " 'diff_45-54years_population',\n",
    " 'diff_55-64years_population',\n",
    " 'diff_65-74years_population',\n",
    " 'diff_75years_over_population',\n",
    " 'diff_employment',\n",
    " 'diff_average',\n",
    " 'diff_Married_First_Marriage',\n",
    " 'diff_divorced',\n",
    " 'diff_Same_Sex_Civil Partners',\n",
    " 'diff_Remarried',\n",
    " 'diff_Seperated',\n",
    " 'diff_Single',\n",
    " 'diff_Widowed',\n",
    "   'diff_AllPrivate',\n",
    " 'diff_All persons aged 15 years and over',\n",
    " 'diff_Employer or own account worker',\n",
    " 'diff_Employee',\n",
    " 'diff_Assisting_relative',\n",
    " 'diff_Unemployed looking for first regular job',\n",
    " 'diff_Unemployed having lost or given up previous job',\n",
    " 'diff_Student',\n",
    " 'diff_Looking after home/family',\n",
    " 'diff_Retired',\n",
    " 'diff_Unable to work due to permanent sickness or disability',\n",
    " 'diff_Other economic status',\n",
    " 'diff_all_depature_timeAll_Persons',\n",
    " 'diff_all_depature_time_Children at school aged between 5 and 12 years',\n",
    " 'diff_all_depature_time_Students at school or college aged between 13 and 18 years',\n",
    " 'diff_all_depature_time_Students at school or college aged 19 years and over',\n",
    " 'diff_all_depature_time_Population aged 15 years and over at work',\n",
    "   #Loans Approved\n",
    "\n",
    " '2011_Loans Approved',\n",
    " '2012_Loans Approved',\n",
    " '2013_Loans Approved',\n",
    " '2014_Loans Approved',\n",
    " '2015_Loans Approved', \n",
    "'2016_Loans_Approved',\n",
    " '2017_Loans Approved',\n",
    "\n",
    "#Loans Paid\n",
    "'2011_Loans_Paid',\n",
    "'2012_Loans_Paid',\n",
    "'2013_Loans_Paid',\n",
    " '2014_Loans_Paid',\n",
    "'2015_Loans_Paid',\n",
    " '2017_Loans_Paid', \n",
    " '2016_Loans_Paid',\n",
    "\n",
    "# Repossesions of the houses\n",
    "\n",
    "'2011_Forced',\n",
    " '2011_Voluntary',\n",
    " '2012_Forced',\n",
    " '2012_Voluntary',\n",
    " '2013_Forced',\n",
    " '2013_Voluntary',\n",
    " '2014_Forced',\n",
    " '2014_Voluntary',\n",
    " '2015_Forced',\n",
    " '2015_Voluntary',\n",
    " '2016_Forced',\n",
    " '2017_Voluntary',\n",
    " '2017_Forced',\n",
    " '2017_Voluntary.1',\n",
    "\n",
    "#Number of Employees\n",
    " '2012_Employees',\n",
    " '2013_Employees',\n",
    " '2014_Employees',\n",
    " '2015_Employees',\n",
    " '2016_Employees',\n",
    "\n",
    "#Arrears— 2017_LA_Arrears is the target variable\n",
    "'2011_LA_Arrears',\n",
    "'2012_LA_Arrears',\n",
    " '2013_LA_Arrears',\n",
    "'2014_LA_Arrears',\n",
    "'2015_LA_Arrears',\n",
    " '2016_LA_Arrears',\n",
    "'2017_LA_Arrears']]"
   ]
  },
  {
   "cell_type": "code",
   "execution_count": 33,
   "metadata": {
    "collapsed": true
   },
   "outputs": [],
   "source": [
    "train = df[['County','diff_mortgage_count_1',\n",
    " 'diff_mortgage_count_2',\n",
    " 'diff_mortgage_count_3',\n",
    " 'diff_mortgage_count_4',\n",
    " 'diff_mortgage_count_5',\n",
    " 'diff_mortgage_count_6',\n",
    " 'diff_new_house_price_1',\n",
    " 'diff_new_house_price_2',\n",
    " 'diff_new_house_price_3',\n",
    " 'diff_new_house_price_4',\n",
    " 'diff_new_house_price_5',\n",
    " 'diff_new_house_price_6',\n",
    " 'diff_secondhand_house_price_1',\n",
    " 'diff_secondhand_house_price_2',\n",
    " 'diff_secondhand_house_price_3',\n",
    " 'diff_secondhand_house_price_4',\n",
    " 'diff_secondhand_house_price_5',\n",
    " 'diff_secondhand_house_price_6',\n",
    " 'diff_sum_house_price_1',\n",
    " 'diff_sum_house_price_2',\n",
    " 'diff_sum_house_price_3',\n",
    " 'diff_sum_house_price_4',\n",
    " 'diff_sum_house_price_5',\n",
    " 'diff_sum_house_price_6',\n",
    " 'diff_interestrate_1',\n",
    " 'diff_interestrate_2',\n",
    " 'diff_interestrate_3',\n",
    " 'diff_interestrate_4',\n",
    " 'diff_interestrate_5',\n",
    " 'diff_interestrate_6',\n",
    " 'diff_loanarrears_1',\n",
    " 'diff_loanarrears_2',\n",
    " 'diff_loanarrears_3',\n",
    " 'diff_loanarrears_4',\n",
    " 'diff_loanarrears_5',\n",
    " 'diff_loanarrears_6',\n",
    " 'diff_loanapproved_1',\n",
    " 'diff_loanapproved_2',\n",
    " 'diff_loanapproved_3',\n",
    " 'diff_loanapproved_4',\n",
    " 'diff_loanapproved_5',\n",
    " 'diff_loanapproved_6',\n",
    " 'diff_loanpaid_1',\n",
    " 'diff_loanpaid_2',\n",
    " 'diff_loanpaid_3',\n",
    " 'diff_loanpaid_4',\n",
    " 'diff_loanpaid_5',\n",
    " 'diff_loanpaid_6',\n",
    "#    'diff_diversity_bothsexes',\n",
    "#    'diff_diversity_female','diff_diversity_male',\n",
    "#  'diff_male_population',\n",
    "#  'diff_female_population',\n",
    "#  'diff_total_population',\n",
    "#  'diff_migration_population',\n",
    "#  'diff_1-14years_population',\n",
    "#  'diff_15-19years_population',\n",
    "#  'diff_20-24years_population',\n",
    "#  'diff_25-29years_population',\n",
    "#  'diff_30-34years_population',\n",
    "#  'diff_35-44years_population',\n",
    "#  'diff_45-54years_population',\n",
    "#  'diff_55-64years_population',\n",
    "#  'diff_65-74years_population',\n",
    "#  'diff_75years_over_population',\n",
    "#  'diff_employment',\n",
    "#  'diff_average',\n",
    "#  'diff_Married_First_Marriage',\n",
    "#  'diff_divorced',\n",
    "#  'diff_Same_Sex_Civil Partners',\n",
    "#  'diff_Remarried',\n",
    "#  'diff_Seperated',\n",
    "#  'diff_Single',\n",
    "#  'diff_Widowed',\n",
    "#    'diff_AllPrivate',\n",
    "#  'diff_All persons aged 15 years and over',\n",
    "#  'diff_Employer or own account worker',\n",
    "#  'diff_Employee',\n",
    "#  'diff_Assisting_relative',\n",
    "#  'diff_Unemployed looking for first regular job',\n",
    "#  'diff_Unemployed having lost or given up previous job',\n",
    "#  'diff_Student',\n",
    "#  'diff_Looking after home/family',\n",
    "#  'diff_Retired',\n",
    "#  'diff_Unable to work due to permanent sickness or disability',\n",
    "#  'diff_Other economic status',\n",
    "#  'diff_all_depature_timeAll_Persons',\n",
    "#  'diff_all_depature_time_Children at school aged between 5 and 12 years',\n",
    "#  'diff_all_depature_time_Students at school or college aged between 13 and 18 years',\n",
    "#  'diff_all_depature_time_Students at school or college aged 19 years and over',\n",
    "#  'diff_all_depature_time_Population aged 15 years and over at work',\n",
    "   #Loans Approved\n",
    "\n",
    " '2011_Loans Approved',\n",
    " '2012_Loans Approved',\n",
    " '2013_Loans Approved',\n",
    " '2014_Loans Approved',\n",
    " '2015_Loans Approved', \n",
    "'2016_Loans_Approved',\n",
    " #'2017_Loans Approved',\n",
    "\n",
    "#Loans Paid\n",
    "'2011_Loans_Paid',\n",
    "'2012_Loans_Paid',\n",
    "'2013_Loans_Paid',\n",
    " '2014_Loans_Paid',\n",
    "'2015_Loans_Paid',\n",
    " #'2017_Loans_Paid', \n",
    " '2016_Loans_Paid',\n",
    "\n",
    "# Repossesions of the houses\n",
    "\n",
    "'2011_Forced',\n",
    " '2011_Voluntary',\n",
    " '2012_Forced',\n",
    " '2012_Voluntary',\n",
    " '2013_Forced',\n",
    " '2013_Voluntary',\n",
    " '2014_Forced',\n",
    " '2014_Voluntary',\n",
    " '2015_Forced',\n",
    " '2015_Voluntary',\n",
    " '2016_Forced',\n",
    "#  '2017_Voluntary',\n",
    "#  '2017_Forced',\n",
    "#  '2017_Voluntary.1',\n",
    "\n",
    "# #Number of Employees\n",
    "#  '2012_Employees',\n",
    "#  '2013_Employees',\n",
    "#  '2014_Employees',\n",
    "#  '2015_Employees',\n",
    "#  '2016_Employees',\n",
    "\n",
    "#Arrears— 2017_LA_Arrears is the target variable\n",
    "# '2011_LA_Arrears',\n",
    "# '2012_LA_Arrears',\n",
    "#  '2013_LA_Arrears',\n",
    "# '2014_LA_Arrears',\n",
    "# '2015_LA_Arrears',\n",
    "#  '2016_LA_Arrears',\n",
    "'2017_LA_Arrears']]"
   ]
  },
  {
   "cell_type": "code",
   "execution_count": 34,
   "metadata": {
    "collapsed": true
   },
   "outputs": [],
   "source": [
    "train['total_diff_mortgage_count'] = train[['diff_mortgage_count_1',\n",
    " 'diff_mortgage_count_2',\n",
    " 'diff_mortgage_count_3',\n",
    " 'diff_mortgage_count_4',\n",
    " 'diff_mortgage_count_5',\n",
    " 'diff_mortgage_count_6']].sum(axis=1)"
   ]
  },
  {
   "cell_type": "code",
   "execution_count": 35,
   "metadata": {
    "collapsed": true
   },
   "outputs": [],
   "source": [
    "train['total_diff_new_house_price'] =train[['diff_new_house_price_1',\n",
    " 'diff_new_house_price_2',\n",
    " 'diff_new_house_price_3',\n",
    " 'diff_new_house_price_4',\n",
    " 'diff_new_house_price_5',\n",
    " 'diff_new_house_price_6']].sum(axis=1)"
   ]
  },
  {
   "cell_type": "code",
   "execution_count": 36,
   "metadata": {
    "collapsed": true
   },
   "outputs": [],
   "source": [
    "train['total_diff_secondhand_house'] = train[['diff_secondhand_house_price_1',\n",
    " 'diff_secondhand_house_price_2',\n",
    " 'diff_secondhand_house_price_3',\n",
    " 'diff_secondhand_house_price_4',\n",
    " 'diff_secondhand_house_price_5',\n",
    " 'diff_secondhand_house_price_6']].sum(axis=1)"
   ]
  },
  {
   "cell_type": "code",
   "execution_count": 37,
   "metadata": {
    "collapsed": true
   },
   "outputs": [],
   "source": [
    "train['total_diff_interestrate'] =train[['diff_interestrate_1',\n",
    " 'diff_interestrate_2',\n",
    " 'diff_interestrate_3',\n",
    " 'diff_interestrate_4',\n",
    " 'diff_interestrate_5',\n",
    " 'diff_interestrate_6']].sum(axis=1)"
   ]
  },
  {
   "cell_type": "code",
   "execution_count": 38,
   "metadata": {
    "collapsed": true
   },
   "outputs": [],
   "source": [
    "train['total__diff_loanarrears'] = train[['diff_loanarrears_1',\n",
    " 'diff_loanarrears_2',\n",
    " 'diff_loanarrears_3',\n",
    " 'diff_loanarrears_4',\n",
    " 'diff_loanarrears_5',\n",
    " 'diff_loanarrears_6']].sum(axis=1)"
   ]
  },
  {
   "cell_type": "code",
   "execution_count": 39,
   "metadata": {
    "collapsed": true
   },
   "outputs": [],
   "source": [
    "train['total_diff_loanapproved'] = train[['diff_loanapproved_1',\n",
    " 'diff_loanapproved_2',\n",
    " 'diff_loanapproved_3',\n",
    " 'diff_loanapproved_4',\n",
    " 'diff_loanapproved_5',\n",
    " 'diff_loanapproved_6']].sum(axis=1)"
   ]
  },
  {
   "cell_type": "code",
   "execution_count": 40,
   "metadata": {
    "collapsed": true
   },
   "outputs": [],
   "source": [
    "train['total_diff_loanpaid'] = train[['diff_loanpaid_1',\n",
    " 'diff_loanpaid_2',\n",
    " 'diff_loanpaid_3',\n",
    " 'diff_loanpaid_4',\n",
    " 'diff_loanpaid_5',\n",
    " 'diff_loanpaid_6']].sum(axis=1)"
   ]
  },
  {
   "cell_type": "code",
   "execution_count": 41,
   "metadata": {
    "collapsed": true
   },
   "outputs": [],
   "source": [
    "train['sum_forced_possesion'] = df['2011_Forced'] + df['2012_Forced'] + df['2014_Forced'] + df['2015_Forced'] + df['2016_Forced']"
   ]
  },
  {
   "cell_type": "code",
   "execution_count": 42,
   "metadata": {
    "collapsed": true
   },
   "outputs": [],
   "source": [
    "train['sum_voluntary_possesion'] = df['2011_Voluntary'] + df['2012_Voluntary'] + df['2014_Voluntary'] + df['2015_Voluntary']"
   ]
  },
  {
   "cell_type": "code",
   "execution_count": 43,
   "metadata": {
    "collapsed": true
   },
   "outputs": [],
   "source": [
    "train['sum_societal'] = df[['diff_employment',\n",
    " 'diff_Married_First_Marriage',\n",
    " 'diff_divorced',\n",
    " 'diff_Same_Sex_Civil Partners',\n",
    " 'diff_Remarried',\n",
    " 'diff_Seperated',\n",
    " 'diff_Single',\n",
    " 'diff_Widowed']].sum(axis =1)"
   ]
  },
  {
   "cell_type": "code",
   "execution_count": 44,
   "metadata": {
    "collapsed": true
   },
   "outputs": [],
   "source": [
    "train['sum_population'] = df[['diff_male_population',\n",
    " 'diff_female_population',\n",
    " 'diff_total_population',\n",
    " 'diff_migration_population']].sum(axis =1)"
   ]
  },
  {
   "cell_type": "code",
   "execution_count": 45,
   "metadata": {
    "collapsed": true
   },
   "outputs": [],
   "source": [
    "train['sum_commuter'] = df[['diff_all_depature_timeAll_Persons',\n",
    " 'diff_all_depature_time_Children at school aged between 5 and 12 years',\n",
    " 'diff_all_depature_time_Students at school or college aged between 13 and 18 years',\n",
    " 'diff_all_depature_time_Students at school or college aged 19 years and over',\n",
    " 'diff_all_depature_time_Population aged 15 years and over at work']].sum(axis =1)"
   ]
  },
  {
   "cell_type": "code",
   "execution_count": 46,
   "metadata": {
    "collapsed": true
   },
   "outputs": [],
   "source": [
    "#list(train.columns)"
   ]
  },
  {
   "cell_type": "code",
   "execution_count": 47,
   "metadata": {
    "collapsed": true
   },
   "outputs": [],
   "source": [
    "train = train[['sum_forced_possesion',\n",
    " 'sum_voluntary_possesion',\n",
    "'total_diff_mortgage_count',\n",
    "# 'total_diff_new_house_price',\n",
    "# 'total_diff_secondhand_house',\n",
    "# 'total_diff_interestrate',\n",
    " 'total__diff_loanarrears',\n",
    "               'sum_commuter',\n",
    "               'sum_population',\n",
    "               'sum_societal',\n",
    "# 'total_diff_loanapproved',\n",
    " #'total_diff_loanpaid',\n",
    "'2017_LA_Arrears']]"
   ]
  },
  {
   "cell_type": "code",
   "execution_count": 48,
   "metadata": {
    "collapsed": true
   },
   "outputs": [],
   "source": [
    "#Remove county and the target label\n",
    "#X = features.drop('delinquent', axis=1)\n",
    "X = train[train.columns.difference(['2017_LA_Arrears'])]\n",
    "y = train['2017_LA_Arrears']"
   ]
  },
  {
   "cell_type": "markdown",
   "metadata": {},
   "source": [
    "##### Normalizing the table\n",
    "    "
   ]
  },
  {
   "cell_type": "code",
   "execution_count": 49,
   "metadata": {
    "collapsed": true
   },
   "outputs": [],
   "source": [
    "#Standard Scalar\n",
    "from sklearn.preprocessing import StandardScaler, MinMaxScaler, RobustScaler\n",
    "ss = StandardScaler()\n",
    "X = ss.fit_transform(X)"
   ]
  },
  {
   "cell_type": "code",
   "execution_count": 50,
   "metadata": {},
   "outputs": [
    {
     "name": "stdout",
     "output_type": "stream",
     "text": [
      "Leave One Out Cross Validation\n",
      "R^2: 94.64082%, MSE: 81678771896477.18750\n",
      "Linear Regression picked 7 features and eliminated the other 0 features\n"
     ]
    },
    {
     "data": {
      "image/png": "[encoded data removed]",
      "text/plain": [
       "<matplotlib.figure.Figure at 0x2551b171a90>"
      ]
     },
     "metadata": {},
     "output_type": "display_data"
    }
   ],
   "source": [
    "#https://codeburst.io/cross-validation-calculating-r²-and-accuracy-scores-after-loocv-5bd1015a50ec\n",
    "from sklearn.linear_model import LinearRegression\n",
    "from sklearn.model_selection import LeaveOneOut\n",
    "from sklearn import metrics\n",
    "y_array = y.values\n",
    "loo = LeaveOneOut()\n",
    "ytests = []\n",
    "ypreds = []\n",
    "prediction___ =[]\n",
    "for train_idx, test_idx in loo.split(X):\n",
    "    X_train, X_test = X[train_idx], X[test_idx] #requires arrays\n",
    "    y_train, y_test = y_array[train_idx], y_array[test_idx]\n",
    "    \n",
    "    model = LinearRegression()\n",
    "    model.fit(X = X_train, y = y_train) \n",
    "    y_pred = model.predict(X_test)\n",
    "        \n",
    "    # there is only one y-test and y-pred per iteration over the loo.split, \n",
    "    # so to get a proper graph, we append them to respective lists.\n",
    "        \n",
    "    ytests += list(y_test)\n",
    "    ypreds += list(y_pred)\n",
    "    #print(ypreds)   \n",
    "    prediction___.append(ypreds[-1:])    \n",
    "rr = metrics.r2_score(ytests, ypreds)\n",
    "ms_error = metrics.mean_squared_error(ytests, ypreds)\n",
    "        \n",
    "print(\"Leave One Out Cross Validation\")\n",
    "print(\"R^2: {:.5f}%, MSE: {:.5f}\".format(rr*100, ms_error))\n",
    "# Plot important coefficients\n",
    "coefs = pd.Series(model.coef_,  index = train.drop(['2017_LA_Arrears'], axis=1).columns)\n",
    "print(\"Linear Regression picked \" + str(sum(coefs != 0)) + \" features and eliminated the other \" +  \\\n",
    "      str(sum(coefs == 0)) + \" features\")\n",
    "imp_coefs = pd.concat([coefs.sort_values().head(4),\n",
    "                     coefs.sort_values().tail(3)])\n",
    "imp_coefs.plot(kind = \"barh\")\n",
    "plt.title(\"Coefficients in the Linear Regression Model\")\n",
    "plt.show()"
   ]
  },
  {
   "cell_type": "code",
   "execution_count": 51,
   "metadata": {},
   "outputs": [
    {
     "name": "stdout",
     "output_type": "stream",
     "text": [
      "Leave One Out Cross Validation\n",
      "R^2: 97.01062%, MSE: 45560799329260.05469\n",
      "Linear Regression picked 4 features and eliminated the other 0 features\n"
     ]
    },
    {
     "data": {
      "image/png": "[encoded data removed]",
      "text/plain": [
       "<matplotlib.figure.Figure at 0x2551b785898>"
      ]
     },
     "metadata": {},
     "output_type": "display_data"
    }
   ],
   "source": [
    "train = train[['sum_forced_possesion',\n",
    " 'sum_voluntary_possesion',\n",
    "'total_diff_mortgage_count',\n",
    "# 'total_diff_new_house_price',\n",
    "# 'total_diff_secondhand_house',\n",
    "# 'total_diff_interestrate',\n",
    " 'total__diff_loanarrears',\n",
    "               #'sum_commuter',\n",
    "               #'sum_population',\n",
    "               #'sum_societal',\n",
    "# 'total_diff_loanapproved',\n",
    " #'total_diff_loanpaid',\n",
    "'2017_LA_Arrears']]\n",
    "\n",
    "#Remove county and the target label\n",
    "#X = features.drop('delinquent', axis=1)\n",
    "X = train[train.columns.difference(['2017_LA_Arrears'])]\n",
    "y = train['2017_LA_Arrears']\n",
    "\n",
    "#Standard Scalar\n",
    "from sklearn.preprocessing import StandardScaler, MinMaxScaler, RobustScaler\n",
    "ss = StandardScaler()\n",
    "X = ss.fit_transform(X)\n",
    "#https://codeburst.io/cross-validation-calculating-r²-and-accuracy-scores-after-loocv-5bd1015a50ec\n",
    "from sklearn.linear_model import LinearRegression\n",
    "from sklearn.model_selection import LeaveOneOut\n",
    "from sklearn import metrics\n",
    "y_array = y.values\n",
    "loo = LeaveOneOut()\n",
    "ytests = []\n",
    "ypreds = []\n",
    "prediction___ =[]\n",
    "for train_idx, test_idx in loo.split(X):\n",
    "    X_train, X_test = X[train_idx], X[test_idx] #requires arrays\n",
    "    y_train, y_test = y_array[train_idx], y_array[test_idx]\n",
    "    \n",
    "    model = LinearRegression()\n",
    "    model.fit(X = X_train, y = y_train) \n",
    "    y_pred = model.predict(X_test)\n",
    "        \n",
    "    # there is only one y-test and y-pred per iteration over the loo.split, \n",
    "    # so to get a proper graph, we append them to respective lists.\n",
    "        \n",
    "    ytests += list(y_test)\n",
    "    ypreds += list(y_pred)\n",
    "    #print(ypreds)   \n",
    "    prediction___.append(ypreds[-1:])    \n",
    "rr = metrics.r2_score(ytests, ypreds)\n",
    "ms_error = metrics.mean_squared_error(ytests, ypreds)\n",
    "        \n",
    "print(\"Leave One Out Cross Validation\")\n",
    "print(\"R^2: {:.5f}%, MSE: {:.5f}\".format(rr*100, ms_error))\n",
    "# Plot important coefficients\n",
    "coefs = pd.Series(model.coef_,  index = train.drop(['2017_LA_Arrears'], axis=1).columns)\n",
    "print(\"Linear Regression picked \" + str(sum(coefs != 0)) + \" features and eliminated the other \" +  \\\n",
    "      str(sum(coefs == 0)) + \" features\")\n",
    "imp_coefs = pd.concat([coefs.sort_values().head(2),\n",
    "                     coefs.sort_values().tail(2)])\n",
    "imp_coefs.plot(kind = \"barh\")\n",
    "plt.title(\"Coefficients in the Linear Regression Model\")\n",
    "plt.show()"
   ]
  },
  {
   "cell_type": "markdown",
   "metadata": {},
   "source": [
    "###### In general, the higher the R-squared, the better the model fits your data. However, there are important conditions for this guideline that I’ll talk about both in this post and my next post."
   ]
  },
  {
   "cell_type": "code",
   "execution_count": 52,
   "metadata": {
    "collapsed": true
   },
   "outputs": [],
   "source": [
    "#flatten the list of predictions\n",
    "flat_predcition_list = [item for sublist in prediction___ for item in sublist]"
   ]
  },
  {
   "cell_type": "code",
   "execution_count": 53,
   "metadata": {},
   "outputs": [
    {
     "data": {
      "text/plain": [
       "[1905790.0,\n",
       " 1122724.0,\n",
       " 1930849.0,\n",
       " 14753589.0,\n",
       " 5044587.0,\n",
       " 81961382.0,\n",
       " 6048398.0,\n",
       " 1654449.0,\n",
       " 11058095.0,\n",
       " 3286753.0,\n",
       " 16052841.0,\n",
       " 309165.0,\n",
       " 2493977.0,\n",
       " 2883708.0,\n",
       " 3345606.0,\n",
       " 6102632.0,\n",
       " 4194719.0,\n",
       " 1910202.0,\n",
       " 1163066.0,\n",
       " 359107.0,\n",
       " 2760242.0,\n",
       " 2562784.0,\n",
       " 16058109.0,\n",
       " 3094415.0,\n",
       " 1626196.0,\n",
       " 4218954.0,\n",
       " 197902338.19999999]"
      ]
     },
     "execution_count": 53,
     "metadata": {},
     "output_type": "execute_result"
    }
   ],
   "source": [
    "list(y)\n"
   ]
  },
  {
   "cell_type": "code",
   "execution_count": 54,
   "metadata": {
    "collapsed": true
   },
   "outputs": [],
   "source": [
    "plot_df = pd.DataFrame([y_array, flat_predcition_list], columns = df['County'],index = [\"2017_values\",\"Predictions\"]).T"
   ]
  },
  {
   "cell_type": "code",
   "execution_count": 55,
   "metadata": {},
   "outputs": [
    {
     "data": {
      "text/plain": [
       "<matplotlib.text.Text at 0x2551b8bfeb8>"
      ]
     },
     "execution_count": 55,
     "metadata": {},
     "output_type": "execute_result"
    },
    {
     "data": {
      "image/png": "[encoded data removed]",
      "text/plain": [
       "<matplotlib.figure.Figure at 0x2551aee1dd8>"
      ]
     },
     "metadata": {},
     "output_type": "display_data"
    }
   ],
   "source": [
    "#Plot true values of 2017 and also the predictions\n",
    "plt.figure(figsize=(8,4))\n",
    "sns.regplot( x = '2017_values', y = 'Predictions', data = plot_df, scatter=True, order=1)\n",
    "plt.xlabel('True Values')\n",
    "plt.ylabel('Predictions')"
   ]
  },
  {
   "cell_type": "code",
   "execution_count": 56,
   "metadata": {
    "collapsed": true
   },
   "outputs": [],
   "source": [
    "pd.DataFrame([y_array, flat_predcition_list], columns = df['County'],index = [\"2017_values\",\"Predictions\"]).T.to_csv('predcitions_arrears_small.csv')"
   ]
  },
  {
   "cell_type": "code",
   "execution_count": 57,
   "metadata": {
    "collapsed": true
   },
   "outputs": [],
   "source": [
    "from sklearn.model_selection import cross_val_score, train_test_split\n",
    "from sklearn.preprocessing import StandardScaler\n",
    "from sklearn.linear_model import LinearRegression, RidgeCV, LassoCV, ElasticNetCV\n",
    "from sklearn.metrics import mean_squared_error, make_scorer"
   ]
  },
  {
   "cell_type": "code",
   "execution_count": 58,
   "metadata": {},
   "outputs": [
    {
     "name": "stdout",
     "output_type": "stream",
     "text": [
      "X_train : (18, 4)\n",
      "X_test : (9, 4)\n",
      "y_train : (18,)\n",
      "y_test : (9,)\n"
     ]
    }
   ],
   "source": [
    "# Partition the dataset in train + validation sets\n",
    "X_train, X_test, y_train, y_test = train_test_split(X, y, test_size = 0.3, random_state = 0)\n",
    "print(\"X_train : \" + str(X_train.shape))\n",
    "print(\"X_test : \" + str(X_test.shape))\n",
    "print(\"y_train : \" + str(y_train.shape))\n",
    "print(\"y_test : \" + str(y_test.shape))"
   ]
  },
  {
   "cell_type": "markdown",
   "metadata": {},
   "source": [
    "Whereas R-squared is a relative measure of fit, RMSE is an absolute measure of fit. As the square root of a variance, RMSE can be interpreted as the standard deviation of the unexplained variance, and has the useful property of being in the same units as the response variable. Lower values of RMSE indicate better fit.\n",
    "\n",
    "http://www.theanalysisfactor.com/assessing-the-fit-of-regression-models/"
   ]
  },
  {
   "cell_type": "code",
   "execution_count": 59,
   "metadata": {
    "collapsed": true
   },
   "outputs": [],
   "source": [
    "# Define : RMSE\n",
    "scorer = make_scorer(mean_squared_error, greater_is_better = False)\n",
    "loocv = LeaveOneOut()\n",
    "def rmse_cv_train(model):\n",
    "    rmse= np.sqrt(-cross_val_score(model, X_train, y_train, scoring = scorer, cv = loocv))\n",
    "    return(rmse)\n",
    "\n",
    "def rmse_cv_test(model):\n",
    "    rmse= np.sqrt(-cross_val_score(model, X_test, y_test, scoring = scorer, cv = loocv))\n",
    "    return(rmse)"
   ]
  },
  {
   "cell_type": "code",
   "execution_count": 60,
   "metadata": {},
   "outputs": [
    {
     "name": "stdout",
     "output_type": "stream",
     "text": [
      "RMSE on Training set : 4073478.69823\n",
      "RMSE on Test set : 8792666.28743\n"
     ]
    },
    {
     "data": {
      "image/png": "[encoded data removed]",
      "text/plain": [
       "<matplotlib.figure.Figure at 0x2551b549ac8>"
      ]
     },
     "metadata": {},
     "output_type": "display_data"
    },
    {
     "data": {
      "image/png": "[encoded data removed]",
      "text/plain": [
       "<matplotlib.figure.Figure at 0x2551ba97da0>"
      ]
     },
     "metadata": {},
     "output_type": "display_data"
    }
   ],
   "source": [
    "# Linear Regression without regularisation\n",
    "lr = LinearRegression()\n",
    "lr.fit(X, y)\n",
    "\n",
    "# Look at predictions on training and validation set\n",
    "print(\"RMSE on Training set :\", rmse_cv_train(lr).mean())\n",
    "print(\"RMSE on Test set :\", rmse_cv_test(lr).mean())\n",
    "y_train_pred = lr.predict(X_train)\n",
    "y_test_pred = lr.predict(X_test)\n",
    "\n",
    "# Plot residuals\n",
    "plt.scatter(y_train_pred, y_train_pred - y_train, c = \"blue\", marker = \"s\", label = \"Training data\")\n",
    "plt.scatter(y_test_pred, y_test_pred - y_test, c = \"lightgreen\", marker = \"s\", label = \"Validation data\")\n",
    "plt.title(\"Linear regression\")\n",
    "plt.xlabel(\"Predicted values\")\n",
    "plt.ylabel(\"Residuals\")\n",
    "plt.legend(loc = \"upper left\")\n",
    "plt.hlines(y = 0, xmin = .5, xmax = 1, color = \"red\")\n",
    "plt.show()\n",
    "\n",
    "# Plot predictions\n",
    "plt.scatter(y_train_pred, y_train, c = \"blue\", marker = \"s\", label = \"Training data\")\n",
    "plt.scatter(y_test_pred, y_test, c = \"lightgreen\", marker = \"s\", label = \"Validation data\")\n",
    "plt.title(\"Linear regression\")\n",
    "plt.xlabel(\"Predicted values\")\n",
    "plt.ylabel(\"Real values\")\n",
    "plt.legend(loc = \"upper left\")\n",
    "plt.plot([.5, .9], [.5, .9], c = \"red\")\n",
    "plt.show()"
   ]
  },
  {
   "cell_type": "markdown",
   "metadata": {},
   "source": [
    "Errors seem randomly distributed and randomly scattered around the centerline, so there is that at least. It means our model was able to capture most of the explanatory information.\n",
    "\n"
   ]
  },
  {
   "cell_type": "code",
   "execution_count": 61,
   "metadata": {},
   "outputs": [
    {
     "name": "stdout",
     "output_type": "stream",
     "text": [
      "Best alpha : 0.01\n",
      "Try again for more precision with alphas centered around 0.01\n",
      "Best alpha : 0.006\n",
      "Ridge RMSE on Training set : 4245486.08177\n",
      "Ridge RMSE on Test set : 9964562.46679\n"
     ]
    },
    {
     "data": {
      "image/png": "[encoded data removed]",
      "text/plain": [
       "<matplotlib.figure.Figure at 0x2551bab15c0>"
      ]
     },
     "metadata": {},
     "output_type": "display_data"
    },
    {
     "data": {
      "image/png": "[encoded data removed]",
      "text/plain": [
       "<matplotlib.figure.Figure at 0x2551b8c7e48>"
      ]
     },
     "metadata": {},
     "output_type": "display_data"
    },
    {
     "name": "stdout",
     "output_type": "stream",
     "text": [
      "Ridge picked 4 features and eliminated the other 0 features\n"
     ]
    },
    {
     "data": {
      "image/png": "[encoded data removed]",
      "text/plain": [
       "<matplotlib.figure.Figure at 0x2551b7859b0>"
      ]
     },
     "metadata": {},
     "output_type": "display_data"
    }
   ],
   "source": [
    "# 2* Ridge\n",
    "ridge = RidgeCV(alphas = [0.01, 0.03, 0.06, 0.1, 0.3, 0.6, 1, 3, 6, 10, 30, 60])\n",
    "ridge.fit(X, y)\n",
    "alpha = ridge.alpha_\n",
    "print(\"Best alpha :\", alpha)\n",
    "\n",
    "print(\"Try again for more precision with alphas centered around \" + str(alpha))\n",
    "ridge = RidgeCV(alphas = [alpha * .6, alpha * .65, alpha * .7, alpha * .75, alpha * .8, alpha * .85, \n",
    "                          alpha * .9, alpha * .95, alpha, alpha * 1.05, alpha * 1.1, alpha * 1.15,\n",
    "                          alpha * 1.25, alpha * 1.3, alpha * 1.35, alpha * 1.4], \n",
    "                cv = loocv)\n",
    "ridge.fit(X_train, y_train)\n",
    "alpha = ridge.alpha_\n",
    "print(\"Best alpha :\", alpha)\n",
    "\n",
    "print(\"Ridge RMSE on Training set :\", rmse_cv_train(ridge).mean())\n",
    "print(\"Ridge RMSE on Test set :\", rmse_cv_test(ridge).mean())\n",
    "y_train_rdg = ridge.predict(X_train)\n",
    "y_test_rdg = ridge.predict(X_test)\n",
    "\n",
    "# Plot residuals\n",
    "plt.scatter(y_train_rdg, y_train_rdg - y_train, c = \"blue\", marker = \"s\", label = \"Training data\")\n",
    "plt.scatter(y_test_rdg, y_test_rdg - y_test, c = \"lightgreen\", marker = \"s\", label = \"Validation data\")\n",
    "plt.title(\"Linear regression with Ridge regularization\")\n",
    "plt.xlabel(\"Predicted values\")\n",
    "plt.ylabel(\"Residuals\")\n",
    "plt.legend(loc = \"upper left\")\n",
    "plt.hlines(y = 0, xmin = 10.5, xmax = 13.5, color = \"red\")\n",
    "plt.show()\n",
    "\n",
    "# Plot predictions\n",
    "plt.scatter(y_train_rdg, y_train, c = \"blue\", marker = \"s\", label = \"Training data\")\n",
    "plt.scatter(y_test_rdg, y_test, c = \"lightgreen\", marker = \"s\", label = \"Validation data\")\n",
    "plt.title(\"Linear regression with Ridge regularization\")\n",
    "plt.xlabel(\"Predicted values\")\n",
    "plt.ylabel(\"Real values\")\n",
    "plt.legend(loc = \"upper left\")\n",
    "plt.plot([10.5, 13.5], [10.5, 13.5], c = \"red\")\n",
    "plt.show()\n",
    "\n",
    "# Plot important coefficients\n",
    "coefs = pd.Series(ridge.coef_, index = train.drop(['2017_LA_Arrears'], axis=1).columns)\n",
    "print(\"Ridge picked \" + str(sum(coefs != 0)) + \" features and eliminated the other \" +  \\\n",
    "      str(sum(coefs == 0)) + \" features\")\n",
    "imp_coefs = pd.concat([coefs.sort_values().head(2),\n",
    "                     coefs.sort_values().tail(2)])\n",
    "imp_coefs.plot(kind = \"barh\")\n",
    "plt.title(\"Coefficients in the Ridge Model\")\n",
    "plt.show()"
   ]
  },
  {
   "cell_type": "code",
   "execution_count": 62,
   "metadata": {},
   "outputs": [
    {
     "name": "stdout",
     "output_type": "stream",
     "text": [
      "Best alpha : 0.0001\n",
      "Try again for more precision with alphas centered around 0.0001\n",
      "Best alpha : 6e-05\n",
      "Lasso RMSE on Training set : 4073478.70512\n",
      "Lasso RMSE on Test set : 8792666.3295\n"
     ]
    },
    {
     "data": {
      "image/png": "[encoded data removed]",
      "text/plain": [
       "<matplotlib.figure.Figure at 0x2551b50e198>"
      ]
     },
     "metadata": {},
     "output_type": "display_data"
    },
    {
     "data": {
      "image/png": "[encoded data removed]",
      "text/plain": [
       "<matplotlib.figure.Figure at 0x2551b4b97f0>"
      ]
     },
     "metadata": {},
     "output_type": "display_data"
    },
    {
     "name": "stdout",
     "output_type": "stream",
     "text": [
      "Lasso picked 4 features and eliminated the other 0 features\n"
     ]
    },
    {
     "data": {
      "image/png": "[encoded data removed]",
      "text/plain": [
       "<matplotlib.figure.Figure at 0x2551c893cc0>"
      ]
     },
     "metadata": {},
     "output_type": "display_data"
    }
   ],
   "source": [
    "# 3* Lasso\n",
    "lasso = LassoCV(alphas = [0.0001, 0.0003, 0.0006, 0.001, 0.003, 0.006, 0.01, 0.03, 0.06, 0.1, \n",
    "                          0.3, 0.6, 1], \n",
    "                max_iter = 50000, cv = 10)\n",
    "lasso.fit(X_train, y_train)\n",
    "alpha = lasso.alpha_\n",
    "print(\"Best alpha :\", alpha)\n",
    "\n",
    "print(\"Try again for more precision with alphas centered around \" + str(alpha))\n",
    "lasso = LassoCV(alphas = [alpha * .6, alpha * .65, alpha * .7, alpha * .75, alpha * .8, \n",
    "                          alpha * .85, alpha * .9, alpha * .95, alpha, alpha * 1.05, \n",
    "                          alpha * 1.1, alpha * 1.15, alpha * 1.25, alpha * 1.3, alpha * 1.35, \n",
    "                          alpha * 1.4], \n",
    "                max_iter = 50000, cv = loocv)\n",
    "lasso.fit(X_train, y_train)\n",
    "alpha = lasso.alpha_\n",
    "print(\"Best alpha :\", alpha)\n",
    "\n",
    "print(\"Lasso RMSE on Training set :\", rmse_cv_train(lasso).mean())\n",
    "print(\"Lasso RMSE on Test set :\", rmse_cv_test(lasso).mean())\n",
    "y_train_las = lasso.predict(X_train)\n",
    "y_test_las = lasso.predict(X_test)\n",
    "\n",
    "# Plot residuals\n",
    "plt.scatter(y_train_las, y_train_las - y_train, c = \"blue\", marker = \"s\", label = \"Training data\")\n",
    "plt.scatter(y_test_las, y_test_las - y_test, c = \"lightgreen\", marker = \"s\", label = \"Validation data\")\n",
    "plt.title(\"Linear regression with Lasso regularization\")\n",
    "plt.xlabel(\"Predicted values\")\n",
    "plt.ylabel(\"Residuals\")\n",
    "plt.legend(loc = \"upper left\")\n",
    "plt.hlines(y = 0, xmin = 10.5, xmax = 13.5, color = \"red\")\n",
    "plt.show()\n",
    "\n",
    "# Plot predictions\n",
    "plt.scatter(y_train_las, y_train, c = \"blue\", marker = \"s\", label = \"Training data\")\n",
    "plt.scatter(y_test_las, y_test, c = \"lightgreen\", marker = \"s\", label = \"Validation data\")\n",
    "plt.title(\"Linear regression with Lasso regularization\")\n",
    "plt.xlabel(\"Predicted values\")\n",
    "plt.ylabel(\"Real values\")\n",
    "plt.legend(loc = \"upper left\")\n",
    "plt.plot([10.5, 13.5], [10.5, 13.5], c = \"red\")\n",
    "plt.show()\n",
    "\n",
    "# Plot important coefficients\n",
    "coefs = pd.Series(lasso.coef_,  index = train.drop(['2017_LA_Arrears'], axis=1).columns)\n",
    "print(\"Lasso picked \" + str(sum(coefs != 0)) + \" features and eliminated the other \" +  \\\n",
    "      str(sum(coefs == 0)) + \" features\")\n",
    "imp_coefs = pd.concat([coefs.sort_values().head(2),\n",
    "                     coefs.sort_values().tail(2)])\n",
    "imp_coefs.plot(kind = \"barh\")\n",
    "plt.title(\"Coefficients in the Lasso Model\")\n",
    "plt.show()"
   ]
  },
  {
   "cell_type": "markdown",
   "metadata": {},
   "source": [
    "https://medium.freecodecamp.org/data-science-with-python-8-ways-to-do-linear-regression-and-measure-their-speed-b5577d75f8b"
   ]
  },
  {
   "cell_type": "code",
   "execution_count": 63,
   "metadata": {},
   "outputs": [
    {
     "name": "stdout",
     "output_type": "stream",
     "text": [
      "Leave One Out Cross Validation\n",
      "R^2: 96.98098%, MSE: 46012568736171.34375\n"
     ]
    }
   ],
   "source": [
    "from sklearn.linear_model import Ridge\n",
    "y_array = y.values\n",
    "loo = LeaveOneOut()\n",
    "ytests = []\n",
    "ypreds = []\n",
    "prediction___ =[]\n",
    "for train_idx, test_idx in loo.split(X):\n",
    "    X_train, X_test = X[train_idx], X[test_idx] #requires arrays\n",
    "    y_train, y_test = y_array[train_idx], y_array[test_idx]\n",
    "    \n",
    "    model = Ridge(alpha = 0.006)\n",
    "    model.fit(X = X_train, y = y_train) \n",
    "    y_pred = model.predict(X_test)\n",
    "        \n",
    "    # there is only one y-test and y-pred per iteration over the loo.split, \n",
    "    # so to get a proper graph, we append them to respective lists.\n",
    "        \n",
    "    ytests += list(y_test)\n",
    "    ypreds += list(y_pred)\n",
    "    #print(ypreds)   \n",
    "    prediction___.append(ypreds[-1:])    \n",
    "rr = metrics.r2_score(ytests, ypreds)\n",
    "ms_error = metrics.mean_squared_error(ytests, ypreds)\n",
    "        \n",
    "print(\"Leave One Out Cross Validation\")\n",
    "print(\"R^2: {:.5f}%, MSE: {:.5f}\".format(rr*100, ms_error))\n"
   ]
  },
  {
   "cell_type": "code",
   "execution_count": 64,
   "metadata": {},
   "outputs": [
    {
     "name": "stdout",
     "output_type": "stream",
     "text": [
      "Leave One Out Cross Validation\n",
      "R^2: 97.01062%, MSE: 45560802792813.46094\n"
     ]
    }
   ],
   "source": [
    "from sklearn.linear_model import Lasso\n",
    "y_array = y.values\n",
    "loo = LeaveOneOut()\n",
    "ytests = []\n",
    "ypreds = []\n",
    "prediction___ =[]\n",
    "for train_idx, test_idx in loo.split(X):\n",
    "    X_train, X_test = X[train_idx], X[test_idx] #requires arrays\n",
    "    y_train, y_test = y_array[train_idx], y_array[test_idx]\n",
    "    \n",
    "    model = Lasso(alpha = 0.0001)\n",
    "    model.fit(X = X_train, y = y_train) \n",
    "    y_pred = model.predict(X_test)\n",
    "        \n",
    "    # there is only one y-test and y-pred per iteration over the loo.split, \n",
    "    # so to get a proper graph, we append them to respective lists.\n",
    "        \n",
    "    ytests += list(y_test)\n",
    "    ypreds += list(y_pred)\n",
    "    #print(ypreds)   \n",
    "    prediction___.append(ypreds[-1:])    \n",
    "rr = metrics.r2_score(ytests, ypreds)\n",
    "ms_error = metrics.mean_squared_error(ytests, ypreds)\n",
    "        \n",
    "print(\"Leave One Out Cross Validation\")\n",
    "print(\"R^2: {:.5f}%, MSE: {:.5f}\".format(rr*100, ms_error))\n"
   ]
  },
  {
   "cell_type": "markdown",
   "metadata": {},
   "source": [
    "##### Reference\n",
    "\n",
    "https://www.statsmodels.org/dev/graphics.html\n",
    "\n",
    "https://www.statsmodels.org/devel/example_formulas.html\n"
   ]
  },
  {
   "cell_type": "markdown",
   "metadata": {},
   "source": [
    "#### Stats Model"
   ]
  },
  {
   "cell_type": "code",
   "execution_count": 65,
   "metadata": {
    "collapsed": true
   },
   "outputs": [],
   "source": [
    "import statsmodels.api as sm\n",
    "import seaborn\n",
    "import statsmodels.formula.api as smf "
   ]
  },
  {
   "cell_type": "code",
   "execution_count": 66,
   "metadata": {
    "collapsed": true
   },
   "outputs": [],
   "source": [
    "train.columns = ['sumForcedPossesion','sumVoluntaryPossesion','totalDifferenceMortgageCount','totalDifferenceLoanArrears','mortgageArrears']"
   ]
  },
  {
   "cell_type": "code",
   "execution_count": 67,
   "metadata": {},
   "outputs": [
    {
     "data": {
      "text/plain": [
       "Index(['sumForcedPossesion', 'sumVoluntaryPossesion', 'totalDifferenceMortgageCount', 'totalDifferenceLoanArrears', 'mortgageArrears'], dtype='object')"
      ]
     },
     "execution_count": 67,
     "metadata": {},
     "output_type": "execute_result"
    }
   ],
   "source": [
    "train.columns"
   ]
  },
  {
   "cell_type": "code",
   "execution_count": 68,
   "metadata": {},
   "outputs": [
    {
     "name": "stdout",
     "output_type": "stream",
     "text": [
      "                            OLS Regression Results                            \n",
      "==============================================================================\n",
      "Dep. Variable:        mortgageArrears   R-squared:                       0.964\n",
      "Model:                            OLS   Adj. R-squared:                  0.963\n",
      "Method:                 Least Squares   F-statistic:                     672.5\n",
      "Date:                Thu, 06 Dec 2018   Prob (F-statistic):           1.37e-19\n",
      "Time:                        20:17:24   Log-Likelihood:                -465.34\n",
      "No. Observations:                  27   AIC:                             934.7\n",
      "Df Residuals:                      25   BIC:                             937.3\n",
      "Df Model:                           1                                         \n",
      "Covariance Type:            nonrobust                                         \n",
      "======================================================================================\n",
      "                         coef    std err          t      P>|t|      [0.025      0.975]\n",
      "--------------------------------------------------------------------------------------\n",
      "Intercept           2.882e+05   1.58e+06      0.183      0.857   -2.96e+06    3.54e+06\n",
      "sumForcedPossesion  1.049e+06   4.04e+04     25.933      0.000    9.65e+05    1.13e+06\n",
      "==============================================================================\n",
      "Omnibus:                       45.852   Durbin-Watson:                   1.902\n",
      "Prob(Omnibus):                  0.000   Jarque-Bera (JB):              220.719\n",
      "Skew:                          -3.176   Prob(JB):                     1.18e-48\n",
      "Kurtosis:                      15.484   Cond. No.                         41.7\n",
      "==============================================================================\n",
      "\n",
      "Warnings:\n",
      "[1] Standard Errors assume that the covariance matrix of the errors is correctly specified.\n"
     ]
    }
   ],
   "source": [
    "# linear regression analysis\n",
    "reg1 = smf.ols('mortgageArrears ~ sumForcedPossesion', data=train).fit()\n",
    "print (reg1.summary())"
   ]
  },
  {
   "cell_type": "code",
   "execution_count": 69,
   "metadata": {},
   "outputs": [
    {
     "name": "stdout",
     "output_type": "stream",
     "text": [
      "                            OLS Regression Results                            \n",
      "==============================================================================\n",
      "Dep. Variable:        mortgageArrears   R-squared:                       0.868\n",
      "Model:                            OLS   Adj. R-squared:                  0.863\n",
      "Method:                 Least Squares   F-statistic:                     164.5\n",
      "Date:                Thu, 06 Dec 2018   Prob (F-statistic):           1.70e-12\n",
      "Time:                        20:17:24   Log-Likelihood:                -482.93\n",
      "No. Observations:                  27   AIC:                             969.9\n",
      "Df Residuals:                      25   BIC:                             972.5\n",
      "Df Model:                           1                                         \n",
      "Covariance Type:            nonrobust                                         \n",
      "=========================================================================================\n",
      "                            coef    std err          t      P>|t|      [0.025      0.975]\n",
      "-----------------------------------------------------------------------------------------\n",
      "Intercept              2.299e+05   3.05e+06      0.075      0.941   -6.05e+06    6.51e+06\n",
      "sumVoluntaryPossesion   1.12e+06   8.73e+04     12.825      0.000     9.4e+05     1.3e+06\n",
      "==============================================================================\n",
      "Omnibus:                       32.070   Durbin-Watson:                   1.957\n",
      "Prob(Omnibus):                  0.000   Jarque-Bera (JB):              101.193\n",
      "Skew:                           2.134   Prob(JB):                     1.06e-22\n",
      "Kurtosis:                      11.469   Cond. No.                         37.6\n",
      "==============================================================================\n",
      "\n",
      "Warnings:\n",
      "[1] Standard Errors assume that the covariance matrix of the errors is correctly specified.\n"
     ]
    }
   ],
   "source": [
    "# linear regression analysis\n",
    "reg1 = smf.ols('mortgageArrears ~ sumVoluntaryPossesion', data=train).fit()\n",
    "print (reg1.summary())"
   ]
  },
  {
   "cell_type": "code",
   "execution_count": 70,
   "metadata": {},
   "outputs": [
    {
     "name": "stdout",
     "output_type": "stream",
     "text": [
      "                            OLS Regression Results                            \n",
      "==============================================================================\n",
      "Dep. Variable:        mortgageArrears   R-squared:                       0.981\n",
      "Model:                            OLS   Adj. R-squared:                  0.980\n",
      "Method:                 Least Squares   F-statistic:                     1305.\n",
      "Date:                Thu, 06 Dec 2018   Prob (F-statistic):           4.27e-23\n",
      "Time:                        20:17:24   Log-Likelihood:                -456.63\n",
      "No. Observations:                  27   AIC:                             917.3\n",
      "Df Residuals:                      25   BIC:                             919.8\n",
      "Df Model:                           1                                         \n",
      "Covariance Type:            nonrobust                                         \n",
      "================================================================================================\n",
      "                                   coef    std err          t      P>|t|      [0.025      0.975]\n",
      "------------------------------------------------------------------------------------------------\n",
      "Intercept                     -3.23e+05   1.15e+06     -0.281      0.781   -2.69e+06    2.04e+06\n",
      "totalDifferenceMortgageCount  6012.5688    166.467     36.119      0.000    5669.724    6355.414\n",
      "==============================================================================\n",
      "Omnibus:                       18.769   Durbin-Watson:                   2.171\n",
      "Prob(Omnibus):                  0.000   Jarque-Bera (JB):               22.034\n",
      "Skew:                           1.769   Prob(JB):                     1.64e-05\n",
      "Kurtosis:                       5.657   Cond. No.                     7.40e+03\n",
      "==============================================================================\n",
      "\n",
      "Warnings:\n",
      "[1] Standard Errors assume that the covariance matrix of the errors is correctly specified.\n",
      "[2] The condition number is large, 7.4e+03. This might indicate that there are\n",
      "strong multicollinearity or other numerical problems.\n"
     ]
    }
   ],
   "source": [
    "# linear regression analysis\n",
    "reg1 = smf.ols('mortgageArrears ~ totalDifferenceMortgageCount', data=train).fit()\n",
    "print (reg1.summary())"
   ]
  },
  {
   "cell_type": "code",
   "execution_count": 71,
   "metadata": {},
   "outputs": [
    {
     "name": "stdout",
     "output_type": "stream",
     "text": [
      "                            OLS Regression Results                            \n",
      "==============================================================================\n",
      "Dep. Variable:        mortgageArrears   R-squared:                       0.002\n",
      "Model:                            OLS   Adj. R-squared:                 -0.038\n",
      "Method:                 Least Squares   F-statistic:                   0.05191\n",
      "Date:                Thu, 06 Dec 2018   Prob (F-statistic):              0.822\n",
      "Time:                        20:17:24   Log-Likelihood:                -510.25\n",
      "No. Observations:                  27   AIC:                             1024.\n",
      "Df Residuals:                      25   BIC:                             1027.\n",
      "Df Model:                           1                                         \n",
      "Covariance Type:            nonrobust                                         \n",
      "==============================================================================================\n",
      "                                 coef    std err          t      P>|t|      [0.025      0.975]\n",
      "----------------------------------------------------------------------------------------------\n",
      "Intercept                   1.437e+07    7.9e+06      1.820      0.081    -1.9e+06    3.06e+07\n",
      "totalDifferenceLoanArrears    -0.1717      0.753     -0.228      0.822      -1.723       1.380\n",
      "==============================================================================\n",
      "Omnibus:                       53.075   Durbin-Watson:                   1.262\n",
      "Prob(Omnibus):                  0.000   Jarque-Bera (JB):              294.235\n",
      "Skew:                           3.863   Prob(JB):                     1.28e-64\n",
      "Kurtosis:                      17.207   Cond. No.                     1.06e+07\n",
      "==============================================================================\n",
      "\n",
      "Warnings:\n",
      "[1] Standard Errors assume that the covariance matrix of the errors is correctly specified.\n",
      "[2] The condition number is large, 1.06e+07. This might indicate that there are\n",
      "strong multicollinearity or other numerical problems.\n"
     ]
    }
   ],
   "source": [
    "# linear regression analysis\n",
    "reg1 = smf.ols('mortgageArrears ~ totalDifferenceLoanArrears', data=train).fit()\n",
    "print (reg1.summary())"
   ]
  },
  {
   "cell_type": "code",
   "execution_count": 72,
   "metadata": {},
   "outputs": [
    {
     "data": {
      "text/html": [
       "<table class=\"simpletable\">\n",
       "<caption>OLS Regression Results</caption>\n",
       "<tr>\n",
       "  <th>Dep. Variable:</th>     <td>mortgageArrears</td> <th>  R-squared:         </th> <td>   0.993</td>\n",
       "</tr>\n",
       "<tr>\n",
       "  <th>Model:</th>                   <td>OLS</td>       <th>  Adj. R-squared:    </th> <td>   0.992</td>\n",
       "</tr>\n",
       "<tr>\n",
       "  <th>Method:</th>             <td>Least Squares</td>  <th>  F-statistic:       </th> <td>   781.5</td>\n",
       "</tr>\n",
       "<tr>\n",
       "  <th>Date:</th>             <td>Thu, 06 Dec 2018</td> <th>  Prob (F-statistic):</th> <td>2.32e-23</td>\n",
       "</tr>\n",
       "<tr>\n",
       "  <th>Time:</th>                 <td>20:17:24</td>     <th>  Log-Likelihood:    </th> <td> -443.27</td>\n",
       "</tr>\n",
       "<tr>\n",
       "  <th>No. Observations:</th>      <td>    27</td>      <th>  AIC:               </th> <td>   896.5</td>\n",
       "</tr>\n",
       "<tr>\n",
       "  <th>Df Residuals:</th>          <td>    22</td>      <th>  BIC:               </th> <td>   903.0</td>\n",
       "</tr>\n",
       "<tr>\n",
       "  <th>Df Model:</th>              <td>     4</td>      <th>                     </th>     <td> </td>   \n",
       "</tr>\n",
       "<tr>\n",
       "  <th>Covariance Type:</th>      <td>nonrobust</td>    <th>                     </th>     <td> </td>   \n",
       "</tr>\n",
       "</table>\n",
       "<table class=\"simpletable\">\n",
       "<tr>\n",
       "                <td></td>                  <th>coef</th>     <th>std err</th>      <th>t</th>      <th>P>|t|</th>  <th>[0.025</th>    <th>0.975]</th>  \n",
       "</tr>\n",
       "<tr>\n",
       "  <th>Intercept</th>                    <td>  2.69e+04</td> <td>  7.5e+05</td> <td>    0.036</td> <td> 0.972</td> <td>-1.53e+06</td> <td> 1.58e+06</td>\n",
       "</tr>\n",
       "<tr>\n",
       "  <th>sumForcedPossesion</th>           <td> 2.812e+05</td> <td> 8.92e+04</td> <td>    3.153</td> <td> 0.005</td> <td> 9.63e+04</td> <td> 4.66e+05</td>\n",
       "</tr>\n",
       "<tr>\n",
       "  <th>sumVoluntaryPossesion</th>        <td>  1.28e+05</td> <td>  8.7e+04</td> <td>    1.472</td> <td> 0.155</td> <td>-5.24e+04</td> <td> 3.09e+05</td>\n",
       "</tr>\n",
       "<tr>\n",
       "  <th>totalDifferenceMortgageCount</th> <td> 3920.7074</td> <td>  651.912</td> <td>    6.014</td> <td> 0.000</td> <td> 2568.725</td> <td> 5272.689</td>\n",
       "</tr>\n",
       "<tr>\n",
       "  <th>totalDifferenceLoanArrears</th>   <td>    0.3861</td> <td>    0.086</td> <td>    4.503</td> <td> 0.000</td> <td>    0.208</td> <td>    0.564</td>\n",
       "</tr>\n",
       "</table>\n",
       "<table class=\"simpletable\">\n",
       "<tr>\n",
       "  <th>Omnibus:</th>       <td>12.241</td> <th>  Durbin-Watson:     </th> <td>   1.831</td>\n",
       "</tr>\n",
       "<tr>\n",
       "  <th>Prob(Omnibus):</th> <td> 0.002</td> <th>  Jarque-Bera (JB):  </th> <td>  11.438</td>\n",
       "</tr>\n",
       "<tr>\n",
       "  <th>Skew:</th>          <td> 1.257</td> <th>  Prob(JB):          </th> <td> 0.00328</td>\n",
       "</tr>\n",
       "<tr>\n",
       "  <th>Kurtosis:</th>      <td> 4.962</td> <th>  Cond. No.          </th> <td>1.13e+07</td>\n",
       "</tr>\n",
       "</table>"
      ],
      "text/plain": [
       "<class 'statsmodels.iolib.summary.Summary'>\n",
       "\"\"\"\n",
       "                            OLS Regression Results                            \n",
       "==============================================================================\n",
       "Dep. Variable:        mortgageArrears   R-squared:                       0.993\n",
       "Model:                            OLS   Adj. R-squared:                  0.992\n",
       "Method:                 Least Squares   F-statistic:                     781.5\n",
       "Date:                Thu, 06 Dec 2018   Prob (F-statistic):           2.32e-23\n",
       "Time:                        20:17:24   Log-Likelihood:                -443.27\n",
       "No. Observations:                  27   AIC:                             896.5\n",
       "Df Residuals:                      22   BIC:                             903.0\n",
       "Df Model:                           4                                         \n",
       "Covariance Type:            nonrobust                                         \n",
       "================================================================================================\n",
       "                                   coef    std err          t      P>|t|      [0.025      0.975]\n",
       "------------------------------------------------------------------------------------------------\n",
       "Intercept                      2.69e+04    7.5e+05      0.036      0.972   -1.53e+06    1.58e+06\n",
       "sumForcedPossesion            2.812e+05   8.92e+04      3.153      0.005    9.63e+04    4.66e+05\n",
       "sumVoluntaryPossesion          1.28e+05    8.7e+04      1.472      0.155   -5.24e+04    3.09e+05\n",
       "totalDifferenceMortgageCount  3920.7074    651.912      6.014      0.000    2568.725    5272.689\n",
       "totalDifferenceLoanArrears       0.3861      0.086      4.503      0.000       0.208       0.564\n",
       "==============================================================================\n",
       "Omnibus:                       12.241   Durbin-Watson:                   1.831\n",
       "Prob(Omnibus):                  0.002   Jarque-Bera (JB):               11.438\n",
       "Skew:                           1.257   Prob(JB):                      0.00328\n",
       "Kurtosis:                       4.962   Cond. No.                     1.13e+07\n",
       "==============================================================================\n",
       "\n",
       "Warnings:\n",
       "[1] Standard Errors assume that the covariance matrix of the errors is correctly specified.\n",
       "[2] The condition number is large, 1.13e+07. This might indicate that there are\n",
       "strong multicollinearity or other numerical problems.\n",
       "\"\"\""
      ]
     },
     "execution_count": 72,
     "metadata": {},
     "output_type": "execute_result"
    }
   ],
   "source": [
    "# linear regression analysis\n",
    "reg2 = smf.ols('mortgageArrears ~ sumForcedPossesion + sumVoluntaryPossesion + totalDifferenceMortgageCount + totalDifferenceLoanArrears', data=train).fit()\n",
    "reg2.summary()"
   ]
  },
  {
   "cell_type": "markdown",
   "metadata": {},
   "source": [
    "#### Evaluating Model Fit"
   ]
  },
  {
   "cell_type": "code",
   "execution_count": 88,
   "metadata": {},
   "outputs": [
    {
     "data": {
      "image/png": "[encoded data removed]",
      "text/plain": [
       "<matplotlib.figure.Figure at 0x208466aeb00>"
      ]
     },
     "metadata": {},
     "output_type": "display_data"
    }
   ],
   "source": [
    "#Q-Q plot for normality\n",
    "fig4=sm.qqplot(reg2.resid, line='r')"
   ]
  },
  {
   "cell_type": "code",
   "execution_count": 89,
   "metadata": {},
   "outputs": [
    {
     "data": {
      "text/plain": [
       "<matplotlib.text.Text at 0x208478e2828>"
      ]
     },
     "execution_count": 89,
     "metadata": {},
     "output_type": "execute_result"
    },
    {
     "data": {
      "image/png": "[encoded data removed]",
      "text/plain": [
       "<matplotlib.figure.Figure at 0x208478ba828>"
      ]
     },
     "metadata": {},
     "output_type": "display_data"
    }
   ],
   "source": [
    "# simple plot of residuals\n",
    "stdres=pd.DataFrame(reg2.resid_pearson)\n",
    "plt.plot(stdres, 'o', ls='None')\n",
    "l = plt.axhline(y=0, color='r')\n",
    "plt.ylabel('Standardized Residual')\n",
    "plt.xlabel('Observation Number')\n"
   ]
  },
  {
   "cell_type": "code",
   "execution_count": 90,
   "metadata": {},
   "outputs": [
    {
     "data": {
      "image/png": "[encoded data removed]",
      "text/plain": [
       "<matplotlib.figure.Figure at 0x20846321588>"
      ]
     },
     "metadata": {},
     "output_type": "display_data"
    }
   ],
   "source": [
    "# additional regression diagnostic plots\n",
    "fig2 = plt.figure(figsize = (10,8))\n",
    "fig2 = sm.graphics.plot_regress_exog(reg2,  'sumForcedPossesion', fig=fig2)"
   ]
  },
  {
   "cell_type": "code",
   "execution_count": 91,
   "metadata": {},
   "outputs": [
    {
     "name": "stdout",
     "output_type": "stream",
     "text": [
      "Figure(432x288)\n"
     ]
    },
    {
     "data": {
      "image/png": "[encoded data removed]",
      "text/plain": [
       "<matplotlib.figure.Figure at 0x20847847390>"
      ]
     },
     "metadata": {},
     "output_type": "display_data"
    }
   ],
   "source": [
    "# leverage plot\n",
    "fig3=sm.graphics.influence_plot(reg2, size=8)\n",
    "print(fig3)"
   ]
  },
  {
   "cell_type": "code",
   "execution_count": null,
   "metadata": {
    "collapsed": true
   },
   "outputs": [],
   "source": []
  }
 ],
 "metadata": {
  "kernelspec": {
   "display_name": "Python 3",
   "language": "python",
   "name": "python3"
  },
  "language_info": {
   "codemirror_mode": {
    "name": "ipython",
    "version": 3
   },
   "file_extension": ".py",
   "mimetype": "text/x-python",
   "name": "python",
   "nbconvert_exporter": "python",
   "pygments_lexer": "ipython3",
   "version": "3.6.2"
  }
 },
 "nbformat": 4,
 "nbformat_minor": 2
}
