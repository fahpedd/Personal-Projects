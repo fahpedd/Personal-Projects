{
 "cells": [
  {
   "cell_type": "code",
   "execution_count": 1,
   "metadata": {
    "collapsed": true
   },
   "outputs": [],
   "source": [
    "import numpy as np \n",
    "import pandas as pd \n",
    "import seaborn as sns\n",
    "import matplotlib.pyplot as plt\n",
    "%matplotlib inline\n",
    "\n",
    "import warnings\n",
    "%config InlineBackend.figure_format = 'png' #set 'png' here when working on notebook\n",
    "warnings.filterwarnings('ignore') \n",
    "\n",
    "# Set some parameters to get good visuals - style to ggplot and size to 15,10\n",
    "\n",
    "pd.set_option('display.width',170, 'display.max_rows',200, 'display.max_columns',900)"
   ]
  },
  {
   "cell_type": "code",
   "execution_count": 2,
   "metadata": {
    "collapsed": true
   },
   "outputs": [],
   "source": [
    "df = pd.read_csv(\"uk_data.csv\")"
   ]
  },
  {
   "cell_type": "code",
   "execution_count": 3,
   "metadata": {},
   "outputs": [
    {
     "data": {
      "text/plain": [
       "Index(['Year', 'Access to clean fuels and technologies for cooking  (% of population)', 'Access to electricity (% of population)',\n",
       "       'Access to electricity, rural (% of rural population)', 'Access to electricity, urban (% of urban population)',\n",
       "       'Adjusted net enrollment rate, primary (% of primary school age children)', 'Adjusted net national income (annual % growth)',\n",
       "       'Adjusted net national income (constant 2010 US$)', 'Adjusted net national income (current US$)', 'Adjusted net national income per capita (annual % growth)',\n",
       "       ...\n",
       "       'Unemployment, youth total (% of total labor force ages 15-24) (national estimate)', 'Urban population', 'Urban population (% of total)',\n",
       "       'Urban population growth (annual %)', 'Vulnerable employment, female (% of female employment) (modeled ILO estimate)',\n",
       "       'Vulnerable employment, male (% of male employment) (modeled ILO estimate)', 'Vulnerable employment, total (% of total employment) (modeled ILO estimate)',\n",
       "       'Wage and salaried workers, female (% of female employment) (modeled ILO estimate)',\n",
       "       'Wage and salaried workers, male (% of male employment) (modeled ILO estimate)',\n",
       "       'Wage and salaried workers, total (% of total employment) (modeled ILO estimate)'],\n",
       "      dtype='object', length=872)"
      ]
     },
     "execution_count": 3,
     "metadata": {},
     "output_type": "execute_result"
    }
   ],
   "source": [
    "df.columns"
   ]
  },
  {
   "cell_type": "code",
   "execution_count": 4,
   "metadata": {},
   "outputs": [
    {
     "data": {
      "text/plain": [
       "(45, 872)"
      ]
     },
     "execution_count": 4,
     "metadata": {},
     "output_type": "execute_result"
    }
   ],
   "source": [
    "df.shape"
   ]
  },
  {
   "cell_type": "code",
   "execution_count": 5,
   "metadata": {},
   "outputs": [
    {
     "name": "stdout",
     "output_type": "stream",
     "text": [
      "DATA SET INFORMATION\n",
      "========================\n",
      "\n",
      "Features with missing values:\n",
      "['Access to clean fuels and technologies for cooking  (% of population) has 28 missing', 'Access to electricity (% of population) has 18 missing', 'Access to electricity, rural (% of rural population) has 18 missing', 'Access to electricity, urban (% of urban population) has 18 missing', 'Adjusted net enrollment rate, primary (% of primary school age children) has 7 missing', 'Adjusted net national income (annual % growth) has 1 missing', 'Adjusted net national income (constant 2010 US$) has 1 missing', 'Adjusted net national income (current US$) has 1 missing', 'Adjusted net national income per capita (annual % growth) has 1 missing', 'Adjusted net national income per capita (constant 2010 US$) has 1 missing', 'Adjusted net national income per capita (current US$) has 1 missing', 'Adjusted net savings, excluding particulate emission damage (% of GNI) has 1 missing', 'Adjusted net savings, excluding particulate emission damage (current US$) has 1 missing', 'Adjusted net savings, including particulate emission damage (% of GNI) has 18 missing', 'Adjusted net savings, including particulate emission damage (current US$) has 18 missing', 'Adjusted savings: carbon dioxide damage (% of GNI) has 1 missing', 'Adjusted savings: carbon dioxide damage (current US$) has 1 missing', 'Adjusted savings: consumption of fixed capital (% of GNI) has 1 missing', 'Adjusted savings: consumption of fixed capital (current US$) has 1 missing', 'Adjusted savings: education expenditure (% of GNI) has 1 missing', 'Adjusted savings: education expenditure (current US$) has 1 missing', 'Adjusted savings: energy depletion (% of GNI) has 1 missing', 'Adjusted savings: energy depletion (current US$) has 1 missing', 'Adjusted savings: gross savings (% of GNI) has 1 missing', 'Adjusted savings: mineral depletion (% of GNI) has 1 missing', 'Adjusted savings: mineral depletion (current US$) has 1 missing', 'Adjusted savings: natural resources depletion (% of GNI) has 1 missing', 'Adjusted savings: net forest depletion (% of GNI) has 1 missing', 'Adjusted savings: net forest depletion (current US$) has 1 missing', 'Adjusted savings: net national savings (% of GNI) has 1 missing', 'Adjusted savings: net national savings (current US$) has 1 missing', 'Adjusted savings: particulate emission damage (% of GNI) has 18 missing', 'Adjusted savings: particulate emission damage (current US$) has 18 missing', 'Adolescent fertility rate (births per 1,000 women ages 15-19) has 1 missing', 'Adolescents out of school (% of lower secondary school age) has 18 missing', 'Adolescents out of school, female (% of female lower secondary school age) has 25 missing', 'Adolescents out of school, male (% of male lower secondary school age) has 25 missing', 'Agricultural land (% of land area) has 2 missing', 'Agricultural land (sq. km) has 2 missing', 'Agriculture, forestry, and fishing, value added (% of GDP) has 17 missing', 'Agriculture, forestry, and fishing, value added (annual % growth) has 18 missing', 'Agriculture, forestry, and fishing, value added (constant 2010 US$) has 17 missing', 'Agriculture, forestry, and fishing, value added (constant LCU) has 17 missing', 'Agriculture, forestry, and fishing, value added (current LCU) has 17 missing', 'Agriculture, forestry, and fishing, value added (current US$) has 17 missing', 'Agriculture, forestry, and fishing, value added per worker (constant 2010 US$) has 18 missing', 'All education staff compensation, primary (% of total expenditure in primary public institutions) has 28 missing', 'All education staff compensation, secondary (% of total expenditure in secondary public institutions) has 28 missing', 'All education staff compensation, total (% of total expenditure in public institutions) has 28 missing', 'Alternative and nuclear energy (% of total energy use) has 2 missing', 'Annualized average growth rate in per capita real survey mean consumption or income, bottom 40% of population (%) has 44 missing', 'Annualized average growth rate in per capita real survey mean consumption or income, total population (%) has 44 missing', 'Aquaculture production (metric tons) has 1 missing', 'Arable land (% of land area) has 2 missing', 'Arable land (hectares per person) has 2 missing', 'Arable land (hectares) has 2 missing', 'Armed forces personnel (% of total labor force) has 18 missing', 'Armed forces personnel, total has 16 missing', 'Automated teller machines (ATMs) (per 100,000 adults) has 33 missing', 'Average transaction cost of sending remittances from a specific country (%) has 38 missing', 'Bank capital to assets ratio (%) has 35 missing', 'Bank nonperforming loans to total gross loans (%) has 35 missing', 'Binding coverage, all products (%) has 23 missing', 'Binding coverage, manufactured products (%) has 23 missing', 'Binding coverage, primary products (%) has 23 missing', 'Birth rate, crude (per 1,000 people) has 1 missing', 'Bound rate, simple mean, all products (%) has 23 missing', 'Bound rate, simple mean, manufactured products (%) has 23 missing', 'Bound rate, simple mean, primary products (%) has 23 missing', 'Burden of customs procedure, WEF (1=extremely inefficient to 7=extremely efficient) has 34 missing', 'Business extent of disclosure index (0=less disclosure to 10=more disclosure) has 32 missing', 'Capture fisheries production (metric tons) has 1 missing', 'Cause of death, by communicable diseases and maternal, prenatal and nutrition conditions (% of total) has 41 missing', 'Cause of death, by injury (% of total) has 41 missing', 'Cause of death, by non-communicable diseases (% of total) has 41 missing', 'Central government debt, total (% of GDP) has 18 missing', 'Central government debt, total (current LCU) has 18 missing', 'Cereal production (metric tons) has 1 missing', 'Cereal yield (kg per hectare) has 1 missing', 'Changes in inventories (current LCU) has 17 missing', 'Changes in inventories (current US$) has 17 missing', 'Children out of school (% of primary school age) has 7 missing', 'Children out of school, primary has 7 missing', 'Coal rents (% of GDP) has 1 missing', 'Combustible renewables and waste (% of total energy) has 2 missing', 'Compensation of employees (% of expense) has 1 missing', 'Compensation of employees (current LCU) has 1 missing', 'Compulsory education, duration (years) has 26 missing', 'Container port traffic (TEU: 20 foot equivalent units) has 27 missing', 'Contributing family workers, female (% of female employment) (modeled ILO estimate) has 18 missing', 'Contributing family workers, male (% of male employment) (modeled ILO estimate) has 18 missing', 'Contributing family workers, total (% of total employment) (modeled ILO estimate) has 18 missing', 'Cost of business start-up procedures (% of GNI per capita) has 30 missing', 'Cost of business start-up procedures, female (% of GNI per capita) has 30 missing', 'Cost of business start-up procedures, male (% of GNI per capita) has 30 missing', 'Cost to export, border compliance (US$) has 41 missing', 'Cost to export, documentary compliance (US$) has 41 missing', 'Cost to import, border compliance (US$) has 41 missing', 'Cost to import, documentary compliance (US$) has 41 missing', 'Crop production index (2004-2006 = 100) has 1 missing', 'Current education expenditure, primary (% of total expenditure in primary public institutions) has 28 missing', 'Current education expenditure, secondary (% of total expenditure in secondary public institutions) has 28 missing', 'Current education expenditure, total (% of total expenditure in public institutions) has 28 missing', 'Current health expenditure (% of GDP) has 29 missing', 'Current health expenditure per capita (current US$) has 29 missing', 'Current health expenditure per capita, PPP (current international $) has 29 missing', 'Death rate, crude (per 1,000 people) has 1 missing', 'Depth of credit information index (0=low to 8=high) has 40 missing', 'Distance to frontier score (0=lowest performance to 100=frontier) has 42 missing', 'Domestic general government health expenditure (% of current health expenditure) has 29 missing', 'Domestic general government health expenditure (% of GDP) has 29 missing', 'Domestic general government health expenditure (% of general government expenditure) has 29 missing', 'Domestic general government health expenditure per capita (current US$) has 29 missing', 'Domestic general government health expenditure per capita, PPP (current international $) has 29 missing', 'Domestic private health expenditure (% of current health expenditure) has 29 missing', 'Domestic private health expenditure per capita (current US$) has 29 missing', 'Domestic private health expenditure per capita, PPP  (current international $) has 29 missing', 'Electricity production from coal sources (% of total) has 2 missing', 'Electricity production from hydroelectric sources (% of total) has 2 missing', 'Electricity production from natural gas sources (% of total) has 2 missing', 'Electricity production from nuclear sources (% of total) has 2 missing', 'Electricity production from oil sources (% of total) has 2 missing', 'Electricity production from oil, gas and coal sources (% of total) has 2 missing', 'Electricity production from renewable sources, excluding hydroelectric (% of total) has 2 missing', 'Electricity production from renewable sources, excluding hydroelectric (kWh) has 2 missing', 'Employers, female (% of female employment) (modeled ILO estimate) has 18 missing', 'Employers, male (% of male employment) (modeled ILO estimate) has 18 missing', 'Employers, total (% of total employment) (modeled ILO estimate) has 18 missing', 'Employment in agriculture (% of total employment) (modeled ILO estimate) has 18 missing', 'Employment in agriculture, female (% of female employment) (modeled ILO estimate) has 18 missing', 'Employment in agriculture, male (% of male employment) (modeled ILO estimate) has 18 missing', 'Employment in industry (% of total employment) (modeled ILO estimate) has 18 missing', 'Employment in industry, female (% of female employment) (modeled ILO estimate) has 18 missing', 'Employment in industry, male (% of male employment) (modeled ILO estimate) has 18 missing', 'Employment in services (% of total employment) (modeled ILO estimate) has 18 missing', 'Employment in services, female (% of female employment) (modeled ILO estimate) has 18 missing', 'Employment in services, male (% of male employment) (modeled ILO estimate) has 18 missing', 'Employment to population ratio, 15+, female (%) (modeled ILO estimate) has 18 missing', 'Employment to population ratio, 15+, female (%) (national estimate) has 7 missing', 'Employment to population ratio, 15+, male (%) (modeled ILO estimate) has 18 missing', 'Employment to population ratio, 15+, male (%) (national estimate) has 7 missing', 'Employment to population ratio, 15+, total (%) (modeled ILO estimate) has 18 missing', 'Employment to population ratio, 15+, total (%) (national estimate) has 7 missing', 'Employment to population ratio, ages 15-24, female (%) (modeled ILO estimate) has 18 missing', 'Employment to population ratio, ages 15-24, female (%) (national estimate) has 10 missing', 'Employment to population ratio, ages 15-24, male (%) (modeled ILO estimate) has 18 missing', 'Employment to population ratio, ages 15-24, male (%) (national estimate) has 10 missing', 'Employment to population ratio, ages 15-24, total (%) (modeled ILO estimate) has 18 missing', 'Employment to population ratio, ages 15-24, total (%) (national estimate) has 10 missing', 'Energy imports, net (% of energy use) has 2 missing', 'Energy intensity level of primary energy (MJ/$2011 PPP GDP) has 19 missing', 'Energy use (kg of oil equivalent per capita) has 2 missing', 'Energy use (kg of oil equivalent) per $1,000 GDP (constant 2011 PPP) has 19 missing', 'Expenditure on primary education (% of government expenditure on education) has 7 missing', 'Expenditure on secondary education (% of government expenditure on education) has 7 missing', 'Expenditure on tertiary education (% of government expenditure on education) has 7 missing', 'Expense (% of GDP) has 1 missing', 'Expense (current LCU) has 1 missing', 'Export unit value index (2000 = 100) has 28 missing', 'Export value index (2000 = 100) has 23 missing', 'Export volume index (2000 = 100) has 28 missing', 'External health expenditure (% of current health expenditure) has 42 missing', 'External health expenditure per capita (current US$) has 42 missing', 'External health expenditure per capita, PPP (current international $) has 42 missing', 'Female share of employment in senior and middle management (%) has 38 missing', 'Fertility rate, total (births per woman) has 1 missing', 'Fertilizer consumption (kilograms per hectare of arable land) has 31 missing', 'Fixed broadband subscriptions has 27 missing', 'Fixed broadband subscriptions (per 100 people) has 27 missing', 'Fixed telephone subscriptions has 2 missing', 'Fixed telephone subscriptions (per 100 people) has 2 missing', 'Food production index (2004-2006 = 100) has 1 missing', 'Forest area (% of land area) has 19 missing', 'Forest area (sq. km) has 19 missing', 'Forest rents (% of GDP) has 1 missing', 'Fossil fuel energy consumption (% of total) has 2 missing', 'GDP deflator: linked series (base year varies by country) has 16 missing', 'GDP per capita, PPP (constant 2011 international $) has 17 missing', 'GDP per capita, PPP (current international $) has 17 missing', 'GDP per person employed (constant 2011 PPP $) has 18 missing', 'GDP per unit of energy use (constant 2011 PPP $ per kg of oil equivalent) has 19 missing', 'GDP per unit of energy use (PPP $ per kg of oil equivalent) has 19 missing', 'GDP, PPP (constant 2011 international $) has 17 missing', 'GDP, PPP (current international $) has 17 missing', 'GDP: linked series (current LCU) has 16 missing', 'GINI index (World Bank estimate) has 33 missing', 'GNI (constant 2010 US$) has 1 missing', 'GNI (constant LCU) has 1 missing', 'GNI growth (annual %) has 1 missing', 'GNI per capita (constant 2010 US$) has 1 missing', 'GNI per capita (constant LCU) has 1 missing', 'GNI per capita growth (annual %) has 1 missing', 'GNI per capita, PPP (constant 2011 international $) has 18 missing', 'GNI per capita, PPP (current international $) has 17 missing', 'GNI, PPP (constant 2011 international $) has 18 missing', 'GNI, PPP (current international $) has 17 missing', 'Goods and services expense (% of expense) has 1 missing', 'Goods and services expense (current LCU) has 1 missing', 'Government expenditure on education, total (% of GDP) has 7 missing', 'Government expenditure on education, total (% of government expenditure) has 13 missing', 'Government expenditure per student, primary (% of GDP per capita) has 28 missing', 'Government expenditure per student, secondary (% of GDP per capita) has 28 missing', 'Government expenditure per student, tertiary (% of GDP per capita) has 28 missing', 'Grants and other revenue (% of revenue) has 1 missing', 'Grants and other revenue (current LCU) has 1 missing', 'Gross intake ratio in first grade of primary education, female (% of relevant age group) has 44 missing', 'Gross intake ratio in first grade of primary education, male (% of relevant age group) has 44 missing', 'Gross intake ratio in first grade of primary education, total (% of relevant age group) has 44 missing', 'High-technology exports (% of manufactured exports) has 16 missing', 'High-technology exports (current US$) has 16 missing', 'Households and NPISHs Final consumption expenditure, PPP (constant 2011 international $) has 17 missing', 'Households and NPISHs Final consumption expenditure, PPP (current international $) has 17 missing', 'ICT goods exports (% of total goods exports) has 28 missing', 'ICT goods imports (% total goods imports) has 28 missing', 'ICT service exports (% of service exports, BoP) has 17 missing', 'ICT service exports (BoP, current US$) has 17 missing', 'Immunization, DPT (% of children ages 12-23 months) has 17 missing', 'Immunization, measles (% of children ages 12-23 months) has 7 missing', 'Import unit value index (2000 = 100) has 28 missing', 'Import value index (2000 = 100) has 23 missing', 'Import volume index (2000 = 100) has 28 missing', 'Incidence of tuberculosis (per 100,000 people) has 28 missing', 'Income share held by fourth 20% has 33 missing', 'Income share held by highest 10% has 33 missing', 'Income share held by highest 20% has 33 missing', 'Income share held by lowest 10% has 33 missing', 'Income share held by lowest 20% has 33 missing', 'Income share held by second 20% has 33 missing', 'Income share held by third 20% has 33 missing', 'Individuals using the Internet (% of population) has 18 missing', 'Industrial design applications, nonresident, by count has 39 missing', 'Industrial design applications, resident, by count has 39 missing', 'Industry (including construction), value added (% of GDP) has 17 missing', 'Industry (including construction), value added (annual % growth) has 18 missing', 'Industry (including construction), value added (constant 2010 US$) has 17 missing', 'Industry (including construction), value added (constant LCU) has 17 missing', 'Industry (including construction), value added (current LCU) has 17 missing', 'Industry (including construction), value added (current US$) has 17 missing', 'Industry (including construction), value added per worker (constant 2010 US$) has 18 missing', 'Inflation, consumer prices (annual %) has 17 missing', 'Inflation, GDP deflator: linked series (annual %) has 17 missing', 'Insurance and financial services (% of commercial service exports) has 2 missing', 'Insurance and financial services (% of commercial service imports) has 2 missing', 'Insurance and financial services (% of service exports, BoP) has 2 missing', 'Insurance and financial services (% of service imports, BoP) has 2 missing', 'Intentional homicides (per 100,000 people) has 23 missing', 'Intentional homicides, female (per 100,000 female) has 33 missing', 'Intentional homicides, male (per 100,000 male) has 33 missing', 'Interest payments (% of expense) has 1 missing', 'Interest payments (% of revenue) has 1 missing', 'Interest payments (current LCU) has 1 missing', 'Internally displaced persons, new displacement associated with disasters (number of cases) has 39 missing', 'International migrant stock (% of population) has 39 missing', 'International migrant stock, total has 36 missing', 'International tourism, expenditures (% of total imports) has 23 missing', 'International tourism, expenditures (current US$) has 23 missing', 'International tourism, expenditures for passenger transport items (current US$) has 23 missing', 'International tourism, expenditures for travel items (current US$) has 23 missing', 'International tourism, number of arrivals has 23 missing', 'International tourism, number of departures has 23 missing', 'International tourism, receipts (% of total exports) has 23 missing', 'International tourism, receipts (current US$) has 23 missing', 'International tourism, receipts for passenger transport items (current US$) has 23 missing', 'International tourism, receipts for travel items (current US$) has 23 missing', 'Labor force participation rate for ages 15-24, female (%) (modeled ILO estimate) has 17 missing', 'Labor force participation rate for ages 15-24, female (%) (national estimate) has 9 missing', 'Labor force participation rate for ages 15-24, male (%) (modeled ILO estimate) has 17 missing', 'Labor force participation rate for ages 15-24, male (%) (national estimate) has 9 missing', 'Labor force participation rate for ages 15-24, total (%) (modeled ILO estimate) has 17 missing', 'Labor force participation rate for ages 15-24, total (%) (national estimate) has 9 missing', 'Labor force participation rate, female (% of female population ages 15+) (modeled ILO estimate) has 17 missing', 'Labor force participation rate, female (% of female population ages 15+) (national estimate) has 6 missing', 'Labor force participation rate, female (% of female population ages 15-64) (modeled ILO estimate) has 17 missing', 'Labor force participation rate, male (% of male population ages 15+) (modeled ILO estimate) has 17 missing', 'Labor force participation rate, male (% of male population ages 15+) (national estimate) has 6 missing', 'Labor force participation rate, male (% of male population ages 15-64) (modeled ILO estimate) has 17 missing', 'Labor force participation rate, total (% of total population ages 15+) (modeled ILO estimate) has 17 missing', 'Labor force participation rate, total (% of total population ages 15+) (national estimate) has 6 missing', 'Labor force participation rate, total (% of total population ages 15-64) (modeled ILO estimate) has 17 missing', 'Labor force with advanced education (% of total working-age population with advanced education) has 20 missing', 'Labor force with advanced education, female (% of female working-age population with advanced education) has 20 missing', 'Labor force with advanced education, male (% of male working-age population with advanced education) has 20 missing', 'Labor force with basic education (% of total working-age population with basic education) has 20 missing', 'Labor force with basic education, female (% of female working-age population with basic education) has 20 missing', 'Labor force with basic education, male (% of male working-age population with basic education) has 20 missing', 'Labor force with intermediate education (% of total working-age population with intermediate education) has 20 missing', 'Labor force with intermediate education, female (% of female working-age population with intermediate education) has 20 missing', 'Labor force with intermediate education, male (% of male working-age population with intermediate education) has 20 missing', 'Labor force, female (% of total labor force) has 17 missing', 'Labor force, total has 17 missing', 'Labor tax and contributions (% of commercial profits) has 32 missing', 'Land under cereal production (hectares) has 1 missing', 'Law mandates equal remuneration for females and males for work of equal value (1=yes; 0=no) has 42 missing', 'Law mandates nondiscrimination based on gender in hiring (1=yes; 0=no) has 40 missing', 'Law mandates paid or unpaid maternity leave (1=yes; 0=no) has 40 missing', 'Law prohibits or invalidates child or early marriage (1=yes; 0=no) has 43 missing', 'Legislation exists on domestic violence (1=yes; 0=no) has 42 missing', 'Life expectancy at birth, female (years) has 1 missing', 'Life expectancy at birth, male (years) has 1 missing', 'Life expectancy at birth, total (years) has 1 missing', 'Lifetime risk of maternal death (%) has 19 missing', 'Lifetime risk of maternal death (1 in: rate varies by country) has 19 missing', 'Liner shipping connectivity index (maximum value in 2004 = 100) has 32 missing', 'Livestock production index (2004-2006 = 100) has 1 missing', 'Lower secondary completion rate, female (% of relevant age group) has 44 missing', 'Lower secondary completion rate, male (% of relevant age group) has 44 missing', 'Lower secondary completion rate, total (% of relevant age group) has 44 missing', 'Manufacturing, value added (% of GDP) has 17 missing', 'Manufacturing, value added (annual % growth) has 18 missing', 'Manufacturing, value added (constant 2010 US$) has 17 missing', 'Manufacturing, value added (constant LCU) has 17 missing', 'Manufacturing, value added (current LCU) has 17 missing', 'Manufacturing, value added (current US$) has 17 missing', 'Maternal mortality ratio (modeled estimate, per 100,000 live births) has 19 missing', 'Medium and high-tech exports (% manufactured exports) has 19 missing', 'Medium and high-tech Industry (including construction) (% manufacturing value added) has 19 missing', 'Merchandise exports by the reporting economy (current US$) has 1 missing', 'Merchandise exports by the reporting economy, residual (% of total merchandise exports) has 1 missing', 'Merchandise exports to economies in the Arab World (% of total merchandise exports) has 1 missing', 'Merchandise exports to high-income economies (% of total merchandise exports) has 1 missing', 'Merchandise exports to low- and middle-income economies in East Asia & Pacific (% of total merchandise exports) has 1 missing', 'Merchandise exports to low- and middle-income economies in Europe & Central Asia (% of total merchandise exports) has 1 missing', 'Merchandise exports to low- and middle-income economies in Latin America & the Caribbean (% of total merchandise exports) has 1 missing', 'Merchandise exports to low- and middle-income economies in Middle East & North Africa (% of total merchandise exports) has 1 missing', 'Merchandise exports to low- and middle-income economies in South Asia (% of total merchandise exports) has 1 missing', 'Merchandise exports to low- and middle-income economies in Sub-Saharan Africa (% of total merchandise exports) has 1 missing', 'Merchandise exports to low- and middle-income economies outside region (% of total merchandise exports) has 1 missing', 'Merchandise imports by the reporting economy (current US$) has 1 missing', 'Merchandise imports by the reporting economy, residual (% of total merchandise imports) has 1 missing', 'Merchandise imports from economies in the Arab World (% of total merchandise imports) has 1 missing', 'Merchandise imports from high-income economies (% of total merchandise imports) has 1 missing', 'Merchandise imports from low- and middle-income economies in East Asia & Pacific (% of total merchandise imports) has 1 missing', 'Merchandise imports from low- and middle-income economies in Europe & Central Asia (% of total merchandise imports) has 1 missing', 'Merchandise imports from low- and middle-income economies in Latin America & the Caribbean (% of total merchandise imports) has 1 missing', 'Merchandise imports from low- and middle-income economies in Middle East & North Africa (% of total merchandise imports) has 1 missing', 'Merchandise imports from low- and middle-income economies in South Asia (% of total merchandise imports) has 1 missing', 'Merchandise imports from low- and middle-income economies in Sub-Saharan Africa (% of total merchandise imports) has 1 missing', 'Merchandise imports from low- and middle-income economies outside region (% of total merchandise imports) has 1 missing', 'Military expenditure (% of central government expenditure) has 15 missing', 'Mineral rents (% of GDP) has 1 missing', 'Mobile cellular subscriptions has 2 missing', 'Mobile cellular subscriptions (per 100 people) has 2 missing', 'Mortality caused by road traffic injury (per 100,000 people) has 41 missing', 'Mortality from CVD, cancer, diabetes or CRD between exact ages 30 and 70 (%) has 40 missing', 'Mortality rate attributed to unintentional poisoning  (per 100,000 population) has 40 missing', 'Mortality rate attributed to unintentional poisoning, female (per 100,000 female population) has 40 missing', 'Mortality rate attributed to unintentional poisoning, male (per 100,000 male population) has 40 missing', 'Mortality rate, infant, female (per 1,000 live births) has 40 missing', 'Mortality rate, infant, male (per 1,000 live births) has 40 missing', 'Mortality rate, under-5, female (per 1,000 live births) has 40 missing', 'Mortality rate, under-5, male (per 1,000 live births) has 40 missing', 'Mothers are guaranteed an equivalent position after maternity leave (1=yes; 0=no) has 40 missing', 'Natural gas rents (% of GDP) has 1 missing', 'Net acquisition of financial assets (% of GDP) has 18 missing', 'Net acquisition of financial assets (current LCU) has 18 missing', 'Net barter terms of trade index (2000 = 100) has 28 missing', 'Net capital account (BoP, current US$) has 3 missing', 'Net incurrence of liabilities, total (% of GDP) has 1 missing', 'Net incurrence of liabilities, total (current LCU) has 1 missing', 'Net intake rate in grade 1 (% of official school-age population) has 44 missing', 'Net intake rate in grade 1, female (% of official school-age population) has 44 missing', 'Net intake rate in grade 1, male (% of official school-age population) has 44 missing', 'Net investment in nonfinancial assets (% of GDP) has 1 missing', 'Net investment in nonfinancial assets (current LCU) has 1 missing', 'Net lending (+) / net borrowing (-) (% of GDP) has 1 missing', 'Net lending (+) / net borrowing (-) (current LCU) has 1 missing', 'Net ODA provided to the least developed countries (% of GNI) has 1 missing', 'Net ODA provided, to the least developed countries (current US$) has 1 missing', 'Net ODA provided, total (% of GNI) has 1 missing', 'Net ODA provided, total (constant 2015 US$) has 1 missing', 'Net ODA provided, total (current US$) has 1 missing', 'Net primary income (Net income from abroad) (constant LCU) has 28 missing', 'Net primary income (Net income from abroad) (current LCU) has 1 missing', 'Net primary income (Net income from abroad) (current US$) has 1 missing', 'Net secondary income (Net current transfers from abroad) (current LCU) has 12 missing', 'Net secondary income (Net current transfers from abroad) (current US$) has 12 missing', 'New business density (new registrations per 1,000 people ages 15-64) has 34 missing', 'New businesses registered (number) has 34 missing', 'Nonpregnant and nonnursing women can do the same jobs as men (1=yes; 0=no) has 40 missing', 'Number of deaths ages 5-14 years has 40 missing', 'Number of maternal deaths has 19 missing', 'Nurses and midwives (per 1,000 people) has 36 missing', 'Oil rents (% of GDP) has 1 missing', 'Other expense (% of expense) has 18 missing', 'Other expense (current LCU) has 18 missing', 'Other taxes (% of revenue) has 1 missing', 'Other taxes (current LCU) has 1 missing', 'Other taxes payable by businesses (% of commercial profits) has 32 missing', 'Out-of-pocket expenditure (% of current health expenditure) has 29 missing', 'Out-of-pocket expenditure per capita (current US$) has 29 missing', 'Out-of-pocket expenditure per capita, PPP (current international $) has 29 missing', 'Over-age students, primary (% of enrollment) has 16 missing', 'Over-age students, primary, female (% of female enrollment) has 16 missing', 'Over-age students, primary, male (% of male enrollment) has 16 missing', 'Part time employment, female (% of total female employment) has 10 missing', 'Part time employment, male (% of total male employment) has 10 missing', 'Part time employment, total (% of total employment) has 10 missing', 'Patent applications, nonresidents has 1 missing', 'Patent applications, residents has 1 missing', 'People practicing open defecation (% of population) has 29 missing', 'People practicing open defecation, rural (% of rural population) has 29 missing', 'People practicing open defecation, urban (% of urban population) has 29 missing', 'People using at least basic drinking water services (% of population) has 29 missing', 'People using at least basic drinking water services, rural (% of rural population) has 29 missing', 'People using at least basic drinking water services, urban (% of urban population) has 29 missing', 'People using at least basic sanitation services (% of population) has 29 missing', 'People using at least basic sanitation services, rural (% of rural population) has 29 missing', 'People using at least basic sanitation services, urban  (% of urban population) has 29 missing', 'People using safely managed drinking water services (% of population) has 29 missing', 'People using safely managed sanitation services (% of population) has 29 missing', 'People using safely managed sanitation services, rural (% of rural population) has 29 missing', 'People using safely managed sanitation services, urban  (% of urban population) has 29 missing', 'Permanent cropland (% of land area) has 2 missing', 'Personal remittances, paid (current US$) has 14 missing', 'Personal remittances, received (% of GDP) has 14 missing', 'Personal remittances, received (current US$) has 14 missing', 'Personal transfers, receipts (BoP, current US$) has 15 missing', 'Physicians (per 1,000 people) has 7 missing', 'PM2.5 air pollution, mean annual exposure (micrograms per cubic meter) has 34 missing', 'PM2.5 air pollution, population exposed to levels exceeding WHO guideline value (% of total) has 34 missing', 'PM2.5 pollution, population exposed to levels exceeding WHO Interim Target-1 value (% of total) has 34 missing', 'PM2.5 pollution, population exposed to levels exceeding WHO Interim Target-2 value (% of total) has 34 missing', 'PM2.5 pollution, population exposed to levels exceeding WHO Interim Target-3 value (% of total) has 34 missing', 'Poverty gap at $1.90 a day (2011 PPP) (%) has 33 missing', 'Poverty gap at $3.20 a day (2011 PPP) (%) has 33 missing', 'Poverty gap at $5.50 a day (2011 PPP) (%) has 33 missing', 'Poverty headcount ratio at $1.90 a day (2011 PPP) (% of population) has 33 missing', 'Poverty headcount ratio at $3.20 a day (2011 PPP) (% of population) has 33 missing', 'Poverty headcount ratio at $5.50 a day (2011 PPP) (% of population) has 33 missing', 'PPP conversion factor, GDP (LCU per international $) has 17 missing', 'PPP conversion factor, private consumption (LCU per international $) has 17 missing', 'Prevalence of anemia among children (% of children under 5) has 18 missing', 'Prevalence of anemia among non-pregnant women (% of women ages 15-49) has 18 missing', 'Prevalence of anemia among pregnant women (%) has 18 missing', 'Prevalence of anemia among women of reproductive age (% of women ages 15-49) has 18 missing', 'Prevalence of undernourishment (% of population) has 29 missing', 'Price level ratio of PPP conversion factor (GDP) to market exchange rate has 17 missing', 'Primary completion rate, female (% of relevant age group) has 44 missing', 'Primary completion rate, male (% of relevant age group) has 44 missing', 'Primary completion rate, total (% of relevant age group) has 44 missing', 'Primary education, pupils has 7 missing', 'Primary education, pupils (% female) has 7 missing', 'Private credit bureau coverage (% of adults) has 31 missing', 'Probability of dying at age 5-14 years (per 1,000 children age 5) has 40 missing', 'Procedures to build a warehouse (number) has 32 missing', 'Procedures to register property (number) has 31 missing', 'Profit tax (% of commercial profits) has 32 missing', 'Proportion of seats held by women in national parliaments (%) has 23 missing', 'Public credit registry coverage (% of adults) has 31 missing', 'Pupil-teacher ratio, secondary has 27 missing', 'Pupil-teacher ratio, tertiary has 13 missing', 'Quality of port infrastructure, WEF (1=extremely underdeveloped to 7=well developed and efficient by international standards) has 34 missing', 'Rail lines (total route-km) has 11 missing', 'Ratio of female to male labor force participation rate (%) (modeled ILO estimate) has 17 missing', 'Ratio of female to male labor force participation rate (%) (national estimate) has 6 missing', 'Refugee population by country or territory of asylum has 18 missing', 'Refugee population by country or territory of origin has 18 missing', 'Renewable electricity output (% of total electricity output) has 19 missing', 'Renewable energy consumption (% of total final energy consumption) has 19 missing', 'Research and development expenditure (% of GDP) has 25 missing', 'Researchers in R&D (per million people) has 25 missing', 'Revenue, excluding grants (% of GDP) has 1 missing', 'Revenue, excluding grants (current LCU) has 1 missing', 'Risk of catastrophic expenditure for surgical care (% of people at risk) has 31 missing', 'Risk of impoverishing expenditure for surgical care (% of people at risk) has 31 missing', 'S&P Global Equity Indices (annual % change) has 17 missing', 'School enrollment, preprimary (% gross) has 16 missing', 'School enrollment, preprimary, female (% gross) has 16 missing', 'School enrollment, preprimary, male (% gross) has 16 missing', 'School enrollment, primary (% gross) has 7 missing', 'School enrollment, primary (% net) has 7 missing', 'School enrollment, primary (gross), gender parity index (GPI) has 7 missing', 'School enrollment, primary and secondary (gross), gender parity index (GPI) has 7 missing', 'School enrollment, primary, female (% gross) has 7 missing', 'School enrollment, primary, male (% gross) has 7 missing', 'School enrollment, primary, private (% of total primary) has 15 missing', 'School enrollment, secondary (% gross) has 2 missing', 'School enrollment, secondary (% net) has 6 missing', 'School enrollment, secondary (gross), gender parity index (GPI) has 2 missing', 'School enrollment, secondary, female (% gross) has 2 missing', 'School enrollment, secondary, female (% net) has 6 missing', 'School enrollment, secondary, male (% gross) has 2 missing', 'School enrollment, secondary, male (% net) has 6 missing', 'School enrollment, secondary, private (% of total secondary) has 28 missing', 'School enrollment, tertiary (% gross) has 2 missing', 'School enrollment, tertiary (gross), gender parity index (GPI) has 2 missing', 'School enrollment, tertiary, female (% gross) has 2 missing', 'School enrollment, tertiary, male (% gross) has 2 missing', 'Scientific and technical journal articles has 31 missing', 'Secondary education, general pupils has 2 missing', 'Secondary education, general pupils (% female) has 2 missing', 'Secondary education, pupils has 2 missing', 'Secondary education, pupils (% female) has 2 missing', 'Secondary education, teachers has 27 missing', 'Secondary education, teachers (% female) has 28 missing', 'Secondary education, teachers, female has 28 missing', 'Secondary education, vocational pupils has 2 missing', 'Secondary education, vocational pupils (% female) has 2 missing', 'Secure Internet servers has 37 missing', 'Secure Internet servers (per 1 million people) has 37 missing', 'Self-employed, female (% of female employment) (modeled ILO estimate) has 18 missing', 'Self-employed, male (% of male employment) (modeled ILO estimate) has 18 missing', 'Self-employed, total (% of total employment) (modeled ILO estimate) has 18 missing', 'Services, value added (% of GDP) has 17 missing', 'Services, value added (annual % growth) has 18 missing', 'Services, value added (constant 2010 US$) has 17 missing', 'Services, value added (constant LCU) has 17 missing', 'Services, value added (current LCU) has 17 missing', 'Services, value added (current US$) has 17 missing', 'Services, value added per worker (constant 2010 US$) has 18 missing', 'Sex ratio at birth (male births per female births) has 27 missing', 'Share of tariff lines with international peaks, all products (%) has 16 missing', 'Share of tariff lines with international peaks, manufactured products (%) has 16 missing', 'Share of tariff lines with international peaks, primary products (%) has 16 missing', 'Share of tariff lines with specific rates, all products (%) has 16 missing', 'Share of tariff lines with specific rates, manufactured products (%) has 16 missing', 'Share of tariff lines with specific rates, primary products (%) has 16 missing', 'Share of youth not in education, employment or training, female (% of female youth population) has 31 missing', 'Share of youth not in education, employment or training, male (% of male youth population) has 31 missing', 'Share of youth not in education, employment or training, total (% of youth population) has 31 missing', 'Smoking prevalence, females (% of adults) has 36 missing', 'Smoking prevalence, males (% of adults) has 36 missing', 'Smoking prevalence, total (ages 15+) has 36 missing', 'Social contributions (% of revenue) has 1 missing', 'Social contributions (current LCU) has 1 missing', 'Specialist surgical workforce (per 100,000 population) has 43 missing', 'Start-up procedures to register a business (number) has 30 missing', 'Start-up procedures to register a business, female (number) has 30 missing', 'Start-up procedures to register a business, male (number) has 30 missing', 'Strength of legal rights index (0=weak to 12=strong) has 40 missing', 'Subsidies and other transfers (% of expense) has 1 missing', 'Subsidies and other transfers (current LCU) has 1 missing', 'Suicide mortality rate (per 100,000 population) has 40 missing', 'Survey mean consumption or income per capita, bottom 40% of population (2011 PPP $ per day) has 43 missing', 'Survey mean consumption or income per capita, total population (2011 PPP $ per day) has 43 missing', 'Survival to age 65, female (% of cohort) has 1 missing', 'Survival to age 65, male (% of cohort) has 1 missing', 'Tariff rate, applied, simple mean, all products (%) has 16 missing', 'Tariff rate, applied, simple mean, manufactured products (%) has 16 missing', 'Tariff rate, applied, simple mean, primary products (%) has 16 missing', 'Tariff rate, applied, weighted mean, all products (%) has 16 missing', 'Tariff rate, applied, weighted mean, manufactured products (%) has 16 missing', 'Tariff rate, applied, weighted mean, primary products (%) has 16 missing', 'Tariff rate, most favored nation, simple mean, all products (%) has 16 missing', 'Tariff rate, most favored nation, simple mean, manufactured products (%) has 16 missing', 'Tariff rate, most favored nation, simple mean, primary products (%) has 16 missing', 'Tariff rate, most favored nation, weighted mean, all products (%) has 16 missing', 'Tariff rate, most favored nation, weighted mean, manufactured products (%) has 16 missing', 'Tariff rate, most favored nation, weighted mean, primary products (%) has 16 missing', 'Tax payments (number) has 32 missing', 'Tax revenue (% of GDP) has 1 missing', 'Tax revenue (current LCU) has 1 missing', 'Taxes on goods and services (% of revenue) has 1 missing', 'Taxes on goods and services (% value added of industry and services) has 18 missing', 'Taxes on goods and services (current LCU) has 1 missing', 'Taxes on income, profits and capital gains (% of revenue) has 1 missing', 'Taxes on income, profits and capital gains (% of total taxes) has 1 missing', 'Taxes on income, profits and capital gains (current LCU) has 1 missing', 'Technicians in R&D (per million people) has 34 missing', 'Tertiary education, academic staff (% female) has 14 missing', 'Time required to build a warehouse (days) has 32 missing', 'Time required to enforce a contract (days) has 30 missing', 'Time required to get electricity (days) has 36 missing', 'Time required to register property (days) has 31 missing', 'Time required to start a business (days) has 30 missing', 'Time required to start a business, female (days) has 30 missing', 'Time required to start a business, male (days) has 30 missing', 'Time to export, border compliance (hours) has 41 missing', 'Time to export, documentary compliance (hours) has 41 missing', 'Time to import, border compliance (hours) has 41 missing', 'Time to import, documentary compliance (hours) has 41 missing', 'Time to prepare and pay taxes (hours) has 32 missing', 'Time to resolve insolvency (years) has 30 missing', 'Total fisheries production (metric tons) has 1 missing', 'Total natural resources rents (% of GDP) has 1 missing', 'Total tax rate (% of commercial profits) has 32 missing', 'Trademark applications, direct nonresident has 1 missing', 'Trademark applications, direct resident has 1 missing', 'Trademark applications, nonresident, by count has 32 missing', 'Trademark applications, resident, by count has 32 missing', 'Trademark applications, total has 1 missing', 'Tuberculosis case detection rate (%, all forms) has 28 missing', 'Tuberculosis treatment success rate (% of new cases) has 30 missing', 'UHC service coverage index has 44 missing', 'Unemployment with advanced education (% of total labor force with advanced education) has 25 missing', 'Unemployment with advanced education, female (% of female labor force with advanced education) has 25 missing', 'Unemployment with advanced education, male (% of male labor force with advanced education) has 25 missing', 'Unemployment with basic education (% of total labor force with basic education) has 25 missing', 'Unemployment with basic education, female (% of female labor force with basic education) has 25 missing', 'Unemployment with basic education, male (% of male labor force with basic education) has 25 missing', 'Unemployment with intermediate education (% of total labor force with intermediate education) has 25 missing', 'Unemployment with intermediate education, female (% of female labor force with intermediate education) has 25 missing', 'Unemployment with intermediate education, male (% of male labor force with intermediate education) has 25 missing', 'Unemployment, female (% of female labor force) (modeled ILO estimate) has 18 missing', 'Unemployment, female (% of female labor force) (national estimate) has 22 missing', 'Unemployment, male (% of male labor force) (modeled ILO estimate) has 18 missing', 'Unemployment, male (% of male labor force) (national estimate) has 22 missing', 'Unemployment, total (% of total labor force) (modeled ILO estimate) has 18 missing', 'Unemployment, total (% of total labor force) (national estimate) has 25 missing', 'Unemployment, youth female (% of female labor force ages 15-24) (modeled ILO estimate) has 18 missing', 'Unemployment, youth female (% of female labor force ages 15-24) (national estimate) has 10 missing', 'Unemployment, youth male (% of male labor force ages 15-24) (modeled ILO estimate) has 18 missing', 'Unemployment, youth male (% of male labor force ages 15-24) (national estimate) has 10 missing', 'Unemployment, youth total (% of total labor force ages 15-24) (modeled ILO estimate) has 18 missing', 'Unemployment, youth total (% of total labor force ages 15-24) (national estimate) has 10 missing', 'Vulnerable employment, female (% of female employment) (modeled ILO estimate) has 18 missing', 'Vulnerable employment, male (% of male employment) (modeled ILO estimate) has 18 missing', 'Vulnerable employment, total (% of total employment) (modeled ILO estimate) has 18 missing', 'Wage and salaried workers, female (% of female employment) (modeled ILO estimate) has 18 missing', 'Wage and salaried workers, male (% of male employment) (modeled ILO estimate) has 18 missing', 'Wage and salaried workers, total (% of total employment) (modeled ILO estimate) has 18 missing']\n",
      "\n",
      "\n",
      "611\n"
     ]
    }
   ],
   "source": [
    "import re\n",
    "missing_values = []\n",
    "nonumeric_values = []\n",
    "\n",
    "print (\"DATA SET INFORMATION\")\n",
    "print (\"========================\\n\")\n",
    "\n",
    "for column in df:\n",
    "    # Find all the unique feature values\n",
    "    uniq = df[column].unique()\n",
    "    #print (\"'{}' has {} unique values\" .format(column,uniq.size))\n",
    "    #if (uniq.size > 10):\n",
    "        #print(\"~~Listing up to 10 unique values~~\")\n",
    "    #print (uniq[0:10])\n",
    "    #print (\"\\n-----------------------------------------------------------------------\\n\")\n",
    "    \n",
    "    # Find features with missing values\n",
    "    if (True in pd.isnull(uniq)):\n",
    "        s = \"{} has {} missing\" .format(column, pd.isnull(df[column]).sum())\n",
    "        missing_values.append(s)\n",
    "    \n",
    "    # Find features with non-numeric values\n",
    "    #for i in range (1, np.prod(uniq.shape)):\n",
    "        #if (re.match('nan', str(uniq[i]))):\n",
    "            #break\n",
    "        #if not (re.search('(^\\d+\\.?\\d*$)|(^\\d*\\.?\\d+$)', str(uniq[i]))):\n",
    "            #nonumeric_values.append(column)\n",
    "            #break\n",
    "  \n",
    "#print (\"\\n~~~~~~~~~~~~~~~~~~~~~~~~~~~~~~~~~~~~~~~~~~~~~~~~~~~~~~~~~~~~~~~~~~~~~~~~~~~~~~~~~~~~~\\n\")\n",
    "print (\"Features with missing values:\\n{}\\n\\n\" .format(list(missing_values)))\n",
    "print(len(missing_values))\n",
    "#print (\"Features with non-numeric values:\\n{}\" .format(nonumeric_values))\n",
    "#print (\"\\n~~~~~~~~~~~~~~~~~~~~~~~~~~~~~~~~~~~~~~~~~~~~~~~~~~~~~~~~~~~~~~~~~~~~~~~~~~~~~~~~~~~~~\\n\")\n",
    "\n"
   ]
  },
  {
   "cell_type": "code",
   "execution_count": 6,
   "metadata": {
    "collapsed": true
   },
   "outputs": [],
   "source": [
    "# cols_to_delete = df.columns[df.isnull().sum()/len(df) > .30]\n",
    "# df.drop(cols_to_delete, axis = 1, inplace = True)\n",
    "# df.shape"
   ]
  },
  {
   "cell_type": "markdown",
   "metadata": {},
   "source": [
    "#### Remove the columns with more than 30% missing values "
   ]
  },
  {
   "cell_type": "code",
   "execution_count": 7,
   "metadata": {},
   "outputs": [
    {
     "data": {
      "text/plain": [
       "(45, 467)"
      ]
     },
     "execution_count": 7,
     "metadata": {},
     "output_type": "execute_result"
    }
   ],
   "source": [
    "df = df.loc[:, df.isnull().sum() < 0.30*df.shape[0]]\n",
    "\n",
    "df.shape"
   ]
  },
  {
   "cell_type": "code",
   "execution_count": 8,
   "metadata": {},
   "outputs": [
    {
     "name": "stdout",
     "output_type": "stream",
     "text": [
      "DATA SET INFORMATION\n",
      "========================\n",
      "\n",
      "Features with missing values:\n",
      "['Adjusted net enrollment rate, primary (% of primary school age children) has 7 missing', 'Adjusted net national income (annual % growth) has 1 missing', 'Adjusted net national income (constant 2010 US$) has 1 missing', 'Adjusted net national income (current US$) has 1 missing', 'Adjusted net national income per capita (annual % growth) has 1 missing', 'Adjusted net national income per capita (constant 2010 US$) has 1 missing', 'Adjusted net national income per capita (current US$) has 1 missing', 'Adjusted net savings, excluding particulate emission damage (% of GNI) has 1 missing', 'Adjusted net savings, excluding particulate emission damage (current US$) has 1 missing', 'Adjusted savings: carbon dioxide damage (% of GNI) has 1 missing', 'Adjusted savings: carbon dioxide damage (current US$) has 1 missing', 'Adjusted savings: consumption of fixed capital (% of GNI) has 1 missing', 'Adjusted savings: consumption of fixed capital (current US$) has 1 missing', 'Adjusted savings: education expenditure (% of GNI) has 1 missing', 'Adjusted savings: education expenditure (current US$) has 1 missing', 'Adjusted savings: energy depletion (% of GNI) has 1 missing', 'Adjusted savings: energy depletion (current US$) has 1 missing', 'Adjusted savings: gross savings (% of GNI) has 1 missing', 'Adjusted savings: mineral depletion (% of GNI) has 1 missing', 'Adjusted savings: mineral depletion (current US$) has 1 missing', 'Adjusted savings: natural resources depletion (% of GNI) has 1 missing', 'Adjusted savings: net forest depletion (% of GNI) has 1 missing', 'Adjusted savings: net forest depletion (current US$) has 1 missing', 'Adjusted savings: net national savings (% of GNI) has 1 missing', 'Adjusted savings: net national savings (current US$) has 1 missing', 'Adolescent fertility rate (births per 1,000 women ages 15-19) has 1 missing', 'Agricultural land (% of land area) has 2 missing', 'Agricultural land (sq. km) has 2 missing', 'Alternative and nuclear energy (% of total energy use) has 2 missing', 'Aquaculture production (metric tons) has 1 missing', 'Arable land (% of land area) has 2 missing', 'Arable land (hectares per person) has 2 missing', 'Arable land (hectares) has 2 missing', 'Birth rate, crude (per 1,000 people) has 1 missing', 'Capture fisheries production (metric tons) has 1 missing', 'Cereal production (metric tons) has 1 missing', 'Cereal yield (kg per hectare) has 1 missing', 'Children out of school (% of primary school age) has 7 missing', 'Children out of school, primary has 7 missing', 'Coal rents (% of GDP) has 1 missing', 'Combustible renewables and waste (% of total energy) has 2 missing', 'Compensation of employees (% of expense) has 1 missing', 'Compensation of employees (current LCU) has 1 missing', 'Crop production index (2004-2006 = 100) has 1 missing', 'Death rate, crude (per 1,000 people) has 1 missing', 'Electricity production from coal sources (% of total) has 2 missing', 'Electricity production from hydroelectric sources (% of total) has 2 missing', 'Electricity production from natural gas sources (% of total) has 2 missing', 'Electricity production from nuclear sources (% of total) has 2 missing', 'Electricity production from oil sources (% of total) has 2 missing', 'Electricity production from oil, gas and coal sources (% of total) has 2 missing', 'Electricity production from renewable sources, excluding hydroelectric (% of total) has 2 missing', 'Electricity production from renewable sources, excluding hydroelectric (kWh) has 2 missing', 'Employment to population ratio, 15+, female (%) (national estimate) has 7 missing', 'Employment to population ratio, 15+, male (%) (national estimate) has 7 missing', 'Employment to population ratio, 15+, total (%) (national estimate) has 7 missing', 'Employment to population ratio, ages 15-24, female (%) (national estimate) has 10 missing', 'Employment to population ratio, ages 15-24, male (%) (national estimate) has 10 missing', 'Employment to population ratio, ages 15-24, total (%) (national estimate) has 10 missing', 'Energy imports, net (% of energy use) has 2 missing', 'Energy use (kg of oil equivalent per capita) has 2 missing', 'Expenditure on primary education (% of government expenditure on education) has 7 missing', 'Expenditure on secondary education (% of government expenditure on education) has 7 missing', 'Expenditure on tertiary education (% of government expenditure on education) has 7 missing', 'Expense (% of GDP) has 1 missing', 'Expense (current LCU) has 1 missing', 'Fertility rate, total (births per woman) has 1 missing', 'Fixed telephone subscriptions has 2 missing', 'Fixed telephone subscriptions (per 100 people) has 2 missing', 'Food production index (2004-2006 = 100) has 1 missing', 'Forest rents (% of GDP) has 1 missing', 'Fossil fuel energy consumption (% of total) has 2 missing', 'GNI (constant 2010 US$) has 1 missing', 'GNI (constant LCU) has 1 missing', 'GNI growth (annual %) has 1 missing', 'GNI per capita (constant 2010 US$) has 1 missing', 'GNI per capita (constant LCU) has 1 missing', 'GNI per capita growth (annual %) has 1 missing', 'Goods and services expense (% of expense) has 1 missing', 'Goods and services expense (current LCU) has 1 missing', 'Government expenditure on education, total (% of GDP) has 7 missing', 'Government expenditure on education, total (% of government expenditure) has 13 missing', 'Grants and other revenue (% of revenue) has 1 missing', 'Grants and other revenue (current LCU) has 1 missing', 'Immunization, measles (% of children ages 12-23 months) has 7 missing', 'Insurance and financial services (% of commercial service exports) has 2 missing', 'Insurance and financial services (% of commercial service imports) has 2 missing', 'Insurance and financial services (% of service exports, BoP) has 2 missing', 'Insurance and financial services (% of service imports, BoP) has 2 missing', 'Interest payments (% of expense) has 1 missing', 'Interest payments (% of revenue) has 1 missing', 'Interest payments (current LCU) has 1 missing', 'Labor force participation rate for ages 15-24, female (%) (national estimate) has 9 missing', 'Labor force participation rate for ages 15-24, male (%) (national estimate) has 9 missing', 'Labor force participation rate for ages 15-24, total (%) (national estimate) has 9 missing', 'Labor force participation rate, female (% of female population ages 15+) (national estimate) has 6 missing', 'Labor force participation rate, male (% of male population ages 15+) (national estimate) has 6 missing', 'Labor force participation rate, total (% of total population ages 15+) (national estimate) has 6 missing', 'Land under cereal production (hectares) has 1 missing', 'Life expectancy at birth, female (years) has 1 missing', 'Life expectancy at birth, male (years) has 1 missing', 'Life expectancy at birth, total (years) has 1 missing', 'Livestock production index (2004-2006 = 100) has 1 missing', 'Merchandise exports by the reporting economy (current US$) has 1 missing', 'Merchandise exports by the reporting economy, residual (% of total merchandise exports) has 1 missing', 'Merchandise exports to economies in the Arab World (% of total merchandise exports) has 1 missing', 'Merchandise exports to high-income economies (% of total merchandise exports) has 1 missing', 'Merchandise exports to low- and middle-income economies in East Asia & Pacific (% of total merchandise exports) has 1 missing', 'Merchandise exports to low- and middle-income economies in Europe & Central Asia (% of total merchandise exports) has 1 missing', 'Merchandise exports to low- and middle-income economies in Latin America & the Caribbean (% of total merchandise exports) has 1 missing', 'Merchandise exports to low- and middle-income economies in Middle East & North Africa (% of total merchandise exports) has 1 missing', 'Merchandise exports to low- and middle-income economies in South Asia (% of total merchandise exports) has 1 missing', 'Merchandise exports to low- and middle-income economies in Sub-Saharan Africa (% of total merchandise exports) has 1 missing', 'Merchandise exports to low- and middle-income economies outside region (% of total merchandise exports) has 1 missing', 'Merchandise imports by the reporting economy (current US$) has 1 missing', 'Merchandise imports by the reporting economy, residual (% of total merchandise imports) has 1 missing', 'Merchandise imports from economies in the Arab World (% of total merchandise imports) has 1 missing', 'Merchandise imports from high-income economies (% of total merchandise imports) has 1 missing', 'Merchandise imports from low- and middle-income economies in East Asia & Pacific (% of total merchandise imports) has 1 missing', 'Merchandise imports from low- and middle-income economies in Europe & Central Asia (% of total merchandise imports) has 1 missing', 'Merchandise imports from low- and middle-income economies in Latin America & the Caribbean (% of total merchandise imports) has 1 missing', 'Merchandise imports from low- and middle-income economies in Middle East & North Africa (% of total merchandise imports) has 1 missing', 'Merchandise imports from low- and middle-income economies in South Asia (% of total merchandise imports) has 1 missing', 'Merchandise imports from low- and middle-income economies in Sub-Saharan Africa (% of total merchandise imports) has 1 missing', 'Merchandise imports from low- and middle-income economies outside region (% of total merchandise imports) has 1 missing', 'Mineral rents (% of GDP) has 1 missing', 'Mobile cellular subscriptions has 2 missing', 'Mobile cellular subscriptions (per 100 people) has 2 missing', 'Natural gas rents (% of GDP) has 1 missing', 'Net capital account (BoP, current US$) has 3 missing', 'Net incurrence of liabilities, total (% of GDP) has 1 missing', 'Net incurrence of liabilities, total (current LCU) has 1 missing', 'Net investment in nonfinancial assets (% of GDP) has 1 missing', 'Net investment in nonfinancial assets (current LCU) has 1 missing', 'Net lending (+) / net borrowing (-) (% of GDP) has 1 missing', 'Net lending (+) / net borrowing (-) (current LCU) has 1 missing', 'Net ODA provided to the least developed countries (% of GNI) has 1 missing', 'Net ODA provided, to the least developed countries (current US$) has 1 missing', 'Net ODA provided, total (% of GNI) has 1 missing', 'Net ODA provided, total (constant 2015 US$) has 1 missing', 'Net ODA provided, total (current US$) has 1 missing', 'Net primary income (Net income from abroad) (current LCU) has 1 missing', 'Net primary income (Net income from abroad) (current US$) has 1 missing', 'Net secondary income (Net current transfers from abroad) (current LCU) has 12 missing', 'Net secondary income (Net current transfers from abroad) (current US$) has 12 missing', 'Oil rents (% of GDP) has 1 missing', 'Other taxes (% of revenue) has 1 missing', 'Other taxes (current LCU) has 1 missing', 'Part time employment, female (% of total female employment) has 10 missing', 'Part time employment, male (% of total male employment) has 10 missing', 'Part time employment, total (% of total employment) has 10 missing', 'Patent applications, nonresidents has 1 missing', 'Patent applications, residents has 1 missing', 'Permanent cropland (% of land area) has 2 missing', 'Physicians (per 1,000 people) has 7 missing', 'Primary education, pupils has 7 missing', 'Primary education, pupils (% female) has 7 missing', 'Pupil-teacher ratio, tertiary has 13 missing', 'Rail lines (total route-km) has 11 missing', 'Ratio of female to male labor force participation rate (%) (national estimate) has 6 missing', 'Revenue, excluding grants (% of GDP) has 1 missing', 'Revenue, excluding grants (current LCU) has 1 missing', 'School enrollment, primary (% gross) has 7 missing', 'School enrollment, primary (% net) has 7 missing', 'School enrollment, primary (gross), gender parity index (GPI) has 7 missing', 'School enrollment, primary and secondary (gross), gender parity index (GPI) has 7 missing', 'School enrollment, primary, female (% gross) has 7 missing', 'School enrollment, primary, male (% gross) has 7 missing', 'School enrollment, secondary (% gross) has 2 missing', 'School enrollment, secondary (% net) has 6 missing', 'School enrollment, secondary (gross), gender parity index (GPI) has 2 missing', 'School enrollment, secondary, female (% gross) has 2 missing', 'School enrollment, secondary, female (% net) has 6 missing', 'School enrollment, secondary, male (% gross) has 2 missing', 'School enrollment, secondary, male (% net) has 6 missing', 'School enrollment, tertiary (% gross) has 2 missing', 'School enrollment, tertiary (gross), gender parity index (GPI) has 2 missing', 'School enrollment, tertiary, female (% gross) has 2 missing', 'School enrollment, tertiary, male (% gross) has 2 missing', 'Secondary education, general pupils has 2 missing', 'Secondary education, general pupils (% female) has 2 missing', 'Secondary education, pupils has 2 missing', 'Secondary education, pupils (% female) has 2 missing', 'Secondary education, vocational pupils has 2 missing', 'Secondary education, vocational pupils (% female) has 2 missing', 'Social contributions (% of revenue) has 1 missing', 'Social contributions (current LCU) has 1 missing', 'Subsidies and other transfers (% of expense) has 1 missing', 'Subsidies and other transfers (current LCU) has 1 missing', 'Survival to age 65, female (% of cohort) has 1 missing', 'Survival to age 65, male (% of cohort) has 1 missing', 'Tax revenue (% of GDP) has 1 missing', 'Tax revenue (current LCU) has 1 missing', 'Taxes on goods and services (% of revenue) has 1 missing', 'Taxes on goods and services (current LCU) has 1 missing', 'Taxes on income, profits and capital gains (% of revenue) has 1 missing', 'Taxes on income, profits and capital gains (% of total taxes) has 1 missing', 'Taxes on income, profits and capital gains (current LCU) has 1 missing', 'Total fisheries production (metric tons) has 1 missing', 'Total natural resources rents (% of GDP) has 1 missing', 'Trademark applications, direct nonresident has 1 missing', 'Trademark applications, direct resident has 1 missing', 'Trademark applications, total has 1 missing', 'Unemployment, youth female (% of female labor force ages 15-24) (national estimate) has 10 missing', 'Unemployment, youth male (% of male labor force ages 15-24) (national estimate) has 10 missing', 'Unemployment, youth total (% of total labor force ages 15-24) (national estimate) has 10 missing']\n",
      "\n",
      "\n",
      "206\n"
     ]
    }
   ],
   "source": [
    "import re\n",
    "missing_values = []\n",
    "nonumeric_values = []\n",
    "\n",
    "print (\"DATA SET INFORMATION\")\n",
    "print (\"========================\\n\")\n",
    "\n",
    "for column in df:\n",
    "    # Find all the unique feature values\n",
    "    uniq = df[column].unique()\n",
    "    #print (\"'{}' has {} unique values\" .format(column,uniq.size))\n",
    "    #if (uniq.size > 10):\n",
    "        #print(\"~~Listing up to 10 unique values~~\")\n",
    "    #print (uniq[0:10])\n",
    "    #print (\"\\n-----------------------------------------------------------------------\\n\")\n",
    "    \n",
    "    # Find features with missing values\n",
    "    if (True in pd.isnull(uniq)):\n",
    "        s = \"{} has {} missing\" .format(column, pd.isnull(df[column]).sum())\n",
    "        missing_values.append(s)\n",
    "    \n",
    "    # Find features with non-numeric values\n",
    "    #for i in range (1, np.prod(uniq.shape)):\n",
    "        #if (re.match('nan', str(uniq[i]))):\n",
    "            #break\n",
    "        #if not (re.search('(^\\d+\\.?\\d*$)|(^\\d*\\.?\\d+$)', str(uniq[i]))):\n",
    "            #nonumeric_values.append(column)\n",
    "            #break\n",
    "  \n",
    "#print (\"\\n~~~~~~~~~~~~~~~~~~~~~~~~~~~~~~~~~~~~~~~~~~~~~~~~~~~~~~~~~~~~~~~~~~~~~~~~~~~~~~~~~~~~~\\n\")\n",
    "print (\"Features with missing values:\\n{}\\n\\n\" .format(list(missing_values)))\n",
    "print(len(missing_values))\n",
    "#print (\"Features with non-numeric values:\\n{}\" .format(nonumeric_values))\n",
    "#print (\"\\n~~~~~~~~~~~~~~~~~~~~~~~~~~~~~~~~~~~~~~~~~~~~~~~~~~~~~~~~~~~~~~~~~~~~~~~~~~~~~~~~~~~~~\\n\")\n"
   ]
  },
  {
   "cell_type": "code",
   "execution_count": 11,
   "metadata": {
    "collapsed": true
   },
   "outputs": [],
   "source": [
    "df.to_csv(\"clean_uk.csv\")"
   ]
  },
  {
   "cell_type": "markdown",
   "metadata": {},
   "source": [
    "http://www.economicsonline.co.uk/Global_economics/Economic_development.html\n",
    "\n",
    "The Human Development Index (HDI)\n",
    "The HDI was introduced in 1990 as part of the United Nations Development Programme (UNDP) to provide a means of measuring economic development in three broad areas - per capita income, heath and education. The HDI tracks changes in the level of development of countries over time.\n",
    "\n",
    "Each year, the UNDP produces a development report, which provides an update of changes during the year, along with a report on a special theme, such as global warming and development, and migration and development.\n",
    "\n",
    "The introduction of the index was an explicit acceptance that development is a considerably broader concept than growth, and should include a range of social and economic factors.\n",
    "\n",
    "The HDI has two main features:\n",
    "A scale from 0 (no development) to 1 (complete development).\n",
    "\n",
    "An index, which is based on three equally weighted components:\n",
    "\n",
    "Longevity, measured by life expectancy at birth\n",
    "Knowledge,  measured by adult literacy and number of years children are enrolled at school\n",
    "Standard of living,  measured by real GDP per capita at purchasing power parity\n",
    "What the figures mean:\n",
    "An index of 0 – 0.49 means low development - for example, Nigeria was 0.42 in 2010.\n",
    "\n",
    "An index of 0.5 – 0.69 means medium development – for example, Indonesia was 0.6. 3.\n",
    "\n",
    "An index of 0.7 to 0.79 means high development – for example, Romania was 0.76. 4.\n",
    "\n",
    "Above 0.8 means very high development – Finland was 0.87 in 2010.\n",
    "\n",
    "The HDI is a very useful means of comparing the level of development of countries. GDP per capita alone is clearly too narrow an indicator of economic development and fails to indicate other aspects of development, such as enrolment in school and longevity. Hence, the HDI is a broader and more encompassing indicator of development than GDP, though GDP still provides one third of the index.\n",
    "\n",
    "Life expectancy\n",
    "A variety of factors may contribute to differences in life expectancy, including:\n",
    "\n",
    "The stability of food supplies\n",
    "\n",
    "War\n",
    "\n",
    "The incidence of disease and natural disasters\n",
    "\n",
    "According to World Bank figures, life expectancy at birth in developing countries over the past 40 years has increased by 20 years. However, these increases were not evenly distributed. Indeed, in many countries in sub-Saharan Africa, life expectancy is falling due to the AIDS epidemic.\n",
    "\n",
    "Adult literacy\n",
    "The percentage of those aged 15 and above who are able to read and write a simple statement on their everyday life.\n",
    "\n",
    "More extensive definitions of literacy include those based on the International Adult Literacy Survey. This survey tests the ability to understand text, interpret documents and perform basic arithmetic.\n",
    "\n",
    "GDP per capita\n",
    "GDP per capita is the commonest indicator of material standards of living, and hence is included in the index of development. GDP per capita It is found by measuring Gross Domestic Product in a year, and dividing it by the population."
   ]
  },
  {
   "cell_type": "markdown",
   "metadata": {},
   "source": [
    "https://www.bbc.com/bitesize/guides/zs7wrdm/revision/3\n",
    "    \n",
    "### Economic development indicators\n",
    "To assess the economic development of a country, geographers use economic indicators including:\n",
    "\n",
    "* Gross Domestic Product (GDP) is the total value of goods and services produced by a country in a year.\n",
    "* Gross National Product (GNP) measures the total economic output of a country, including earnings from foreign investments.\n",
    "* GNP per capita is a country's GNP divided by its population. (Per capita means per person.)\n",
    "* Economic growth measures the annual increase in GDP, GNP, GDP per capita, or GNP per capita.\n",
    "* Inequality of wealth is the gap in income between a country's richest and poorest people. It can be measured in many ways, (eg the proportion of a country's wealth owned by the richest 10 per cent of the population, compared with the proportion owned by the remaining 90 per cent).\n",
    "* Inflation measures how much the prices of goods, services and wages increase each year. High inflation (above a few percent) can be a bad thing, and suggests a government lacks control over the economy.\n",
    "* Unemployment is the number of people who cannot find work.\n",
    "* Economic structure shows the division of a country's economy between primary, secondary and tertiary industries.\n",
    "* Demographics study population growth and structure. It compares birth rates to death rates, life expectancy and urban and rural ratios. Many LEDCs have a younger, faster-growing population than MEDCs, with more people living in the countryside than in towns. The birth rate in the UK is 11 per 1,000, whereas in Kenya it is 40.\n",
    "\n",
    "\n",
    "### Human development indicators\n",
    "Development often takes place in an uneven way. A country may have a very high GDP - derived, for example, from the exploitation of rich oil reserves - while segments of the population live in poverty and lack access to basic education, health and decent housing.\n",
    "\n",
    "Hence the importance of human development indicators, measuring the non-economic aspects of a country's development.\n",
    "\n",
    "###### Human development indicators include:\n",
    "\n",
    "* Life expectancy - the average age to which a person lives, eg this is 79 in the UK and 48 in Kenya.\n",
    "* Infant mortality rate - counts the number of babies, per 1000 live births, who die under the age of one. This is 5 in the UK and 61 in Kenya.\n",
    "* Poverty - indices count the percentage of people living below the poverty level, or on very small incomes (eg under £1 per day).\n",
    "* Access to basic services - the availability of services necessary for a healthy life, such as clean water and sanitation.\n",
    "* Access to healthcare - takes into account statistics such as how many doctors there are for every patient.\n",
    "* Risk of disease - calculates the percentage of people with diseases such as AIDS, malaria and tuberculosis.\n",
    "* Access to education - measures how many people attend primary school, secondary school and higher education.\n",
    "* Literacy rate - is the percentage of adults who can read and write. This is 99 per cent in the UK, 85 per cent in Kenya and 60 per cent in India.\n",
    "* Access to technology - includes statistics such as the percentage of people with access to phones, mobile phones, television and the internet.\n",
    "* Male/female equality - compares statistics such as the literacy rates and employment between the sexes.\n",
    "* Government spending priorities - compares health and education expenditure with military expenditure and paying off debts."
   ]
  },
  {
   "cell_type": "markdown",
   "metadata": {},
   "source": [
    "##### MatplotLib "
   ]
  },
  {
   "cell_type": "code",
   "execution_count": null,
   "metadata": {
    "collapsed": true
   },
   "outputs": [],
   "source": [
    "plt.style.use('ggplot')\n",
    "plt.rcParams['figure.figsize'] = (100, 50)\n",
    "# plot the data\n",
    "plt.plot(dfip['Year'],dfip['Total Population'],color ='blue') \n",
    "# We change the fontsize of minor ticks label \n",
    "plt.xticks(fontsize=30)\n",
    "plt.yticks(fontsize=30)\n",
    "plt.title('Total Population in Irealnd from 1960 -2017', fontsize= 15)\n",
    "plt.xlabel('Year', fontsize= 15)\n",
    "plt.ylabel('Total Population', fontsize= 15)\n",
    "plt.grid(which='both')\n",
    "plt.show()"
   ]
  },
  {
   "cell_type": "code",
   "execution_count": null,
   "metadata": {
    "collapsed": true
   },
   "outputs": [],
   "source": [
    "plt.rcParams['figure.figsize'] = (20, 10)\n",
    "dfip.hist(column=\"Total Population\",        # Column to plot\n",
    "              figsize=(20,20),         # Plot size\n",
    "              color=\"blue\",          # Plot color\n",
    "              bins= 5)#,               # Use 50 bins\n",
    "              #range= (0,3.5))        # Limit x-axis range"
   ]
  },
  {
   "cell_type": "markdown",
   "metadata": {},
   "source": [
    "###### Seaborne"
   ]
  },
  {
   "cell_type": "code",
   "execution_count": null,
   "metadata": {
    "collapsed": true
   },
   "outputs": [],
   "source": [
    "sns.set(style=\"whitegrid\")\n",
    "# Initialize the matplotlib figure\n",
    "f, ax = plt.subplots(figsize=(30, 4))\n",
    "\n",
    "# Plot the total crashes\n",
    "sns.set_color_codes(\"deep\")\n",
    "sns.lineplot(x=\"Year\", y=\"Total Population\", data=dfip, color=\"r\")\n",
    "#sns.despine()\n",
    "plt.title('Total Population in Irealnd from 1960 -2017', fontsize= 15)\n",
    "plt.xlabel('Year', fontsize= 15)\n",
    "plt.ylabel('Total Population', fontsize= 15)\n",
    "plt.show()"
   ]
  },
  {
   "cell_type": "markdown",
   "metadata": {},
   "source": [
    "https://stackoverflow.com/questions/48225888/matplotlib-finance-candlestick-ohlc-plot-intraday-1min-bar-data-with-time-breaks\n",
    "\n",
    "https://jakevdp.github.io/PythonDataScienceHandbook/04.08-multiple-subplots.html\n",
    "\n"
   ]
  },
  {
   "cell_type": "code",
   "execution_count": null,
   "metadata": {
    "collapsed": true
   },
   "outputs": [],
   "source": [
    "\n",
    "f, (ax1, ax2) = plt.subplots(2,figsize=(50, 10))\n",
    "sns.boxplot(x= \"Total Population\", data=dfip, ax=ax1)\n",
    "sns.lineplot(x=\"Year\", y=\"Total Population\", data=dfip, ax=ax2)"
   ]
  },
  {
   "cell_type": "code",
   "execution_count": null,
   "metadata": {
    "collapsed": true
   },
   "outputs": [],
   "source": [
    "y_title_margin = 1.2\n",
    "sns.set(style=\"white\",palette='muted', color_codes=True)\n",
    "    #rs = np.random.RandomState(10)\n",
    "\n",
    "    # Set up the matplotlib figure\n",
    "f, (ax1,ax2,ax3) = plt.subplots(nrows = 3,figsize=(12, 10), sharex=True)\n",
    "left   =  0.125  # the left side of the subplots of the figure\n",
    "right  =  0.9    # the right side of the subplots of the figure\n",
    "bottom =  0.1    # the bottom of the subplots of the figure\n",
    "top    =  0.9    # the top of the subplots of the figure\n",
    "wspace =  .5     # the amount of width reserved for blank space between subplots\n",
    "hspace =  1.1    # the amount of height reserved for white space between subplots\n",
    "\n",
    "    # This function actually adjusts the sub plots using the above paramters\n",
    "plt.subplots_adjust(\n",
    "    left    =  left, \n",
    "    bottom  =  bottom, \n",
    "    right   =  right, \n",
    "    top     =  top, \n",
    "    wspace  =  wspace, \n",
    "    hspace  =  hspace\n",
    ")\n",
    "sns.despine(left=True)\n",
    "\n",
    "#facetgrid\n",
    "facet = sns.FacetGrid(dfip, hue=\"PROC_FLAGS\", palette = \"Set1\");\n",
    "# #ax1\n",
    "facet.map(sns.kdeplot,'Total Population',shade= True , bw = 30, kernel='gau', ax = ax1);\n",
    "#ax2\n",
    "facet.map(sns.kdeplot,'COV_ALLW_CONTR_AMT_sum',shade= True,bw = 20, ax = ax2);\n",
    "#ax3\n",
    "facet.map(sns.kdeplot,'chrg_allw_sum_diff',shade= True, bw = 30,ax = ax3);\n",
    "\n",
    "#setting stitle name\n",
    "ax1.set_title(\"Sum of Charge amount\",  y = y_title_margin, fontsize=14)\n",
    "ax2.set_title(\"Sum of Allowed amount\", y = y_title_margin, fontsize=14)\n",
    "ax3.set_title(\"Difference between 'Sum of Charge amount' and 'Sum of Allowed amount'\",  y = y_title_margin, fontsize=14)\n",
    "\n",
    "#ax1\n",
    "ax1.set_xlabel(\"Dollars\")\n",
    "ax1.set_ylabel(\"Probability Distribution\")\n",
    "ax1.set_xlim(-200,300)\n",
    "ax1.set_ylim(0,0.018)\n",
    "# title\n",
    "new_title = 'Type of Claim'\n",
    "ax1.legend_.set_title(new_title)\n",
    "# replace labels\n",
    "new_labels = ['Non-resubmitted','Resubmitted']\n",
    "for t, l in zip(ax1.legend_.texts, new_labels): t.set_text(l)\n",
    "\n",
    "#ax2\n",
    "\n",
    "ax2.set_xlabel(\"Dollars\")\n",
    "ax2.set_ylabel(\"Probability Distribution\")\n",
    "ax2.set_xlim(-200,300)\n",
    "ax2.set_ylim(0,0.018)\n",
    "#title\n",
    "new_title = 'Type of Claim'\n",
    "ax2.legend_.set_title(new_title)\n",
    "# replace labels\n",
    "new_labels = ['Non-resubmitted','Resubmitted']\n",
    "for t, l in zip(ax2.legend_.texts, new_labels): t.set_text(l)\n",
    "#ax3\n",
    "ax3.set_xlabel(\"Dollars\")\n",
    "ax3.set_ylabel(\"Probability Distribution\")\n",
    "ax3.set_xlim(-200,300)\n",
    "ax3.set_ylim(0,0.018)\n",
    "#title\n",
    "new_title = 'Type of Claim'\n",
    "ax3.legend_.set_title(new_title)\n",
    "# replace labels\n",
    "new_labels = ['Non-resubmitted','Resubmitted']\n",
    "for t, l in zip(ax3.legend_.texts, new_labels): t.set_text(l)\n",
    "\n",
    "plt.tight_layout()\n",
    "plt.close()\n",
    "\n"
   ]
  }
 ],
 "metadata": {
  "kernelspec": {
   "display_name": "Python 3",
   "language": "python",
   "name": "python3"
  },
  "language_info": {
   "codemirror_mode": {
    "name": "ipython",
    "version": 3
   },
   "file_extension": ".py",
   "mimetype": "text/x-python",
   "name": "python",
   "nbconvert_exporter": "python",
   "pygments_lexer": "ipython3",
   "version": "3.6.2"
  }
 },
 "nbformat": 4,
 "nbformat_minor": 2
}
